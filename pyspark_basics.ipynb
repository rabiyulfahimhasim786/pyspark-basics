{
  "nbformat": 4,
  "nbformat_minor": 0,
  "metadata": {
    "colab": {
      "provenance": [],
      "include_colab_link": true
    },
    "kernelspec": {
      "name": "python3",
      "display_name": "Python 3"
    },
    "language_info": {
      "name": "python"
    }
  },
  "cells": [
    {
      "cell_type": "markdown",
      "metadata": {
        "id": "view-in-github",
        "colab_type": "text"
      },
      "source": [
        "<a href=\"https://colab.research.google.com/github/rabiyulfahimhasim786/pyspark-basics/blob/main/pyspark_basics.ipynb\" target=\"_parent\"><img src=\"https://colab.research.google.com/assets/colab-badge.svg\" alt=\"Open In Colab\"/></a>"
      ]
    },
    {
      "cell_type": "code",
      "execution_count": null,
      "metadata": {
        "colab": {
          "base_uri": "https://localhost:8080/"
        },
        "id": "W-GD2ZJJLP9i",
        "outputId": "f4e91618-0597-4efa-a1d7-8f1c516e30c1"
      },
      "outputs": [
        {
          "output_type": "stream",
          "name": "stdout",
          "text": [
            "Looking in indexes: https://pypi.org/simple, https://us-python.pkg.dev/colab-wheels/public/simple/\n",
            "Collecting pyspark\n",
            "  Downloading pyspark-3.3.2.tar.gz (281.4 MB)\n",
            "\u001b[2K     \u001b[90m━━━━━━━━━━━━━━━━━━━━━━━━━━━━━━━━━━━━━━━\u001b[0m \u001b[32m281.4/281.4 MB\u001b[0m \u001b[31m4.6 MB/s\u001b[0m eta \u001b[36m0:00:00\u001b[0m\n",
            "\u001b[?25h  Preparing metadata (setup.py) ... \u001b[?25l\u001b[?25hdone\n",
            "Collecting py4j==0.10.9.5\n",
            "  Downloading py4j-0.10.9.5-py2.py3-none-any.whl (199 kB)\n",
            "\u001b[2K     \u001b[90m━━━━━━━━━━━━━━━━━━━━━━━━━━━━━━━━━━━━━━\u001b[0m \u001b[32m199.7/199.7 KB\u001b[0m \u001b[31m14.2 MB/s\u001b[0m eta \u001b[36m0:00:00\u001b[0m\n",
            "\u001b[?25hBuilding wheels for collected packages: pyspark\n",
            "  Building wheel for pyspark (setup.py) ... \u001b[?25l\u001b[?25hdone\n",
            "  Created wheel for pyspark: filename=pyspark-3.3.2-py2.py3-none-any.whl size=281824028 sha256=c4930557a85a87fea1277d9dedeb854d2bd2c6f854cf7e476c7dee3b1e6e37fd\n",
            "  Stored in directory: /root/.cache/pip/wheels/6c/e3/9b/0525ce8a69478916513509d43693511463c6468db0de237c86\n",
            "Successfully built pyspark\n",
            "Installing collected packages: py4j, pyspark\n",
            "  Attempting uninstall: py4j\n",
            "    Found existing installation: py4j 0.10.9.7\n",
            "    Uninstalling py4j-0.10.9.7:\n",
            "      Successfully uninstalled py4j-0.10.9.7\n",
            "Successfully installed py4j-0.10.9.5 pyspark-3.3.2\n",
            "The following additional packages will be installed:\n",
            "  openjdk-8-jre-headless\n",
            "Suggested packages:\n",
            "  openjdk-8-demo openjdk-8-source libnss-mdns fonts-dejavu-extra\n",
            "  fonts-ipafont-gothic fonts-ipafont-mincho fonts-wqy-microhei\n",
            "  fonts-wqy-zenhei fonts-indic\n",
            "The following NEW packages will be installed:\n",
            "  openjdk-8-jdk-headless openjdk-8-jre-headless\n",
            "0 upgraded, 2 newly installed, 0 to remove and 23 not upgraded.\n",
            "Need to get 36.5 MB of archives.\n",
            "After this operation, 144 MB of additional disk space will be used.\n",
            "Selecting previously unselected package openjdk-8-jre-headless:amd64.\n",
            "(Reading database ... 128285 files and directories currently installed.)\n",
            "Preparing to unpack .../openjdk-8-jre-headless_8u362-ga-0ubuntu1~20.04.1_amd64.deb ...\n",
            "Unpacking openjdk-8-jre-headless:amd64 (8u362-ga-0ubuntu1~20.04.1) ...\n",
            "Selecting previously unselected package openjdk-8-jdk-headless:amd64.\n",
            "Preparing to unpack .../openjdk-8-jdk-headless_8u362-ga-0ubuntu1~20.04.1_amd64.deb ...\n",
            "Unpacking openjdk-8-jdk-headless:amd64 (8u362-ga-0ubuntu1~20.04.1) ...\n",
            "Setting up openjdk-8-jre-headless:amd64 (8u362-ga-0ubuntu1~20.04.1) ...\n",
            "update-alternatives: using /usr/lib/jvm/java-8-openjdk-amd64/jre/bin/orbd to provide /usr/bin/orbd (orbd) in auto mode\n",
            "update-alternatives: using /usr/lib/jvm/java-8-openjdk-amd64/jre/bin/servertool to provide /usr/bin/servertool (servertool) in auto mode\n",
            "update-alternatives: using /usr/lib/jvm/java-8-openjdk-amd64/jre/bin/tnameserv to provide /usr/bin/tnameserv (tnameserv) in auto mode\n",
            "Setting up openjdk-8-jdk-headless:amd64 (8u362-ga-0ubuntu1~20.04.1) ...\n",
            "update-alternatives: using /usr/lib/jvm/java-8-openjdk-amd64/bin/idlj to provide /usr/bin/idlj (idlj) in auto mode\n",
            "update-alternatives: using /usr/lib/jvm/java-8-openjdk-amd64/bin/wsimport to provide /usr/bin/wsimport (wsimport) in auto mode\n",
            "update-alternatives: using /usr/lib/jvm/java-8-openjdk-amd64/bin/jsadebugd to provide /usr/bin/jsadebugd (jsadebugd) in auto mode\n",
            "update-alternatives: using /usr/lib/jvm/java-8-openjdk-amd64/bin/native2ascii to provide /usr/bin/native2ascii (native2ascii) in auto mode\n",
            "update-alternatives: using /usr/lib/jvm/java-8-openjdk-amd64/bin/javah to provide /usr/bin/javah (javah) in auto mode\n",
            "update-alternatives: using /usr/lib/jvm/java-8-openjdk-amd64/bin/hsdb to provide /usr/bin/hsdb (hsdb) in auto mode\n",
            "update-alternatives: using /usr/lib/jvm/java-8-openjdk-amd64/bin/clhsdb to provide /usr/bin/clhsdb (clhsdb) in auto mode\n",
            "update-alternatives: using /usr/lib/jvm/java-8-openjdk-amd64/bin/xjc to provide /usr/bin/xjc (xjc) in auto mode\n",
            "update-alternatives: using /usr/lib/jvm/java-8-openjdk-amd64/bin/schemagen to provide /usr/bin/schemagen (schemagen) in auto mode\n",
            "update-alternatives: using /usr/lib/jvm/java-8-openjdk-amd64/bin/extcheck to provide /usr/bin/extcheck (extcheck) in auto mode\n",
            "update-alternatives: using /usr/lib/jvm/java-8-openjdk-amd64/bin/jhat to provide /usr/bin/jhat (jhat) in auto mode\n",
            "update-alternatives: using /usr/lib/jvm/java-8-openjdk-amd64/bin/wsgen to provide /usr/bin/wsgen (wsgen) in auto mode\n"
          ]
        }
      ],
      "source": [
        "!pip install pyspark\n",
        "!pip install -U -q PyDrive\n",
        "!apt install openjdk-8-jdk-headless -qq\n",
        "import os\n",
        "os.environ[\"JAVA_HOME\"] = \"/usr/lib/jvm/java-8-openjdk-amd64\""
      ]
    },
    {
      "cell_type": "code",
      "source": [
        "# importing module\n",
        "import pyspark\n",
        "\n",
        "# importing sparksession from pyspark.sql module\n",
        "from pyspark.sql import SparkSession\n",
        "\n",
        "# creating sparksession and giving an app name\n",
        "spark = SparkSession.builder.appName('sparkdf').getOrCreate()\n",
        "\n",
        "# list of students data\n",
        "data = [[\"1\", \"Amit\", \"DU\"],\n",
        "\t\t[\"2\", \"Mohit\", \"DU\"],\n",
        "\t\t[\"3\", \"rohith\", \"BHU\"],\n",
        "\t\t[\"4\", \"sridevi\", \"LPU\"],\n",
        "\t\t[\"1\", \"sravan\", \"KLMP\"],\n",
        "\t\t[\"5\", \"gnanesh\", \"IIT\"]]\n",
        "\n",
        "# specify column names\n",
        "columns = ['student_ID', 'student_NAME', 'college']\n",
        "\n",
        "# creating a dataframe from the lists of data\n",
        "dataframe = spark.createDataFrame(data, columns)\n",
        "\n",
        "# show dataframe\n",
        "dataframe.show()\n"
      ],
      "metadata": {
        "colab": {
          "base_uri": "https://localhost:8080/"
        },
        "id": "gzqkXoL7LU1N",
        "outputId": "ebd673eb-0b50-4249-906f-e16a42008ed8"
      },
      "execution_count": null,
      "outputs": [
        {
          "output_type": "stream",
          "name": "stdout",
          "text": [
            "+----------+------------+-------+\n",
            "|student_ID|student_NAME|college|\n",
            "+----------+------------+-------+\n",
            "|         1|        Amit|     DU|\n",
            "|         2|       Mohit|     DU|\n",
            "|         3|      rohith|    BHU|\n",
            "|         4|     sridevi|    LPU|\n",
            "|         1|      sravan|   KLMP|\n",
            "|         5|     gnanesh|    IIT|\n",
            "+----------+------------+-------+\n",
            "\n"
          ]
        }
      ]
    },
    {
      "cell_type": "markdown",
      "source": [
        "References - https://www.geeksforgeeks.org/pyspark-filter-dataframe-based-on-multiple-conditions/?ref=rp"
      ],
      "metadata": {
        "id": "AuzpZtWJL6uV"
      }
    },
    {
      "cell_type": "code",
      "source": [
        "dataframe.filter(dataframe.college == \"DU\").show()"
      ],
      "metadata": {
        "colab": {
          "base_uri": "https://localhost:8080/"
        },
        "id": "pknEkKQRLchs",
        "outputId": "1cd55883-656c-4a86-fc1b-c068c63b758e"
      },
      "execution_count": null,
      "outputs": [
        {
          "output_type": "stream",
          "name": "stdout",
          "text": [
            "+----------+------------+-------+\n",
            "|student_ID|student_NAME|college|\n",
            "+----------+------------+-------+\n",
            "|         1|        Amit|     DU|\n",
            "|         2|       Mohit|     DU|\n",
            "+----------+------------+-------+\n",
            "\n"
          ]
        }
      ]
    },
    {
      "cell_type": "code",
      "source": [
        "dataframe.filter((dataframe.college == \"DU\") &\n",
        "\t\t\t\t(dataframe.student_ID == \"1\")).show()"
      ],
      "metadata": {
        "colab": {
          "base_uri": "https://localhost:8080/"
        },
        "id": "9jLzwp4bLdsk",
        "outputId": "7e15c195-51a4-424e-a4ab-638c066b1421"
      },
      "execution_count": null,
      "outputs": [
        {
          "output_type": "stream",
          "name": "stdout",
          "text": [
            "+----------+------------+-------+\n",
            "|student_ID|student_NAME|college|\n",
            "+----------+------------+-------+\n",
            "|         1|        Amit|     DU|\n",
            "+----------+------------+-------+\n",
            "\n"
          ]
        }
      ]
    },
    {
      "cell_type": "code",
      "source": [
        "# Using SQL col() function\n",
        "from pyspark.sql.functions import col\n",
        "dataframe.filter(col(\"college\") == \"DU\").show()"
      ],
      "metadata": {
        "colab": {
          "base_uri": "https://localhost:8080/"
        },
        "id": "4CX6gKF0Le_y",
        "outputId": "c0b54788-7506-4243-b45b-246eb59be8b1"
      },
      "execution_count": null,
      "outputs": [
        {
          "output_type": "stream",
          "name": "stdout",
          "text": [
            "+----------+------------+-------+\n",
            "|student_ID|student_NAME|college|\n",
            "+----------+------------+-------+\n",
            "|         1|        Amit|     DU|\n",
            "|         2|       Mohit|     DU|\n",
            "+----------+------------+-------+\n",
            "\n"
          ]
        }
      ]
    },
    {
      "cell_type": "code",
      "source": [
        "# Using SQL col() function\n",
        "from pyspark.sql.functions import col\n",
        "\n",
        "\n",
        "dataframe.filter((col(\"college\") == \"DU\") &\n",
        "\t\t\t\t(col(\"student_NAME\") == \"Amit\")).show()"
      ],
      "metadata": {
        "colab": {
          "base_uri": "https://localhost:8080/"
        },
        "id": "o9U5rBYHLhUS",
        "outputId": "aa7962f0-6236-43f5-f832-371e42156d41"
      },
      "execution_count": null,
      "outputs": [
        {
          "output_type": "stream",
          "name": "stdout",
          "text": [
            "+----------+------------+-------+\n",
            "|student_ID|student_NAME|college|\n",
            "+----------+------------+-------+\n",
            "|         1|        Amit|     DU|\n",
            "+----------+------------+-------+\n",
            "\n"
          ]
        }
      ]
    },
    {
      "cell_type": "code",
      "source": [
        "list = [1, 2]\n",
        "dataframe.filter(dataframe.student_ID.isin(list)).show()"
      ],
      "metadata": {
        "colab": {
          "base_uri": "https://localhost:8080/"
        },
        "id": "8K3ZK3wtLim6",
        "outputId": "1c722b7d-5bfb-4b45-e074-2ca9f5e511a0"
      },
      "execution_count": null,
      "outputs": [
        {
          "output_type": "stream",
          "name": "stdout",
          "text": [
            "+----------+------------+-------+\n",
            "|student_ID|student_NAME|college|\n",
            "+----------+------------+-------+\n",
            "|         1|        Amit|     DU|\n",
            "|         2|       Mohit|     DU|\n",
            "|         1|      sravan|   KLMP|\n",
            "+----------+------------+-------+\n",
            "\n"
          ]
        }
      ]
    },
    {
      "cell_type": "code",
      "source": [
        "Id_list = [1, 2]\n",
        "college_list = ['DU','IIT']\n",
        "dataframe.filter((dataframe.student_ID.isin(Id_list)) |\n",
        "\t\t\t\t(dataframe.college.isin(college_list))).show()"
      ],
      "metadata": {
        "colab": {
          "base_uri": "https://localhost:8080/"
        },
        "id": "nL2jmHc1Lj7y",
        "outputId": "d5b567c5-1200-49d8-9f69-054b5f2a4dc2"
      },
      "execution_count": null,
      "outputs": [
        {
          "output_type": "stream",
          "name": "stdout",
          "text": [
            "+----------+------------+-------+\n",
            "|student_ID|student_NAME|college|\n",
            "+----------+------------+-------+\n",
            "|         1|        Amit|     DU|\n",
            "|         2|       Mohit|     DU|\n",
            "|         1|      sravan|   KLMP|\n",
            "|         5|     gnanesh|    IIT|\n",
            "+----------+------------+-------+\n",
            "\n"
          ]
        }
      ]
    },
    {
      "cell_type": "code",
      "source": [
        "dataframe.filter(dataframe.student_NAME.startswith('s')).show()"
      ],
      "metadata": {
        "colab": {
          "base_uri": "https://localhost:8080/"
        },
        "id": "tACJGaacLlJE",
        "outputId": "a494d539-99e8-4308-f50d-c323d54724ea"
      },
      "execution_count": null,
      "outputs": [
        {
          "output_type": "stream",
          "name": "stdout",
          "text": [
            "+----------+------------+-------+\n",
            "|student_ID|student_NAME|college|\n",
            "+----------+------------+-------+\n",
            "|         4|     sridevi|    LPU|\n",
            "|         1|      sravan|   KLMP|\n",
            "+----------+------------+-------+\n",
            "\n"
          ]
        }
      ]
    },
    {
      "cell_type": "code",
      "source": [
        "dataframe.filter(dataframe.student_NAME.endswith('t')).show()"
      ],
      "metadata": {
        "colab": {
          "base_uri": "https://localhost:8080/"
        },
        "id": "i-PxIT98LpkW",
        "outputId": "ba884f78-b2fc-4835-eebb-12508371ba02"
      },
      "execution_count": null,
      "outputs": [
        {
          "output_type": "stream",
          "name": "stdout",
          "text": [
            "+----------+------------+-------+\n",
            "|student_ID|student_NAME|college|\n",
            "+----------+------------+-------+\n",
            "|         1|        Amit|     DU|\n",
            "|         2|       Mohit|     DU|\n",
            "+----------+------------+-------+\n",
            "\n"
          ]
        }
      ]
    },
    {
      "cell_type": "code",
      "source": [
        "dataframe.filter((dataframe.student_NAME.endswith('t')) &\n",
        "\t\t\t\t(dataframe.student_NAME.startswith(\"A\"))).show()"
      ],
      "metadata": {
        "colab": {
          "base_uri": "https://localhost:8080/"
        },
        "id": "HYtPrUuDLrS8",
        "outputId": "05195e9c-31ad-4033-b1b8-cb3b35eccc86"
      },
      "execution_count": null,
      "outputs": [
        {
          "output_type": "stream",
          "name": "stdout",
          "text": [
            "+----------+------------+-------+\n",
            "|student_ID|student_NAME|college|\n",
            "+----------+------------+-------+\n",
            "|         1|        Amit|     DU|\n",
            "+----------+------------+-------+\n",
            "\n"
          ]
        }
      ]
    }
  ]
}