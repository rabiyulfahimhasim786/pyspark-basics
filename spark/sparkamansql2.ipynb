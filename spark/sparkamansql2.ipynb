{
 "cells": [
  {
   "cell_type": "code",
   "execution_count": 0,
   "metadata": {
    "application/vnd.databricks.v1+cell": {
     "cellMetadata": {
      "byteLimit": 2048000,
      "rowLimit": 10000
     },
     "inputWidgets": {},
     "nuid": "405df451-1340-4a3c-ae12-f16cfbc29a74",
     "showTitle": false,
     "title": ""
    }
   },
   "outputs": [],
   "source": [
    "from pyspark.sql import SparkSession "
   ]
  },
  {
   "cell_type": "code",
   "execution_count": 0,
   "metadata": {
    "application/vnd.databricks.v1+cell": {
     "cellMetadata": {
      "byteLimit": 2048000,
      "rowLimit": 10000
     },
     "inputWidgets": {},
     "nuid": "dcfe56db-6996-46fe-86b7-9c3a0ece0e99",
     "showTitle": false,
     "title": ""
    }
   },
   "outputs": [],
   "source": [
    "spark = SparkSession.builder.appName(\"test2\").getOrCreate()"
   ]
  },
  {
   "cell_type": "code",
   "execution_count": 0,
   "metadata": {
    "application/vnd.databricks.v1+cell": {
     "cellMetadata": {
      "byteLimit": 2048000,
      "implicitDf": true,
      "rowLimit": 10000
     },
     "inputWidgets": {},
     "nuid": "2b78854b-2b03-4966-b820-de163e1d7293",
     "showTitle": false,
     "title": ""
    }
   },
   "outputs": [
    {
     "output_type": "display_data",
     "data": {
      "text/plain": [
       "\u001B[0;31m---------------------------------------------------------------------------\u001B[0m\n",
       "\u001B[0;31mAnalysisException\u001B[0m                         Traceback (most recent call last)\n",
       "File \u001B[0;32m<command-1466998747281944>:7\u001B[0m\n",
       "\u001B[1;32m      5\u001B[0m     display(df)\n",
       "\u001B[1;32m      6\u001B[0m     \u001B[38;5;28;01mreturn\u001B[39;00m df\n",
       "\u001B[0;32m----> 7\u001B[0m   _sqldf \u001B[38;5;241m=\u001B[39m \u001B[43m____databricks_percent_sql\u001B[49m\u001B[43m(\u001B[49m\u001B[43m)\u001B[49m\n",
       "\u001B[1;32m      8\u001B[0m \u001B[38;5;28;01mfinally\u001B[39;00m:\n",
       "\u001B[1;32m      9\u001B[0m   \u001B[38;5;28;01mdel\u001B[39;00m ____databricks_percent_sql\n",
       "\n",
       "File \u001B[0;32m<command-1466998747281944>:4\u001B[0m, in \u001B[0;36m____databricks_percent_sql\u001B[0;34m()\u001B[0m\n",
       "\u001B[1;32m      2\u001B[0m \u001B[38;5;28;01mdef\u001B[39;00m \u001B[38;5;21m____databricks_percent_sql\u001B[39m():\n",
       "\u001B[1;32m      3\u001B[0m   \u001B[38;5;28;01mimport\u001B[39;00m \u001B[38;5;21;01mbase64\u001B[39;00m\n",
       "\u001B[0;32m----> 4\u001B[0m   df \u001B[38;5;241m=\u001B[39m \u001B[43mspark\u001B[49m\u001B[38;5;241;43m.\u001B[39;49m\u001B[43msql\u001B[49m\u001B[43m(\u001B[49m\u001B[43mbase64\u001B[49m\u001B[38;5;241;43m.\u001B[39;49m\u001B[43mstandard_b64decode\u001B[49m\u001B[43m(\u001B[49m\u001B[38;5;124;43m\"\u001B[39;49m\u001B[38;5;124;43mc2VsZWN0ICogZnJvbSBhbWFudGFibGU=\u001B[39;49m\u001B[38;5;124;43m\"\u001B[39;49m\u001B[43m)\u001B[49m\u001B[38;5;241;43m.\u001B[39;49m\u001B[43mdecode\u001B[49m\u001B[43m(\u001B[49m\u001B[43m)\u001B[49m\u001B[43m)\u001B[49m\n",
       "\u001B[1;32m      5\u001B[0m   display(df)\n",
       "\u001B[1;32m      6\u001B[0m   \u001B[38;5;28;01mreturn\u001B[39;00m df\n",
       "\n",
       "File \u001B[0;32m/databricks/spark/python/pyspark/instrumentation_utils.py:48\u001B[0m, in \u001B[0;36m_wrap_function.<locals>.wrapper\u001B[0;34m(*args, **kwargs)\u001B[0m\n",
       "\u001B[1;32m     46\u001B[0m start \u001B[38;5;241m=\u001B[39m time\u001B[38;5;241m.\u001B[39mperf_counter()\n",
       "\u001B[1;32m     47\u001B[0m \u001B[38;5;28;01mtry\u001B[39;00m:\n",
       "\u001B[0;32m---> 48\u001B[0m     res \u001B[38;5;241m=\u001B[39m \u001B[43mfunc\u001B[49m\u001B[43m(\u001B[49m\u001B[38;5;241;43m*\u001B[39;49m\u001B[43margs\u001B[49m\u001B[43m,\u001B[49m\u001B[43m \u001B[49m\u001B[38;5;241;43m*\u001B[39;49m\u001B[38;5;241;43m*\u001B[39;49m\u001B[43mkwargs\u001B[49m\u001B[43m)\u001B[49m\n",
       "\u001B[1;32m     49\u001B[0m     logger\u001B[38;5;241m.\u001B[39mlog_success(\n",
       "\u001B[1;32m     50\u001B[0m         module_name, class_name, function_name, time\u001B[38;5;241m.\u001B[39mperf_counter() \u001B[38;5;241m-\u001B[39m start, signature\n",
       "\u001B[1;32m     51\u001B[0m     )\n",
       "\u001B[1;32m     52\u001B[0m     \u001B[38;5;28;01mreturn\u001B[39;00m res\n",
       "\n",
       "File \u001B[0;32m/databricks/spark/python/pyspark/sql/session.py:1387\u001B[0m, in \u001B[0;36mSparkSession.sql\u001B[0;34m(self, sqlQuery, args, **kwargs)\u001B[0m\n",
       "\u001B[1;32m   1385\u001B[0m \u001B[38;5;28;01mtry\u001B[39;00m:\n",
       "\u001B[1;32m   1386\u001B[0m     litArgs \u001B[38;5;241m=\u001B[39m {k: _to_java_column(lit(v)) \u001B[38;5;28;01mfor\u001B[39;00m k, v \u001B[38;5;129;01min\u001B[39;00m (args \u001B[38;5;129;01mor\u001B[39;00m {})\u001B[38;5;241m.\u001B[39mitems()}\n",
       "\u001B[0;32m-> 1387\u001B[0m     \u001B[38;5;28;01mreturn\u001B[39;00m DataFrame(\u001B[38;5;28;43mself\u001B[39;49m\u001B[38;5;241;43m.\u001B[39;49m\u001B[43m_jsparkSession\u001B[49m\u001B[38;5;241;43m.\u001B[39;49m\u001B[43msql\u001B[49m\u001B[43m(\u001B[49m\u001B[43msqlQuery\u001B[49m\u001B[43m,\u001B[49m\u001B[43m \u001B[49m\u001B[43mlitArgs\u001B[49m\u001B[43m)\u001B[49m, \u001B[38;5;28mself\u001B[39m)\n",
       "\u001B[1;32m   1388\u001B[0m \u001B[38;5;28;01mfinally\u001B[39;00m:\n",
       "\u001B[1;32m   1389\u001B[0m     \u001B[38;5;28;01mif\u001B[39;00m \u001B[38;5;28mlen\u001B[39m(kwargs) \u001B[38;5;241m>\u001B[39m \u001B[38;5;241m0\u001B[39m:\n",
       "\n",
       "File \u001B[0;32m/databricks/spark/python/lib/py4j-0.10.9.5-src.zip/py4j/java_gateway.py:1321\u001B[0m, in \u001B[0;36mJavaMember.__call__\u001B[0;34m(self, *args)\u001B[0m\n",
       "\u001B[1;32m   1315\u001B[0m command \u001B[38;5;241m=\u001B[39m proto\u001B[38;5;241m.\u001B[39mCALL_COMMAND_NAME \u001B[38;5;241m+\u001B[39m\\\n",
       "\u001B[1;32m   1316\u001B[0m     \u001B[38;5;28mself\u001B[39m\u001B[38;5;241m.\u001B[39mcommand_header \u001B[38;5;241m+\u001B[39m\\\n",
       "\u001B[1;32m   1317\u001B[0m     args_command \u001B[38;5;241m+\u001B[39m\\\n",
       "\u001B[1;32m   1318\u001B[0m     proto\u001B[38;5;241m.\u001B[39mEND_COMMAND_PART\n",
       "\u001B[1;32m   1320\u001B[0m answer \u001B[38;5;241m=\u001B[39m \u001B[38;5;28mself\u001B[39m\u001B[38;5;241m.\u001B[39mgateway_client\u001B[38;5;241m.\u001B[39msend_command(command)\n",
       "\u001B[0;32m-> 1321\u001B[0m return_value \u001B[38;5;241m=\u001B[39m \u001B[43mget_return_value\u001B[49m\u001B[43m(\u001B[49m\n",
       "\u001B[1;32m   1322\u001B[0m \u001B[43m    \u001B[49m\u001B[43manswer\u001B[49m\u001B[43m,\u001B[49m\u001B[43m \u001B[49m\u001B[38;5;28;43mself\u001B[39;49m\u001B[38;5;241;43m.\u001B[39;49m\u001B[43mgateway_client\u001B[49m\u001B[43m,\u001B[49m\u001B[43m \u001B[49m\u001B[38;5;28;43mself\u001B[39;49m\u001B[38;5;241;43m.\u001B[39;49m\u001B[43mtarget_id\u001B[49m\u001B[43m,\u001B[49m\u001B[43m \u001B[49m\u001B[38;5;28;43mself\u001B[39;49m\u001B[38;5;241;43m.\u001B[39;49m\u001B[43mname\u001B[49m\u001B[43m)\u001B[49m\n",
       "\u001B[1;32m   1324\u001B[0m \u001B[38;5;28;01mfor\u001B[39;00m temp_arg \u001B[38;5;129;01min\u001B[39;00m temp_args:\n",
       "\u001B[1;32m   1325\u001B[0m     temp_arg\u001B[38;5;241m.\u001B[39m_detach()\n",
       "\n",
       "File \u001B[0;32m/databricks/spark/python/pyspark/errors/exceptions.py:234\u001B[0m, in \u001B[0;36mcapture_sql_exception.<locals>.deco\u001B[0;34m(*a, **kw)\u001B[0m\n",
       "\u001B[1;32m    230\u001B[0m converted \u001B[38;5;241m=\u001B[39m convert_exception(e\u001B[38;5;241m.\u001B[39mjava_exception)\n",
       "\u001B[1;32m    231\u001B[0m \u001B[38;5;28;01mif\u001B[39;00m \u001B[38;5;129;01mnot\u001B[39;00m \u001B[38;5;28misinstance\u001B[39m(converted, UnknownException):\n",
       "\u001B[1;32m    232\u001B[0m     \u001B[38;5;66;03m# Hide where the exception came from that shows a non-Pythonic\u001B[39;00m\n",
       "\u001B[1;32m    233\u001B[0m     \u001B[38;5;66;03m# JVM exception message.\u001B[39;00m\n",
       "\u001B[0;32m--> 234\u001B[0m     \u001B[38;5;28;01mraise\u001B[39;00m converted \u001B[38;5;28;01mfrom\u001B[39;00m \u001B[38;5;28mNone\u001B[39m\n",
       "\u001B[1;32m    235\u001B[0m \u001B[38;5;28;01melse\u001B[39;00m:\n",
       "\u001B[1;32m    236\u001B[0m     \u001B[38;5;28;01mraise\u001B[39;00m\n",
       "\n",
       "\u001B[0;31mAnalysisException\u001B[0m: [TABLE_OR_VIEW_NOT_FOUND] The table or view `amantable` cannot be found. Verify the spelling and correctness of the schema and catalog.\n",
       "If you did not qualify the name with a schema, verify the current_schema() output, or qualify the name with the correct schema and catalog.\n",
       "To tolerate the error on drop use DROP VIEW IF EXISTS or DROP TABLE IF EXISTS.; line 1 pos 14;\n",
       "'Project [*]\n",
       "+- 'UnresolvedRelation [amantable], [], false\n"
      ]
     },
     "metadata": {
      "application/vnd.databricks.v1+output": {
       "arguments": {},
       "data": "\u001B[0;31m---------------------------------------------------------------------------\u001B[0m\n\u001B[0;31mAnalysisException\u001B[0m                         Traceback (most recent call last)\nFile \u001B[0;32m<command-1466998747281944>:7\u001B[0m\n\u001B[1;32m      5\u001B[0m     display(df)\n\u001B[1;32m      6\u001B[0m     \u001B[38;5;28;01mreturn\u001B[39;00m df\n\u001B[0;32m----> 7\u001B[0m   _sqldf \u001B[38;5;241m=\u001B[39m \u001B[43m____databricks_percent_sql\u001B[49m\u001B[43m(\u001B[49m\u001B[43m)\u001B[49m\n\u001B[1;32m      8\u001B[0m \u001B[38;5;28;01mfinally\u001B[39;00m:\n\u001B[1;32m      9\u001B[0m   \u001B[38;5;28;01mdel\u001B[39;00m ____databricks_percent_sql\n\nFile \u001B[0;32m<command-1466998747281944>:4\u001B[0m, in \u001B[0;36m____databricks_percent_sql\u001B[0;34m()\u001B[0m\n\u001B[1;32m      2\u001B[0m \u001B[38;5;28;01mdef\u001B[39;00m \u001B[38;5;21m____databricks_percent_sql\u001B[39m():\n\u001B[1;32m      3\u001B[0m   \u001B[38;5;28;01mimport\u001B[39;00m \u001B[38;5;21;01mbase64\u001B[39;00m\n\u001B[0;32m----> 4\u001B[0m   df \u001B[38;5;241m=\u001B[39m \u001B[43mspark\u001B[49m\u001B[38;5;241;43m.\u001B[39;49m\u001B[43msql\u001B[49m\u001B[43m(\u001B[49m\u001B[43mbase64\u001B[49m\u001B[38;5;241;43m.\u001B[39;49m\u001B[43mstandard_b64decode\u001B[49m\u001B[43m(\u001B[49m\u001B[38;5;124;43m\"\u001B[39;49m\u001B[38;5;124;43mc2VsZWN0ICogZnJvbSBhbWFudGFibGU=\u001B[39;49m\u001B[38;5;124;43m\"\u001B[39;49m\u001B[43m)\u001B[49m\u001B[38;5;241;43m.\u001B[39;49m\u001B[43mdecode\u001B[49m\u001B[43m(\u001B[49m\u001B[43m)\u001B[49m\u001B[43m)\u001B[49m\n\u001B[1;32m      5\u001B[0m   display(df)\n\u001B[1;32m      6\u001B[0m   \u001B[38;5;28;01mreturn\u001B[39;00m df\n\nFile \u001B[0;32m/databricks/spark/python/pyspark/instrumentation_utils.py:48\u001B[0m, in \u001B[0;36m_wrap_function.<locals>.wrapper\u001B[0;34m(*args, **kwargs)\u001B[0m\n\u001B[1;32m     46\u001B[0m start \u001B[38;5;241m=\u001B[39m time\u001B[38;5;241m.\u001B[39mperf_counter()\n\u001B[1;32m     47\u001B[0m \u001B[38;5;28;01mtry\u001B[39;00m:\n\u001B[0;32m---> 48\u001B[0m     res \u001B[38;5;241m=\u001B[39m \u001B[43mfunc\u001B[49m\u001B[43m(\u001B[49m\u001B[38;5;241;43m*\u001B[39;49m\u001B[43margs\u001B[49m\u001B[43m,\u001B[49m\u001B[43m \u001B[49m\u001B[38;5;241;43m*\u001B[39;49m\u001B[38;5;241;43m*\u001B[39;49m\u001B[43mkwargs\u001B[49m\u001B[43m)\u001B[49m\n\u001B[1;32m     49\u001B[0m     logger\u001B[38;5;241m.\u001B[39mlog_success(\n\u001B[1;32m     50\u001B[0m         module_name, class_name, function_name, time\u001B[38;5;241m.\u001B[39mperf_counter() \u001B[38;5;241m-\u001B[39m start, signature\n\u001B[1;32m     51\u001B[0m     )\n\u001B[1;32m     52\u001B[0m     \u001B[38;5;28;01mreturn\u001B[39;00m res\n\nFile \u001B[0;32m/databricks/spark/python/pyspark/sql/session.py:1387\u001B[0m, in \u001B[0;36mSparkSession.sql\u001B[0;34m(self, sqlQuery, args, **kwargs)\u001B[0m\n\u001B[1;32m   1385\u001B[0m \u001B[38;5;28;01mtry\u001B[39;00m:\n\u001B[1;32m   1386\u001B[0m     litArgs \u001B[38;5;241m=\u001B[39m {k: _to_java_column(lit(v)) \u001B[38;5;28;01mfor\u001B[39;00m k, v \u001B[38;5;129;01min\u001B[39;00m (args \u001B[38;5;129;01mor\u001B[39;00m {})\u001B[38;5;241m.\u001B[39mitems()}\n\u001B[0;32m-> 1387\u001B[0m     \u001B[38;5;28;01mreturn\u001B[39;00m DataFrame(\u001B[38;5;28;43mself\u001B[39;49m\u001B[38;5;241;43m.\u001B[39;49m\u001B[43m_jsparkSession\u001B[49m\u001B[38;5;241;43m.\u001B[39;49m\u001B[43msql\u001B[49m\u001B[43m(\u001B[49m\u001B[43msqlQuery\u001B[49m\u001B[43m,\u001B[49m\u001B[43m \u001B[49m\u001B[43mlitArgs\u001B[49m\u001B[43m)\u001B[49m, \u001B[38;5;28mself\u001B[39m)\n\u001B[1;32m   1388\u001B[0m \u001B[38;5;28;01mfinally\u001B[39;00m:\n\u001B[1;32m   1389\u001B[0m     \u001B[38;5;28;01mif\u001B[39;00m \u001B[38;5;28mlen\u001B[39m(kwargs) \u001B[38;5;241m>\u001B[39m \u001B[38;5;241m0\u001B[39m:\n\nFile \u001B[0;32m/databricks/spark/python/lib/py4j-0.10.9.5-src.zip/py4j/java_gateway.py:1321\u001B[0m, in \u001B[0;36mJavaMember.__call__\u001B[0;34m(self, *args)\u001B[0m\n\u001B[1;32m   1315\u001B[0m command \u001B[38;5;241m=\u001B[39m proto\u001B[38;5;241m.\u001B[39mCALL_COMMAND_NAME \u001B[38;5;241m+\u001B[39m\\\n\u001B[1;32m   1316\u001B[0m     \u001B[38;5;28mself\u001B[39m\u001B[38;5;241m.\u001B[39mcommand_header \u001B[38;5;241m+\u001B[39m\\\n\u001B[1;32m   1317\u001B[0m     args_command \u001B[38;5;241m+\u001B[39m\\\n\u001B[1;32m   1318\u001B[0m     proto\u001B[38;5;241m.\u001B[39mEND_COMMAND_PART\n\u001B[1;32m   1320\u001B[0m answer \u001B[38;5;241m=\u001B[39m \u001B[38;5;28mself\u001B[39m\u001B[38;5;241m.\u001B[39mgateway_client\u001B[38;5;241m.\u001B[39msend_command(command)\n\u001B[0;32m-> 1321\u001B[0m return_value \u001B[38;5;241m=\u001B[39m \u001B[43mget_return_value\u001B[49m\u001B[43m(\u001B[49m\n\u001B[1;32m   1322\u001B[0m \u001B[43m    \u001B[49m\u001B[43manswer\u001B[49m\u001B[43m,\u001B[49m\u001B[43m \u001B[49m\u001B[38;5;28;43mself\u001B[39;49m\u001B[38;5;241;43m.\u001B[39;49m\u001B[43mgateway_client\u001B[49m\u001B[43m,\u001B[49m\u001B[43m \u001B[49m\u001B[38;5;28;43mself\u001B[39;49m\u001B[38;5;241;43m.\u001B[39;49m\u001B[43mtarget_id\u001B[49m\u001B[43m,\u001B[49m\u001B[43m \u001B[49m\u001B[38;5;28;43mself\u001B[39;49m\u001B[38;5;241;43m.\u001B[39;49m\u001B[43mname\u001B[49m\u001B[43m)\u001B[49m\n\u001B[1;32m   1324\u001B[0m \u001B[38;5;28;01mfor\u001B[39;00m temp_arg \u001B[38;5;129;01min\u001B[39;00m temp_args:\n\u001B[1;32m   1325\u001B[0m     temp_arg\u001B[38;5;241m.\u001B[39m_detach()\n\nFile \u001B[0;32m/databricks/spark/python/pyspark/errors/exceptions.py:234\u001B[0m, in \u001B[0;36mcapture_sql_exception.<locals>.deco\u001B[0;34m(*a, **kw)\u001B[0m\n\u001B[1;32m    230\u001B[0m converted \u001B[38;5;241m=\u001B[39m convert_exception(e\u001B[38;5;241m.\u001B[39mjava_exception)\n\u001B[1;32m    231\u001B[0m \u001B[38;5;28;01mif\u001B[39;00m \u001B[38;5;129;01mnot\u001B[39;00m \u001B[38;5;28misinstance\u001B[39m(converted, UnknownException):\n\u001B[1;32m    232\u001B[0m     \u001B[38;5;66;03m# Hide where the exception came from that shows a non-Pythonic\u001B[39;00m\n\u001B[1;32m    233\u001B[0m     \u001B[38;5;66;03m# JVM exception message.\u001B[39;00m\n\u001B[0;32m--> 234\u001B[0m     \u001B[38;5;28;01mraise\u001B[39;00m converted \u001B[38;5;28;01mfrom\u001B[39;00m \u001B[38;5;28mNone\u001B[39m\n\u001B[1;32m    235\u001B[0m \u001B[38;5;28;01melse\u001B[39;00m:\n\u001B[1;32m    236\u001B[0m     \u001B[38;5;28;01mraise\u001B[39;00m\n\n\u001B[0;31mAnalysisException\u001B[0m: [TABLE_OR_VIEW_NOT_FOUND] The table or view `amantable` cannot be found. Verify the spelling and correctness of the schema and catalog.\nIf you did not qualify the name with a schema, verify the current_schema() output, or qualify the name with the correct schema and catalog.\nTo tolerate the error on drop use DROP VIEW IF EXISTS or DROP TABLE IF EXISTS.; line 1 pos 14;\n'Project [*]\n+- 'UnresolvedRelation [amantable], [], false\n",
       "errorSummary": "<span class='ansi-red-fg'>AnalysisException</span>: [TABLE_OR_VIEW_NOT_FOUND] The table or view `amantable` cannot be found. Verify the spelling and correctness of the schema and catalog.\nIf you did not qualify the name with a schema, verify the current_schema() output, or qualify the name with the correct schema and catalog.\nTo tolerate the error on drop use DROP VIEW IF EXISTS or DROP TABLE IF EXISTS.; line 1 pos 14;\n'Project [*]\n+- 'UnresolvedRelation [amantable], [], false\n",
       "errorTraceType": "ansi",
       "metadata": {},
       "type": "ipynbError"
      }
     },
     "output_type": "display_data"
    }
   ],
   "source": [
    "%sql\n",
    "select * from amantable"
   ]
  },
  {
   "cell_type": "code",
   "execution_count": 0,
   "metadata": {
    "application/vnd.databricks.v1+cell": {
     "cellMetadata": {
      "byteLimit": 2048000,
      "implicitDf": true,
      "rowLimit": 10000
     },
     "inputWidgets": {},
     "nuid": "d4f5c584-7d5f-41d6-82f6-c2f1b4680d21",
     "showTitle": false,
     "title": ""
    }
   },
   "outputs": [
    {
     "output_type": "display_data",
     "data": {
      "text/html": [
       "<style scoped>\n",
       "  .table-result-container {\n",
       "    max-height: 300px;\n",
       "    overflow: auto;\n",
       "  }\n",
       "  table, th, td {\n",
       "    border: 1px solid black;\n",
       "    border-collapse: collapse;\n",
       "  }\n",
       "  th, td {\n",
       "    padding: 5px;\n",
       "  }\n",
       "  th {\n",
       "    text-align: left;\n",
       "  }\n",
       "</style><div class='table-result-container'><table class='table-result'><thead style='background-color: white'><tr><th>First Name</th><th>Gender</th><th>Start Date</th><th>Last Login Time</th><th>Salary</th><th>Bonus %</th><th>Senior Management</th><th>Team</th></tr></thead><tbody><tr><td>Douglas</td><td>Male</td><td>1993-08-06</td><td>12:42 PM</td><td>97308</td><td>6.945</td><td>true</td><td>Marketing</td></tr><tr><td>Thomas</td><td>Male</td><td>1996-03-31</td><td>6:53 AM</td><td>61933</td><td>4.17</td><td>true</td><td>null</td></tr><tr><td>Maria</td><td>Female</td><td>1993-04-23</td><td>11:17 AM</td><td>130590</td><td>11.858</td><td>false</td><td>Finance</td></tr><tr><td>Jerry</td><td>Male</td><td>2005-03-04</td><td>1:00 PM</td><td>138705</td><td>9.34</td><td>true</td><td>Finance</td></tr><tr><td>Larry</td><td>Male</td><td>1998-01-24</td><td>4:47 PM</td><td>101004</td><td>1.389</td><td>true</td><td>Client Services</td></tr><tr><td>Dennis</td><td>Male</td><td>1987-04-18</td><td>1:35 AM</td><td>115163</td><td>10.125</td><td>false</td><td>Legal</td></tr><tr><td>Ruby</td><td>Female</td><td>1987-08-17</td><td>4:20 PM</td><td>65476</td><td>10.012</td><td>true</td><td>Product</td></tr><tr><td>null</td><td>Female</td><td>2015-07-20</td><td>10:43 AM</td><td>45906</td><td>11.598</td><td>null</td><td>Finance</td></tr><tr><td>Angela</td><td>Female</td><td>2005-11-22</td><td>6:29 AM</td><td>95570</td><td>18.523</td><td>true</td><td>Engineering</td></tr><tr><td>Frances</td><td>Female</td><td>2002-08-08</td><td>6:51 AM</td><td>139852</td><td>7.524</td><td>true</td><td>Business Development</td></tr><tr><td>Louise</td><td>Female</td><td>1980-08-12</td><td>9:01 AM</td><td>63241</td><td>15.132</td><td>true</td><td>null</td></tr><tr><td>Julie</td><td>Female</td><td>1997-10-26</td><td>3:19 PM</td><td>102508</td><td>12.637</td><td>true</td><td>Legal</td></tr><tr><td>Brandon</td><td>Male</td><td>1980-12-01</td><td>1:08 AM</td><td>112807</td><td>17.492</td><td>true</td><td>Human Resources</td></tr><tr><td>Gary</td><td>Male</td><td>2008-01-27</td><td>11:40 PM</td><td>109831</td><td>5.831</td><td>false</td><td>Sales</td></tr><tr><td>Kimberly</td><td>Female</td><td>1999-01-14</td><td>7:13 AM</td><td>41426</td><td>14.543</td><td>true</td><td>Finance</td></tr><tr><td>Lillian</td><td>Female</td><td>2016-06-05</td><td>6:09 AM</td><td>59414</td><td>1.256</td><td>false</td><td>Product</td></tr><tr><td>Jeremy</td><td>Male</td><td>2010-09-21</td><td>5:56 AM</td><td>90370</td><td>7.369</td><td>false</td><td>Human Resources</td></tr><tr><td>Shawn</td><td>Male</td><td>1986-12-07</td><td>7:45 PM</td><td>111737</td><td>6.414</td><td>false</td><td>Product</td></tr><tr><td>Diana</td><td>Female</td><td>1981-10-23</td><td>10:27 AM</td><td>132940</td><td>19.082</td><td>false</td><td>Client Services</td></tr><tr><td>Donna</td><td>Female</td><td>2010-07-22</td><td>3:48 AM</td><td>81014</td><td>1.894</td><td>false</td><td>Product</td></tr><tr><td>Lois</td><td>null</td><td>1995-04-22</td><td>7:18 PM</td><td>64714</td><td>4.934</td><td>true</td><td>Legal</td></tr><tr><td>Matthew</td><td>Male</td><td>1995-09-05</td><td>2:12 AM</td><td>100612</td><td>13.645</td><td>false</td><td>Marketing</td></tr><tr><td>Joshua</td><td>null</td><td>2012-03-08</td><td>1:58 AM</td><td>90816</td><td>18.816</td><td>true</td><td>Client Services</td></tr><tr><td>null</td><td>Male</td><td>2012-06-14</td><td>4:19 PM</td><td>125792</td><td>5.042</td><td>null</td><td>null</td></tr><tr><td>John</td><td>Male</td><td>1992-07-01</td><td>10:08 PM</td><td>97950</td><td>13.873</td><td>false</td><td>Client Services</td></tr><tr><td>null</td><td>Male</td><td>2012-10-08</td><td>1:12 AM</td><td>37076</td><td>18.576</td><td>null</td><td>Client Services</td></tr><tr><td>Craig</td><td>Male</td><td>2000-02-27</td><td>7:45 AM</td><td>37598</td><td>7.757</td><td>true</td><td>Marketing</td></tr><tr><td>Scott</td><td>null</td><td>1991-07-11</td><td>6:58 PM</td><td>122367</td><td>5.218</td><td>false</td><td>Legal</td></tr><tr><td>Terry</td><td>Male</td><td>1981-11-27</td><td>6:30 PM</td><td>124008</td><td>13.464</td><td>true</td><td>Client Services</td></tr><tr><td>Benjamin</td><td>Male</td><td>2005-01-26</td><td>10:06 PM</td><td>79529</td><td>7.008</td><td>true</td><td>Legal</td></tr><tr><td>Christina</td><td>Female</td><td>2002-08-06</td><td>1:19 PM</td><td>118780</td><td>9.096</td><td>true</td><td>Engineering</td></tr><tr><td>Joyce</td><td>null</td><td>2005-02-20</td><td>2:40 PM</td><td>88657</td><td>12.752</td><td>false</td><td>Product</td></tr><tr><td>null</td><td>Male</td><td>1998-08-21</td><td>2:27 PM</td><td>122340</td><td>6.417</td><td>null</td><td>null</td></tr><tr><td>Jean</td><td>Female</td><td>1993-12-18</td><td>9:07 AM</td><td>119082</td><td>16.18</td><td>false</td><td>Business Development</td></tr><tr><td>Jerry</td><td>Male</td><td>2004-01-10</td><td>12:56 PM</td><td>95734</td><td>19.096</td><td>false</td><td>Client Services</td></tr><tr><td>Theresa</td><td>Female</td><td>2006-10-10</td><td>1:12 AM</td><td>85182</td><td>16.675</td><td>false</td><td>Sales</td></tr><tr><td>Rachel</td><td>Female</td><td>2009-02-16</td><td>8:47 PM</td><td>142032</td><td>12.599</td><td>false</td><td>Business Development</td></tr><tr><td>Linda</td><td>Female</td><td>1981-10-19</td><td>8:49 PM</td><td>57427</td><td>9.557</td><td>true</td><td>Client Services</td></tr><tr><td>Stephanie</td><td>Female</td><td>1986-09-13</td><td>1:52 AM</td><td>36844</td><td>5.574</td><td>true</td><td>Business Development</td></tr><tr><td>null</td><td>Male</td><td>2016-01-29</td><td>2:33 AM</td><td>122173</td><td>7.797</td><td>null</td><td>Client Services</td></tr><tr><td>Michael</td><td>Male</td><td>2008-10-10</td><td>11:25 AM</td><td>99283</td><td>2.665</td><td>true</td><td>Distribution</td></tr><tr><td>Christine</td><td>null</td><td>2015-06-28</td><td>1:08 AM</td><td>66582</td><td>11.308</td><td>true</td><td>Business Development</td></tr><tr><td>Beverly</td><td>Female</td><td>1998-09-09</td><td>8:26 PM</td><td>121918</td><td>15.835</td><td>false</td><td>Legal</td></tr><tr><td>Marilyn</td><td>Female</td><td>1980-12-07</td><td>3:16 AM</td><td>73524</td><td>5.207</td><td>true</td><td>Marketing</td></tr><tr><td>Cynthia</td><td>Female</td><td>1988-11-16</td><td>6:54 PM</td><td>145146</td><td>7.482</td><td>true</td><td>Product</td></tr><tr><td>Roger</td><td>Male</td><td>1980-04-17</td><td>11:32 AM</td><td>88010</td><td>13.886</td><td>true</td><td>Sales</td></tr><tr><td>Bruce</td><td>Male</td><td>2009-11-28</td><td>10:47 PM</td><td>114796</td><td>6.796</td><td>false</td><td>Finance</td></tr><tr><td>Kathy</td><td>Female</td><td>2005-06-22</td><td>4:51 AM</td><td>66820</td><td>9.0</td><td>true</td><td>Client Services</td></tr><tr><td>Clarence</td><td>Male</td><td>1996-03-26</td><td>5:57 AM</td><td>93581</td><td>6.083</td><td>true</td><td>Business Development</td></tr><tr><td>Chris</td><td>null</td><td>1980-01-24</td><td>12:13 PM</td><td>113590</td><td>3.055</td><td>false</td><td>Sales</td></tr><tr><td>Nancy</td><td>Female</td><td>2000-09-23</td><td>8:05 AM</td><td>94976</td><td>13.83</td><td>true</td><td>Engineering</td></tr><tr><td>null</td><td>null</td><td>2011-12-17</td><td>8:29 AM</td><td>41126</td><td>14.009</td><td>null</td><td>Sales</td></tr><tr><td>Todd</td><td>Male</td><td>1990-02-18</td><td>2:41 AM</td><td>49339</td><td>1.695</td><td>true</td><td>Human Resources</td></tr><tr><td>Alan</td><td>null</td><td>2014-03-03</td><td>1:28 PM</td><td>40341</td><td>17.578</td><td>true</td><td>Finance</td></tr><tr><td>Sara</td><td>Female</td><td>2007-08-15</td><td>9:23 AM</td><td>83677</td><td>8.999</td><td>false</td><td>Engineering</td></tr><tr><td>Karen</td><td>Female</td><td>1999-11-30</td><td>7:46 AM</td><td>102488</td><td>17.653</td><td>true</td><td>Product</td></tr><tr><td>Carl</td><td>Male</td><td>2006-05-03</td><td>5:55 PM</td><td>130276</td><td>16.084</td><td>true</td><td>Finance</td></tr><tr><td>Henry</td><td>Male</td><td>1996-06-26</td><td>1:44 AM</td><td>64715</td><td>15.107</td><td>true</td><td>Human Resources</td></tr><tr><td>Theresa</td><td>Female</td><td>2010-04-11</td><td>7:18 AM</td><td>72670</td><td>1.481</td><td>true</td><td>Engineering</td></tr><tr><td>Irene</td><td>Female</td><td>1997-05-07</td><td>9:32 AM</td><td>66851</td><td>11.279</td><td>false</td><td>Engineering</td></tr><tr><td>Paula</td><td>null</td><td>2005-11-23</td><td>2:01 PM</td><td>48866</td><td>4.271</td><td>false</td><td>Distribution</td></tr><tr><td>Denise</td><td>Female</td><td>2001-11-06</td><td>12:03 PM</td><td>106862</td><td>3.699</td><td>false</td><td>Business Development</td></tr><tr><td>null</td><td>Female</td><td>2007-06-12</td><td>5:25 PM</td><td>58112</td><td>19.414</td><td>null</td><td>Marketing</td></tr><tr><td>Matthew</td><td>Male</td><td>2013-01-02</td><td>10:33 PM</td><td>35203</td><td>18.04</td><td>false</td><td>Human Resources</td></tr><tr><td>Kathleen</td><td>null</td><td>1990-04-11</td><td>6:46 PM</td><td>77834</td><td>18.771</td><td>false</td><td>Business Development</td></tr><tr><td>Steve</td><td>Male</td><td>2009-11-11</td><td>11:44 PM</td><td>61310</td><td>12.428</td><td>true</td><td>Distribution</td></tr><tr><td>Nancy</td><td>Female</td><td>2012-12-15</td><td>11:57 PM</td><td>125250</td><td>2.672</td><td>true</td><td>Business Development</td></tr><tr><td>Rachel</td><td>Female</td><td>1999-08-16</td><td>6:53 AM</td><td>51178</td><td>9.735</td><td>true</td><td>Finance</td></tr><tr><td>Jose</td><td>Male</td><td>2004-10-30</td><td>1:39 PM</td><td>84834</td><td>14.33</td><td>true</td><td>Finance</td></tr><tr><td>Irene</td><td>null</td><td>2015-07-14</td><td>4:31 PM</td><td>100863</td><td>4.382</td><td>true</td><td>Finance</td></tr><tr><td>Todd</td><td>null</td><td>2003-06-10</td><td>2:26 PM</td><td>84692</td><td>6.617</td><td>false</td><td>Client Services</td></tr><tr><td>Johnny</td><td>Male</td><td>2009-11-06</td><td>4:23 PM</td><td>118172</td><td>16.194</td><td>true</td><td>Sales</td></tr><tr><td>Bobby</td><td>Male</td><td>2007-05-07</td><td>10:01 AM</td><td>54043</td><td>3.833</td><td>false</td><td>Product</td></tr><tr><td>Frances</td><td>Female</td><td>1999-04-04</td><td>4:19 PM</td><td>90582</td><td>4.709</td><td>true</td><td>Sales</td></tr><tr><td>Thomas</td><td>Male</td><td>1995-06-04</td><td>2:24 PM</td><td>62096</td><td>17.029</td><td>false</td><td>Marketing</td></tr><tr><td>Bonnie</td><td>Female</td><td>1991-07-02</td><td>1:27 AM</td><td>104897</td><td>5.118</td><td>true</td><td>Human Resources</td></tr><tr><td>Margaret</td><td>Female</td><td>1988-09-10</td><td>12:42 PM</td><td>131604</td><td>7.353</td><td>true</td><td>Distribution</td></tr><tr><td>Charles</td><td>Male</td><td>2004-09-14</td><td>8:13 PM</td><td>107391</td><td>1.26</td><td>true</td><td>Marketing</td></tr><tr><td>Robin</td><td>Female</td><td>1983-06-04</td><td>3:15 PM</td><td>114797</td><td>5.965</td><td>true</td><td>Sales</td></tr><tr><td>Bonnie</td><td>Female</td><td>1988-11-13</td><td>3:30 PM</td><td>115814</td><td>4.99</td><td>false</td><td>Product</td></tr><tr><td>Gerald</td><td>null</td><td>1995-03-17</td><td>12:50 AM</td><td>137126</td><td>15.602</td><td>true</td><td>Sales</td></tr><tr><td>Christopher</td><td>Male</td><td>2008-03-30</td><td>10:52 AM</td><td>47369</td><td>14.822</td><td>false</td><td>Legal</td></tr><tr><td>Steven</td><td>Male</td><td>1980-03-30</td><td>9:20 PM</td><td>35095</td><td>8.379</td><td>true</td><td>Client Services</td></tr><tr><td>Shawn</td><td>Male</td><td>2005-09-23</td><td>2:55 AM</td><td>148115</td><td>6.539</td><td>true</td><td>Finance</td></tr><tr><td>Doris</td><td>Female</td><td>2004-08-20</td><td>5:51 AM</td><td>83072</td><td>7.511</td><td>false</td><td>Finance</td></tr><tr><td>Jeremy</td><td>Male</td><td>2008-02-01</td><td>8:50 AM</td><td>100238</td><td>3.887</td><td>true</td><td>Client Services</td></tr><tr><td>Annie</td><td>null</td><td>2007-09-29</td><td>12:11 AM</td><td>103495</td><td>17.29</td><td>true</td><td>Business Development</td></tr><tr><td>Annie</td><td>Female</td><td>1993-01-30</td><td>2:05 AM</td><td>144887</td><td>8.276</td><td>true</td><td>Sales</td></tr><tr><td>Donna</td><td>Female</td><td>1991-11-27</td><td>1:59 PM</td><td>64088</td><td>6.155</td><td>true</td><td>Legal</td></tr><tr><td>Janice</td><td>Female</td><td>2016-03-12</td><td>12:40 AM</td><td>51082</td><td>11.955</td><td>false</td><td>Legal</td></tr><tr><td>Janice</td><td>null</td><td>1997-08-21</td><td>5:12 AM</td><td>91719</td><td>11.583</td><td>true</td><td>Legal</td></tr><tr><td>James</td><td>null</td><td>2005-01-26</td><td>11:00 PM</td><td>128771</td><td>8.309</td><td>false</td><td>null</td></tr><tr><td>Linda</td><td>Female</td><td>2000-05-25</td><td>5:45 PM</td><td>119009</td><td>12.506</td><td>true</td><td>Business Development</td></tr><tr><td>Virginia</td><td>null</td><td>1994-05-07</td><td>5:58 PM</td><td>111858</td><td>1.601</td><td>true</td><td>Legal</td></tr><tr><td>Harry</td><td>Male</td><td>1981-08-26</td><td>3:16 PM</td><td>130620</td><td>7.03</td><td>false</td><td>Legal</td></tr><tr><td>Heather</td><td>Female</td><td>1998-07-11</td><td>2:17 PM</td><td>43026</td><td>14.166</td><td>false</td><td>Client Services</td></tr><tr><td>Cynthia</td><td>Female</td><td>1994-03-21</td><td>8:34 AM</td><td>142321</td><td>1.737</td><td>false</td><td>Finance</td></tr><tr><td>Laura</td><td>null</td><td>2014-07-19</td><td>9:23 PM</td><td>140371</td><td>10.62</td><td>true</td><td>Marketing</td></tr><tr><td>Tina</td><td>Female</td><td>2016-06-16</td><td>7:47 PM</td><td>100705</td><td>16.961</td><td>true</td><td>Marketing</td></tr><tr><td>Harold</td><td>Male</td><td>1985-01-02</td><td>9:40 PM</td><td>77544</td><td>12.447</td><td>false</td><td>Business Development</td></tr><tr><td>Melissa</td><td>Female</td><td>2005-06-21</td><td>6:33 AM</td><td>48109</td><td>14.995</td><td>false</td><td>Finance</td></tr><tr><td>Aaron</td><td>Male</td><td>2012-02-17</td><td>10:20 AM</td><td>61602</td><td>11.849</td><td>true</td><td>Marketing</td></tr><tr><td>Jack</td><td>Male</td><td>1997-01-12</td><td>5:51 AM</td><td>103902</td><td>12.159</td><td>false</td><td>Client Services</td></tr><tr><td>Phyllis</td><td>Female</td><td>1996-10-11</td><td>9:30 PM</td><td>136984</td><td>8.932</td><td>true</td><td>Finance</td></tr><tr><td>John</td><td>Male</td><td>1989-12-23</td><td>7:01 AM</td><td>80740</td><td>19.305</td><td>false</td><td>Marketing</td></tr><tr><td>Kathy</td><td>Female</td><td>1996-03-09</td><td>4:33 AM</td><td>91712</td><td>8.567</td><td>false</td><td>Finance</td></tr><tr><td>Paul</td><td>Male</td><td>1993-08-04</td><td>7:25 PM</td><td>42146</td><td>3.046</td><td>false</td><td>Legal</td></tr><tr><td>Steven</td><td>Male</td><td>2013-04-23</td><td>10:12 PM</td><td>68680</td><td>16.565</td><td>false</td><td>Legal</td></tr><tr><td>Russell</td><td>null</td><td>1988-05-05</td><td>7:57 AM</td><td>133980</td><td>12.396</td><td>true</td><td>Legal</td></tr><tr><td>Christopher</td><td>Male</td><td>2000-04-22</td><td>10:15 AM</td><td>37919</td><td>11.449</td><td>false</td><td>null</td></tr><tr><td>Shirley</td><td>Female</td><td>2001-06-20</td><td>10:39 PM</td><td>147113</td><td>16.135</td><td>false</td><td>Legal</td></tr><tr><td>Bonnie</td><td>Female</td><td>1999-12-17</td><td>3:12 PM</td><td>42153</td><td>8.454</td><td>true</td><td>Business Development</td></tr><tr><td>Willie</td><td>Male</td><td>2003-11-27</td><td>6:21 AM</td><td>64363</td><td>4.023</td><td>false</td><td>Marketing</td></tr><tr><td>Tina</td><td>Female</td><td>2009-06-12</td><td>7:16 AM</td><td>114767</td><td>3.711</td><td>true</td><td>Engineering</td></tr><tr><td>Ashley</td><td>Female</td><td>2002-08-04</td><td>11:00 AM</td><td>58698</td><td>6.811</td><td>true</td><td>Business Development</td></tr><tr><td>Pamela</td><td>Female</td><td>1982-07-01</td><td>6:51 AM</td><td>54585</td><td>4.166</td><td>false</td><td>Product</td></tr><tr><td>null</td><td>Male</td><td>1991-06-22</td><td>8:58 PM</td><td>76189</td><td>18.988</td><td>null</td><td>Legal</td></tr><tr><td>Steven</td><td>Male</td><td>1995-03-01</td><td>3:03 PM</td><td>109095</td><td>9.494</td><td>false</td><td>Finance</td></tr><tr><td>Andrea</td><td>Female</td><td>2012-01-12</td><td>5:43 AM</td><td>120204</td><td>9.557</td><td>false</td><td>Business Development</td></tr><tr><td>Paul</td><td>Male</td><td>2008-06-03</td><td>3:05 PM</td><td>41054</td><td>12.299</td><td>false</td><td>Marketing</td></tr><tr><td>Peter</td><td>Male</td><td>1994-11-17</td><td>6:15 PM</td><td>84885</td><td>15.402</td><td>false</td><td>Business Development</td></tr><tr><td>Kathleen</td><td>null</td><td>2016-05-09</td><td>8:55 AM</td><td>119735</td><td>18.74</td><td>false</td><td>Product</td></tr><tr><td>Christina</td><td>Female</td><td>2012-04-13</td><td>2:04 PM</td><td>110169</td><td>13.892</td><td>true</td><td>Engineering</td></tr><tr><td>Helen</td><td>Female</td><td>2001-11-29</td><td>2:30 AM</td><td>73789</td><td>14.841</td><td>true</td><td>Product</td></tr><tr><td>Marilyn</td><td>Female</td><td>1983-11-16</td><td>8:29 AM</td><td>76078</td><td>2.401</td><td>true</td><td>Product</td></tr><tr><td>Patricia</td><td>Female</td><td>2003-09-01</td><td>6:46 AM</td><td>49368</td><td>14.226</td><td>false</td><td>Human Resources</td></tr><tr><td>Michelle</td><td>Female</td><td>1984-03-30</td><td>6:43 PM</td><td>57325</td><td>17.179</td><td>true</td><td>Human Resources</td></tr><tr><td>William</td><td>Male</td><td>2002-09-29</td><td>4:09 PM</td><td>66521</td><td>5.83</td><td>false</td><td>Human Resources</td></tr><tr><td>Kenneth</td><td>Male</td><td>1987-08-25</td><td>9:16 PM</td><td>127654</td><td>16.439</td><td>true</td><td>Client Services</td></tr><tr><td>Antonio</td><td>Male</td><td>1988-10-25</td><td>1:50 PM</td><td>60866</td><td>13.101</td><td>true</td><td>Business Development</td></tr><tr><td>Shirley</td><td>Female</td><td>1984-05-01</td><td>1:15 PM</td><td>41334</td><td>6.219</td><td>true</td><td>Human Resources</td></tr><tr><td>Rebecca</td><td>Female</td><td>1992-07-10</td><td>12:23 AM</td><td>94231</td><td>17.517</td><td>false</td><td>Product</td></tr><tr><td>Carlos</td><td>Male</td><td>1995-01-04</td><td>7:02 AM</td><td>146670</td><td>10.763</td><td>false</td><td>Human Resources</td></tr><tr><td>Lois</td><td>Female</td><td>1987-12-25</td><td>4:16 PM</td><td>106317</td><td>2.235</td><td>true</td><td>Client Services</td></tr><tr><td>Carolyn</td><td>Female</td><td>2011-04-09</td><td>5:38 AM</td><td>109260</td><td>2.65</td><td>true</td><td>Business Development</td></tr><tr><td>Gloria</td><td>Female</td><td>2007-06-29</td><td>5:34 AM</td><td>134148</td><td>8.833</td><td>true</td><td>Legal</td></tr><tr><td>Henry</td><td>Male</td><td>1995-04-24</td><td>4:18 AM</td><td>43542</td><td>19.687</td><td>false</td><td>Legal</td></tr><tr><td>Adam</td><td>Male</td><td>2011-05-21</td><td>1:45 AM</td><td>95327</td><td>15.12</td><td>false</td><td>Distribution</td></tr><tr><td>Ashley</td><td>Female</td><td>2006-05-25</td><td>11:30 AM</td><td>112238</td><td>6.03</td><td>true</td><td>Engineering</td></tr><tr><td>null</td><td>Female</td><td>1990-10-03</td><td>1:08 AM</td><td>132373</td><td>10.527</td><td>null</td><td>null</td></tr><tr><td>Shirley</td><td>Female</td><td>1981-02-28</td><td>1:23 PM</td><td>113850</td><td>1.854</td><td>false</td><td>Marketing</td></tr><tr><td>Adam</td><td>Male</td><td>1990-12-24</td><td>8:57 PM</td><td>110194</td><td>14.727</td><td>true</td><td>Product</td></tr><tr><td>Elizabeth</td><td>Female</td><td>2003-10-09</td><td>5:53 PM</td><td>146129</td><td>5.687</td><td>false</td><td>Finance</td></tr><tr><td>Teresa</td><td>null</td><td>2016-01-28</td><td>10:55 AM</td><td>140013</td><td>8.689</td><td>true</td><td>Engineering</td></tr><tr><td>Nicole</td><td>null</td><td>1982-03-05</td><td>2:28 PM</td><td>122717</td><td>12.452</td><td>false</td><td>Sales</td></tr><tr><td>Jennifer</td><td>Female</td><td>2009-04-04</td><td>10:47 PM</td><td>71715</td><td>13.079</td><td>true</td><td>Client Services</td></tr><tr><td>Patricia</td><td>Female</td><td>1992-11-25</td><td>2:24 AM</td><td>95322</td><td>4.15</td><td>false</td><td>Product</td></tr><tr><td>Philip</td><td>Male</td><td>2008-07-17</td><td>1:30 PM</td><td>89227</td><td>3.996</td><td>false</td><td>Legal</td></tr><tr><td>Patrick</td><td>null</td><td>1991-07-14</td><td>2:24 AM</td><td>124488</td><td>14.837</td><td>true</td><td>Sales</td></tr><tr><td>null</td><td>Female</td><td>2014-08-17</td><td>2:00 PM</td><td>86230</td><td>8.578</td><td>null</td><td>Distribution</td></tr><tr><td>Sean</td><td>Male</td><td>1996-05-04</td><td>8:59 PM</td><td>135490</td><td>19.934</td><td>false</td><td>Marketing</td></tr><tr><td>Brandon</td><td>null</td><td>1997-11-03</td><td>8:17 PM</td><td>121333</td><td>15.295</td><td>false</td><td>Business Development</td></tr><tr><td>Ruth</td><td>Female</td><td>1999-08-19</td><td>4:03 AM</td><td>129297</td><td>8.067</td><td>true</td><td>Client Services</td></tr><tr><td>Victor</td><td>null</td><td>2011-03-10</td><td>8:40 PM</td><td>84546</td><td>10.489</td><td>true</td><td>Finance</td></tr><tr><td>Rebecca</td><td>Female</td><td>1980-11-15</td><td>4:13 AM</td><td>85730</td><td>5.359</td><td>true</td><td>Product</td></tr><tr><td>Marie</td><td>Female</td><td>2003-03-16</td><td>12:12 AM</td><td>104058</td><td>17.695</td><td>true</td><td>Business Development</td></tr><tr><td>Howard</td><td>Male</td><td>1992-04-27</td><td>1:10 AM</td><td>105062</td><td>1.563</td><td>false</td><td>Human Resources</td></tr><tr><td>null</td><td>Female</td><td>2005-07-27</td><td>8:32 AM</td><td>79536</td><td>14.443</td><td>null</td><td>Product</td></tr><tr><td>Norma</td><td>Female</td><td>1999-02-28</td><td>8:45 PM</td><td>114412</td><td>8.756</td><td>true</td><td>Marketing</td></tr><tr><td>James</td><td>null</td><td>1983-11-22</td><td>10:52 PM</td><td>68501</td><td>14.316</td><td>false</td><td>Marketing</td></tr><tr><td>Kathy</td><td>Female</td><td>2000-03-18</td><td>7:26 PM</td><td>149563</td><td>16.991</td><td>true</td><td>Finance</td></tr><tr><td>Marilyn</td><td>null</td><td>1999-08-22</td><td>9:09 AM</td><td>103386</td><td>11.451</td><td>false</td><td>Distribution</td></tr><tr><td>Arthur</td><td>Male</td><td>1998-04-13</td><td>11:28 AM</td><td>89786</td><td>14.422</td><td>true</td><td>Legal</td></tr><tr><td>Terry</td><td>Male</td><td>1990-09-03</td><td>9:15 PM</td><td>52226</td><td>19.135</td><td>false</td><td>Client Services</td></tr><tr><td>Mary</td><td>Female</td><td>1999-08-13</td><td>1:03 AM</td><td>134645</td><td>18.197</td><td>false</td><td>Business Development</td></tr><tr><td>null</td><td>Female</td><td>2014-03-23</td><td>1:28 PM</td><td>59148</td><td>9.061</td><td>null</td><td>Legal</td></tr><tr><td>null</td><td>Female</td><td>1991-07-09</td><td>6:52 PM</td><td>42341</td><td>7.014</td><td>null</td><td>Sales</td></tr><tr><td>Christopher</td><td>Male</td><td>2011-12-24</td><td>12:22 PM</td><td>142178</td><td>17.984</td><td>true</td><td>Sales</td></tr><tr><td>Peter</td><td>null</td><td>1987-09-03</td><td>5:59 PM</td><td>38989</td><td>7.017</td><td>true</td><td>Marketing</td></tr><tr><td>Michelle</td><td>Female</td><td>1996-11-04</td><td>9:34 PM</td><td>53754</td><td>5.455</td><td>true</td><td>Product</td></tr><tr><td>Irene</td><td>Female</td><td>1992-01-29</td><td>11:36 AM</td><td>133772</td><td>19.02</td><td>true</td><td>Sales</td></tr><tr><td>Patrick</td><td>Male</td><td>2007-08-17</td><td>3:16 AM</td><td>143499</td><td>17.495</td><td>true</td><td>Engineering</td></tr><tr><td>Sara</td><td>Female</td><td>1991-09-23</td><td>6:17 PM</td><td>97058</td><td>9.402</td><td>false</td><td>Finance</td></tr><tr><td>Lillian</td><td>Female</td><td>2008-12-21</td><td>6:51 PM</td><td>85446</td><td>3.959</td><td>true</td><td>Engineering</td></tr><tr><td>null</td><td>null</td><td>2007-09-18</td><td>6:59 PM</td><td>40297</td><td>6.185</td><td>null</td><td>Client Services</td></tr><tr><td>Willie</td><td>Male</td><td>1998-02-17</td><td>8:20 PM</td><td>146651</td><td>1.451</td><td>true</td><td>Engineering</td></tr><tr><td>Victor</td><td>Male</td><td>2003-01-08</td><td>1:02 PM</td><td>124486</td><td>10.166</td><td>false</td><td>Product</td></tr><tr><td>Wayne</td><td>Male</td><td>2012-04-07</td><td>8:00 AM</td><td>102652</td><td>14.085</td><td>true</td><td>Distribution</td></tr><tr><td>Jane</td><td>Female</td><td>1997-09-03</td><td>2:01 AM</td><td>144474</td><td>17.648</td><td>false</td><td>Product</td></tr><tr><td>Jessica</td><td>Female</td><td>1995-10-23</td><td>5:53 AM</td><td>68759</td><td>19.343</td><td>true</td><td>Finance</td></tr><tr><td>Mark</td><td>Male</td><td>2008-04-12</td><td>5:40 PM</td><td>57286</td><td>5.025</td><td>true</td><td>Business Development</td></tr><tr><td>Randy</td><td>Male</td><td>1999-11-14</td><td>12:12 PM</td><td>58129</td><td>1.952</td><td>true</td><td>Distribution</td></tr><tr><td>Lillian</td><td>Female</td><td>1999-06-19</td><td>4:44 PM</td><td>123940</td><td>12.184</td><td>true</td><td>Business Development</td></tr><tr><td>Ruth</td><td>null</td><td>1999-05-18</td><td>5:56 AM</td><td>98233</td><td>2.518</td><td>true</td><td>Distribution</td></tr><tr><td>Jerry</td><td>Male</td><td>2003-12-18</td><td>6:46 AM</td><td>140810</td><td>9.177</td><td>true</td><td>Client Services</td></tr><tr><td>Sandra</td><td>Female</td><td>1983-01-19</td><td>7:25 AM</td><td>42090</td><td>8.842</td><td>true</td><td>Legal</td></tr><tr><td>null</td><td>Female</td><td>2005-02-23</td><td>9:50 PM</td><td>149654</td><td>1.825</td><td>null</td><td>Sales</td></tr><tr><td>Roger</td><td>Male</td><td>2004-11-19</td><td>3:55 PM</td><td>51430</td><td>6.46</td><td>false</td><td>Marketing</td></tr><tr><td>Charles</td><td>Male</td><td>2000-10-14</td><td>9:40 PM</td><td>71749</td><td>15.931</td><td>false</td><td>Legal</td></tr><tr><td>Clarence</td><td>Male</td><td>1998-05-02</td><td>3:16 AM</td><td>85700</td><td>1.215</td><td>false</td><td>Sales</td></tr><tr><td>Carol</td><td>Female</td><td>1996-03-19</td><td>3:39 AM</td><td>57783</td><td>9.129</td><td>false</td><td>Finance</td></tr><tr><td>Lois</td><td>Female</td><td>2013-10-18</td><td>4:51 PM</td><td>36946</td><td>6.652</td><td>false</td><td>Engineering</td></tr><tr><td>Barbara</td><td>null</td><td>2003-05-03</td><td>7:32 PM</td><td>99326</td><td>16.475</td><td>true</td><td>Legal</td></tr><tr><td>Rebecca</td><td>Female</td><td>1995-02-18</td><td>6:50 AM</td><td>109259</td><td>4.443</td><td>true</td><td>Legal</td></tr><tr><td>Irene</td><td>Female</td><td>2004-01-30</td><td>8:25 PM</td><td>131038</td><td>8.996</td><td>false</td><td>Distribution</td></tr><tr><td>Ronald</td><td>Male</td><td>2014-04-30</td><td>2:19 PM</td><td>121068</td><td>12.757</td><td>true</td><td>Product</td></tr><tr><td>Steven</td><td>Male</td><td>1985-11-10</td><td>10:53 AM</td><td>62719</td><td>19.127</td><td>false</td><td>Client Services</td></tr><tr><td>Carolyn</td><td>Female</td><td>2012-11-06</td><td>3:51 AM</td><td>69268</td><td>3.031</td><td>false</td><td>Client Services</td></tr><tr><td>Maria</td><td>Female</td><td>1990-12-27</td><td>9:57 PM</td><td>36067</td><td>9.64</td><td>true</td><td>Product</td></tr><tr><td>Jonathan</td><td>Male</td><td>2009-07-17</td><td>8:15 AM</td><td>130581</td><td>16.736</td><td>true</td><td>null</td></tr><tr><td>Gary</td><td>Male</td><td>1987-08-12</td><td>12:04 AM</td><td>89661</td><td>8.525</td><td>false</td><td>Finance</td></tr><tr><td>Kimberly</td><td>Female</td><td>1997-07-15</td><td>5:57 AM</td><td>36643</td><td>7.953</td><td>false</td><td>Marketing</td></tr><tr><td>Roger</td><td>Male</td><td>1982-11-08</td><td>2:32 AM</td><td>140558</td><td>5.084</td><td>true</td><td>Sales</td></tr><tr><td>Diana</td><td>Female</td><td>2013-01-04</td><td>7:53 AM</td><td>103521</td><td>2.784</td><td>true</td><td>Business Development</td></tr><tr><td>Willie</td><td>Male</td><td>2006-06-06</td><td>9:45 AM</td><td>55281</td><td>4.935</td><td>true</td><td>Marketing</td></tr><tr><td>Brandon</td><td>Male</td><td>2006-03-27</td><td>5:54 PM</td><td>115711</td><td>8.012</td><td>true</td><td>Finance</td></tr><tr><td>Patricia</td><td>Female</td><td>2012-12-06</td><td>4:01 AM</td><td>114079</td><td>8.399</td><td>true</td><td>Client Services</td></tr><tr><td>Katherine</td><td>Female</td><td>1999-11-14</td><td>8:15 AM</td><td>57531</td><td>1.767</td><td>false</td><td>Client Services</td></tr><tr><td>Jonathan</td><td>Male</td><td>1987-10-12</td><td>2:59 AM</td><td>141069</td><td>4.903</td><td>false</td><td>Human Resources</td></tr><tr><td>Emily</td><td>Female</td><td>2007-09-20</td><td>11:25 AM</td><td>89434</td><td>11.295</td><td>false</td><td>Engineering</td></tr><tr><td>Ruth</td><td>Female</td><td>1986-08-12</td><td>7:29 PM</td><td>44639</td><td>9.148</td><td>true</td><td>Legal</td></tr><tr><td>Linda</td><td>Female</td><td>2006-06-24</td><td>12:04 PM</td><td>110967</td><td>19.612</td><td>true</td><td>Human Resources</td></tr><tr><td>Lisa</td><td>Female</td><td>2009-11-02</td><td>9:42 AM</td><td>115387</td><td>1.821</td><td>false</td><td>Client Services</td></tr><tr><td>Evelyn</td><td>Female</td><td>1980-05-24</td><td>11:10 PM</td><td>81673</td><td>15.364</td><td>true</td><td>Engineering</td></tr><tr><td>Julie</td><td>Female</td><td>1989-07-23</td><td>1:52 PM</td><td>109588</td><td>3.55</td><td>false</td><td>Engineering</td></tr><tr><td>Mary</td><td>Female</td><td>2009-05-30</td><td>11:41 PM</td><td>92544</td><td>3.8</td><td>false</td><td>Client Services</td></tr><tr><td>Matthew</td><td>Male</td><td>2013-07-31</td><td>8:04 AM</td><td>142373</td><td>2.462</td><td>false</td><td>Marketing</td></tr><tr><td>Douglas</td><td>Male</td><td>1999-09-03</td><td>4:00 PM</td><td>83341</td><td>1.015</td><td>true</td><td>Client Services</td></tr><tr><td>Gregory</td><td>null</td><td>1992-06-15</td><td>5:08 AM</td><td>98865</td><td>10.628</td><td>true</td><td>Finance</td></tr><tr><td>Billy</td><td>Male</td><td>1995-03-13</td><td>12:05 PM</td><td>120444</td><td>7.768</td><td>true</td><td>Finance</td></tr><tr><td>null</td><td>Female</td><td>1991-06-17</td><td>12:49 PM</td><td>71945</td><td>5.56</td><td>null</td><td>Marketing</td></tr><tr><td>Gregory</td><td>Male</td><td>2000-01-29</td><td>6:01 AM</td><td>109564</td><td>3.845</td><td>false</td><td>Legal</td></tr><tr><td>Jason</td><td>Male</td><td>1999-10-17</td><td>10:09 PM</td><td>78417</td><td>3.067</td><td>false</td><td>Finance</td></tr><tr><td>Daniel</td><td>Male</td><td>2010-04-30</td><td>3:48 AM</td><td>106947</td><td>15.866</td><td>true</td><td>Legal</td></tr><tr><td>Sarah</td><td>Female</td><td>1995-09-14</td><td>7:50 AM</td><td>87298</td><td>2.311</td><td>false</td><td>Distribution</td></tr><tr><td>Harry</td><td>Male</td><td>2015-10-01</td><td>7:47 PM</td><td>64579</td><td>15.266</td><td>true</td><td>Sales</td></tr><tr><td>Kathy</td><td>Female</td><td>1995-04-19</td><td>12:46 AM</td><td>50905</td><td>9.404</td><td>true</td><td>Finance</td></tr><tr><td>Todd</td><td>Male</td><td>1999-04-13</td><td>10:31 AM</td><td>59728</td><td>11.226</td><td>true</td><td>Client Services</td></tr><tr><td>Bobby</td><td>Male</td><td>1994-09-23</td><td>1:29 AM</td><td>51685</td><td>17.445</td><td>true</td><td>Engineering</td></tr><tr><td>Jeremy</td><td>Male</td><td>2000-06-08</td><td>12:15 AM</td><td>49542</td><td>1.679</td><td>true</td><td>Distribution</td></tr><tr><td>George</td><td>null</td><td>1988-02-24</td><td>11:29 AM</td><td>38375</td><td>8.999</td><td>false</td><td>Legal</td></tr><tr><td>Diane</td><td>Female</td><td>1993-04-18</td><td>3:22 AM</td><td>64084</td><td>17.018</td><td>false</td><td>Product</td></tr><tr><td>Marilyn</td><td>Female</td><td>1997-04-04</td><td>9:28 PM</td><td>147663</td><td>10.263</td><td>false</td><td>Human Resources</td></tr><tr><td>Kathryn</td><td>Female</td><td>2004-02-04</td><td>1:47 PM</td><td>73935</td><td>14.752</td><td>false</td><td>Sales</td></tr><tr><td>Irene</td><td>Female</td><td>1982-02-04</td><td>5:26 PM</td><td>40837</td><td>12.182</td><td>true</td><td>Client Services</td></tr><tr><td>Norma</td><td>Female</td><td>2015-02-11</td><td>11:44 PM</td><td>94393</td><td>3.643</td><td>true</td><td>Engineering</td></tr><tr><td>Laura</td><td>Female</td><td>2006-04-02</td><td>1:57 PM</td><td>42087</td><td>2.624</td><td>false</td><td>Product</td></tr><tr><td>Cheryl</td><td>Female</td><td>2008-09-23</td><td>2:57 AM</td><td>52080</td><td>9.375</td><td>false</td><td>Legal</td></tr><tr><td>Kevin</td><td>Male</td><td>1982-03-25</td><td>7:31 AM</td><td>35061</td><td>5.128</td><td>false</td><td>Legal</td></tr><tr><td>Lillian</td><td>null</td><td>2016-05-12</td><td>3:43 PM</td><td>64164</td><td>17.612</td><td>false</td><td>Human Resources</td></tr><tr><td>Phyllis</td><td>null</td><td>1984-04-21</td><td>7:05 PM</td><td>94088</td><td>19.107</td><td>false</td><td>Distribution</td></tr><tr><td>Walter</td><td>Male</td><td>1983-07-06</td><td>11:54 PM</td><td>127813</td><td>5.961</td><td>false</td><td>Finance</td></tr><tr><td>Robert</td><td>Male</td><td>1990-10-27</td><td>7:15 PM</td><td>38041</td><td>18.428</td><td>true</td><td>Engineering</td></tr><tr><td>Jimmy</td><td>Male</td><td>1986-10-07</td><td>5:53 PM</td><td>126310</td><td>5.413</td><td>true</td><td>Product</td></tr><tr><td>Clarence</td><td>Male</td><td>1996-10-08</td><td>12:53 PM</td><td>142561</td><td>8.866</td><td>false</td><td>Client Services</td></tr><tr><td>Victor</td><td>Male</td><td>1991-04-11</td><td>7:44 AM</td><td>70817</td><td>17.138</td><td>false</td><td>Engineering</td></tr><tr><td>Fred</td><td>null</td><td>1984-12-02</td><td>2:03 PM</td><td>59937</td><td>12.045</td><td>true</td><td>Human Resources</td></tr><tr><td>Brenda</td><td>null</td><td>2010-07-27</td><td>11:07 PM</td><td>106115</td><td>3.742</td><td>true</td><td>Product</td></tr><tr><td>Justin</td><td>Male</td><td>1992-12-06</td><td>5:58 PM</td><td>82782</td><td>4.366</td><td>true</td><td>Distribution</td></tr><tr><td>Betty</td><td>Female</td><td>2002-06-12</td><td>3:59 AM</td><td>104896</td><td>19.55</td><td>true</td><td>Business Development</td></tr><tr><td>Randy</td><td>null</td><td>1986-02-06</td><td>3:04 PM</td><td>133943</td><td>8.94</td><td>true</td><td>Sales</td></tr><tr><td>Sharon</td><td>null</td><td>1990-03-01</td><td>3:46 AM</td><td>83658</td><td>6.513</td><td>false</td><td>Business Development</td></tr><tr><td>Ralph</td><td>Male</td><td>2004-11-11</td><td>1:35 AM</td><td>71896</td><td>4.232</td><td>true</td><td>Marketing</td></tr><tr><td>null</td><td>null</td><td>2003-04-28</td><td>3:01 AM</td><td>113732</td><td>10.391</td><td>null</td><td>Sales</td></tr><tr><td>Edward</td><td>Male</td><td>1985-05-27</td><td>10:13 PM</td><td>110485</td><td>7.995</td><td>false</td><td>Client Services</td></tr><tr><td>Denise</td><td>Female</td><td>2009-03-20</td><td>7:57 AM</td><td>115118</td><td>5.108</td><td>false</td><td>Human Resources</td></tr><tr><td>Debra</td><td>Female</td><td>1998-03-13</td><td>11:16 PM</td><td>48696</td><td>4.75</td><td>false</td><td>Legal</td></tr><tr><td>null</td><td>Male</td><td>1999-11-25</td><td>6:16 AM</td><td>42676</td><td>15.517</td><td>null</td><td>Sales</td></tr><tr><td>Michael</td><td>Male</td><td>2002-01-24</td><td>3:04 AM</td><td>43586</td><td>12.659</td><td>false</td><td>null</td></tr><tr><td>Henry</td><td>Male</td><td>1995-02-06</td><td>8:34 AM</td><td>89258</td><td>15.585</td><td>true</td><td>Human Resources</td></tr><tr><td>Gloria</td><td>Female</td><td>2007-03-27</td><td>1:44 AM</td><td>90730</td><td>2.491</td><td>false</td><td>Distribution</td></tr><tr><td>Marie</td><td>Female</td><td>1995-08-06</td><td>1:58 PM</td><td>100308</td><td>13.677</td><td>false</td><td>Product</td></tr><tr><td>Anne</td><td>Female</td><td>1986-07-16</td><td>2:08 PM</td><td>69134</td><td>3.723</td><td>true</td><td>Engineering</td></tr><tr><td>Sarah</td><td>null</td><td>1985-11-21</td><td>1:08 PM</td><td>58295</td><td>14.603</td><td>true</td><td>Engineering</td></tr><tr><td>Stephanie</td><td>Female</td><td>1983-03-24</td><td>11:15 AM</td><td>50141</td><td>13.218</td><td>true</td><td>Human Resources</td></tr><tr><td>Roy</td><td>Male</td><td>2004-09-23</td><td>1:31 PM</td><td>101941</td><td>3.45</td><td>false</td><td>Client Services</td></tr><tr><td>null</td><td>Female</td><td>2009-08-05</td><td>8:14 AM</td><td>115145</td><td>14.063</td><td>null</td><td>Distribution</td></tr><tr><td>null</td><td>Male</td><td>2005-02-04</td><td>1:01 PM</td><td>40451</td><td>16.044</td><td>null</td><td>Distribution</td></tr><tr><td>Irene</td><td>Female</td><td>1982-03-03</td><td>8:26 AM</td><td>56526</td><td>5.81</td><td>true</td><td>Finance</td></tr><tr><td>null</td><td>Female</td><td>1992-08-02</td><td>8:35 PM</td><td>145316</td><td>18.517</td><td>null</td><td>Human Resources</td></tr><tr><td>Thomas</td><td>Male</td><td>2011-04-06</td><td>1:04 PM</td><td>103235</td><td>9.554</td><td>true</td><td>Human Resources</td></tr><tr><td>Frank</td><td>null</td><td>2001-11-20</td><td>10:18 AM</td><td>58563</td><td>12.062</td><td>true</td><td>Marketing</td></tr><tr><td>Fred</td><td>Male</td><td>1980-02-20</td><td>2:25 AM</td><td>74129</td><td>18.225</td><td>false</td><td>Product</td></tr><tr><td>Nicholas</td><td>Male</td><td>1994-04-12</td><td>8:21 PM</td><td>74669</td><td>1.113</td><td>true</td><td>Product</td></tr><tr><td>Howard</td><td>Male</td><td>1982-10-05</td><td>7:22 AM</td><td>97490</td><td>5.46</td><td>true</td><td>Marketing</td></tr><tr><td>Debra</td><td>Female</td><td>1994-02-22</td><td>10:25 PM</td><td>104250</td><td>18.456</td><td>true</td><td>Business Development</td></tr><tr><td>Christine</td><td>Female</td><td>1989-07-03</td><td>4:01 AM</td><td>94345</td><td>11.996</td><td>false</td><td>Finance</td></tr><tr><td>Brenda</td><td>null</td><td>1991-05-29</td><td>6:32 AM</td><td>82439</td><td>19.062</td><td>false</td><td>Sales</td></tr><tr><td>Betty</td><td>Female</td><td>2005-06-28</td><td>6:03 PM</td><td>51613</td><td>12.984</td><td>false</td><td>Distribution</td></tr><tr><td>Ruby</td><td>Female</td><td>2000-11-08</td><td>7:35 PM</td><td>105946</td><td>1.139</td><td>false</td><td>Business Development</td></tr><tr><td>Kevin</td><td>Male</td><td>1997-07-12</td><td>2:07 AM</td><td>46080</td><td>9.635</td><td>false</td><td>Business Development</td></tr><tr><td>Arthur</td><td>Male</td><td>2014-01-01</td><td>7:46 PM</td><td>134610</td><td>6.147</td><td>true</td><td>Human Resources</td></tr><tr><td>Carl</td><td>null</td><td>2014-02-07</td><td>3:57 AM</td><td>125104</td><td>12.345</td><td>false</td><td>Client Services</td></tr><tr><td>Todd</td><td>Male</td><td>2009-03-11</td><td>3:43 AM</td><td>107281</td><td>1.612</td><td>true</td><td>Engineering</td></tr><tr><td>Brenda</td><td>Female</td><td>2005-10-06</td><td>9:33 PM</td><td>141521</td><td>4.337</td><td>false</td><td>Client Services</td></tr><tr><td>Judy</td><td>Female</td><td>1997-09-16</td><td>12:10 AM</td><td>65931</td><td>2.304</td><td>false</td><td>Human Resources</td></tr><tr><td>Todd</td><td>Male</td><td>1984-02-02</td><td>10:13 AM</td><td>69989</td><td>10.985</td><td>true</td><td>Finance</td></tr><tr><td>Lois</td><td>Female</td><td>2011-11-09</td><td>7:06 AM</td><td>147183</td><td>9.999</td><td>true</td><td>Client Services</td></tr><tr><td>Walter</td><td>null</td><td>1999-12-21</td><td>10:33 PM</td><td>66757</td><td>18.099</td><td>false</td><td>Distribution</td></tr><tr><td>Jessica</td><td>Female</td><td>1985-09-27</td><td>1:35 PM</td><td>75145</td><td>6.388</td><td>true</td><td>Legal</td></tr><tr><td>Jeremy</td><td>Male</td><td>1988-06-14</td><td>6:20 PM</td><td>129460</td><td>13.657</td><td>true</td><td>null</td></tr><tr><td>Tammy</td><td>Female</td><td>1984-11-11</td><td>10:30 AM</td><td>132839</td><td>17.463</td><td>true</td><td>Client Services</td></tr><tr><td>Anne</td><td>Female</td><td>2000-03-07</td><td>6:45 AM</td><td>44537</td><td>18.284</td><td>true</td><td>Client Services</td></tr><tr><td>Jesse</td><td>Male</td><td>1999-10-25</td><td>3:35 PM</td><td>118733</td><td>9.653</td><td>false</td><td>Marketing</td></tr><tr><td>Virginia</td><td>Female</td><td>1999-10-20</td><td>6:23 AM</td><td>46905</td><td>19.154</td><td>false</td><td>Distribution</td></tr><tr><td>Jesse</td><td>Male</td><td>1981-03-02</td><td>7:26 PM</td><td>79582</td><td>3.873</td><td>false</td><td>Legal</td></tr><tr><td>Jeremy</td><td>null</td><td>1996-11-10</td><td>1:49 PM</td><td>55394</td><td>3.18</td><td>true</td><td>Sales</td></tr><tr><td>Daniel</td><td>Male</td><td>2007-09-15</td><td>10:16 PM</td><td>123811</td><td>7.664</td><td>true</td><td>Human Resources</td></tr><tr><td>Patrick</td><td>null</td><td>2004-08-30</td><td>11:43 AM</td><td>137314</td><td>4.542</td><td>true</td><td>Marketing</td></tr><tr><td>Emily</td><td>Female</td><td>1988-01-13</td><td>6:42 AM</td><td>36711</td><td>19.028</td><td>true</td><td>Human Resources</td></tr><tr><td>Alan</td><td>Male</td><td>1988-06-26</td><td>3:54 AM</td><td>111786</td><td>3.592</td><td>true</td><td>Engineering</td></tr><tr><td>James</td><td>Male</td><td>2015-07-11</td><td>8:52 PM</td><td>72257</td><td>13.023</td><td>false</td><td>Engineering</td></tr><tr><td>Adam</td><td>Male</td><td>2007-07-05</td><td>11:59 AM</td><td>71276</td><td>5.027</td><td>true</td><td>Human Resources</td></tr><tr><td>Joan</td><td>null</td><td>1980-07-25</td><td>12:22 PM</td><td>38712</td><td>3.657</td><td>false</td><td>Client Services</td></tr><tr><td>Jeremy</td><td>Male</td><td>1981-08-12</td><td>12:05 AM</td><td>46930</td><td>18.702</td><td>true</td><td>Finance</td></tr><tr><td>Margaret</td><td>Female</td><td>1993-02-06</td><td>1:05 PM</td><td>125220</td><td>3.733</td><td>false</td><td>Marketing</td></tr><tr><td>Mark</td><td>Male</td><td>1984-04-01</td><td>1:21 PM</td><td>121477</td><td>17.44</td><td>true</td><td>Business Development</td></tr><tr><td>Marilyn</td><td>Female</td><td>1981-09-26</td><td>2:23 AM</td><td>86386</td><td>2.937</td><td>false</td><td>Distribution</td></tr><tr><td>Cheryl</td><td>Female</td><td>2009-09-08</td><td>10:16 AM</td><td>81308</td><td>2.196</td><td>true</td><td>Legal</td></tr><tr><td>Benjamin</td><td>Male</td><td>1984-09-11</td><td>6:37 AM</td><td>84810</td><td>15.794</td><td>false</td><td>Marketing</td></tr><tr><td>Harold</td><td>Male</td><td>1990-02-20</td><td>11:00 PM</td><td>66775</td><td>2.158</td><td>true</td><td>Legal</td></tr><tr><td>Ernest</td><td>null</td><td>2002-01-18</td><td>1:51 AM</td><td>72145</td><td>13.448</td><td>true</td><td>Finance</td></tr><tr><td>Gerald</td><td>Male</td><td>2001-04-16</td><td>10:09 PM</td><td>121604</td><td>1.923</td><td>true</td><td>Sales</td></tr><tr><td>Judy</td><td>Female</td><td>1991-07-01</td><td>2:33 AM</td><td>109510</td><td>13.457</td><td>true</td><td>Legal</td></tr><tr><td>Bobby</td><td>Male</td><td>1996-03-31</td><td>5:40 PM</td><td>112117</td><td>6.338</td><td>false</td><td>null</td></tr><tr><td>Bobby</td><td>null</td><td>1995-09-01</td><td>2:09 PM</td><td>108127</td><td>15.858</td><td>false</td><td>Client Services</td></tr><tr><td>Marie</td><td>Female</td><td>2013-10-03</td><td>8:05 PM</td><td>123711</td><td>10.966</td><td>false</td><td>Product</td></tr><tr><td>Kathy</td><td>Female</td><td>2013-12-18</td><td>3:09 PM</td><td>132381</td><td>8.34</td><td>false</td><td>Business Development</td></tr><tr><td>Roy</td><td>Male</td><td>2006-08-06</td><td>7:52 AM</td><td>148225</td><td>1.841</td><td>false</td><td>Finance</td></tr><tr><td>Jacqueline</td><td>Female</td><td>1981-11-25</td><td>3:01 PM</td><td>145988</td><td>18.243</td><td>false</td><td>Marketing</td></tr><tr><td>null</td><td>Female</td><td>2008-07-08</td><td>11:40 PM</td><td>62960</td><td>14.356</td><td>null</td><td>Sales</td></tr><tr><td>Julie</td><td>Female</td><td>1986-03-23</td><td>9:26 AM</td><td>56926</td><td>7.507</td><td>false</td><td>Sales</td></tr><tr><td>Douglas</td><td>Male</td><td>2002-01-08</td><td>6:42 PM</td><td>41428</td><td>14.372</td><td>false</td><td>Product</td></tr><tr><td>Linda</td><td>Female</td><td>1990-12-16</td><td>2:20 AM</td><td>115658</td><td>3.041</td><td>true</td><td>Sales</td></tr><tr><td>Ruby</td><td>Female</td><td>1988-12-10</td><td>8:27 PM</td><td>76707</td><td>6.031</td><td>false</td><td>Business Development</td></tr><tr><td>Russell</td><td>Male</td><td>2005-01-02</td><td>1:48 AM</td><td>60388</td><td>17.885</td><td>false</td><td>Client Services</td></tr><tr><td>Jeffrey</td><td>Male</td><td>1997-06-18</td><td>8:01 PM</td><td>45150</td><td>12.075</td><td>true</td><td>Product</td></tr><tr><td>Aaron</td><td>Male</td><td>1994-01-29</td><td>6:48 PM</td><td>58755</td><td>5.097</td><td>true</td><td>Marketing</td></tr><tr><td>Samuel</td><td>Male</td><td>1991-12-19</td><td>2:54 AM</td><td>76076</td><td>5.319</td><td>true</td><td>Finance</td></tr><tr><td>null</td><td>Male</td><td>2010-01-27</td><td>2:57 AM</td><td>87760</td><td>14.987</td><td>null</td><td>Engineering</td></tr><tr><td>Randy</td><td>Male</td><td>2014-03-16</td><td>6:24 PM</td><td>135119</td><td>7.887</td><td>false</td><td>Client Services</td></tr><tr><td>Evelyn</td><td>Female</td><td>1983-09-03</td><td>1:58 PM</td><td>36759</td><td>17.269</td><td>true</td><td>Marketing</td></tr><tr><td>Fred</td><td>Male</td><td>1987-02-13</td><td>2:15 PM</td><td>121723</td><td>18.645</td><td>true</td><td>Product</td></tr><tr><td>Shirley</td><td>Female</td><td>1986-06-08</td><td>2:25 AM</td><td>110061</td><td>7.494</td><td>false</td><td>Client Services</td></tr><tr><td>Todd</td><td>Male</td><td>2011-05-23</td><td>4:14 PM</td><td>85074</td><td>1.844</td><td>false</td><td>Client Services</td></tr><tr><td>Robert</td><td>Male</td><td>2014-11-18</td><td>5:00 AM</td><td>85799</td><td>19.93</td><td>false</td><td>Finance</td></tr><tr><td>Mark</td><td>Male</td><td>2007-01-22</td><td>2:37 PM</td><td>75150</td><td>12.182</td><td>true</td><td>Legal</td></tr><tr><td>Earl</td><td>Male</td><td>2000-01-05</td><td>5:46 PM</td><td>91344</td><td>4.035</td><td>true</td><td>Sales</td></tr><tr><td>Richard</td><td>Male</td><td>2005-09-27</td><td>1:41 AM</td><td>86326</td><td>10.717</td><td>false</td><td>Product</td></tr><tr><td>Michael</td><td>Male</td><td>1991-11-22</td><td>12:57 PM</td><td>98753</td><td>16.443</td><td>true</td><td>Human Resources</td></tr><tr><td>Steven</td><td>Male</td><td>2009-05-12</td><td>2:14 PM</td><td>113060</td><td>2.846</td><td>true</td><td>Sales</td></tr><tr><td>Carlos</td><td>Male</td><td>2007-09-19</td><td>1:01 AM</td><td>77327</td><td>11.58</td><td>true</td><td>Finance</td></tr><tr><td>Marie</td><td>Female</td><td>2011-10-20</td><td>10:09 PM</td><td>62666</td><td>10.247</td><td>false</td><td>Product</td></tr><tr><td>Ronald</td><td>Male</td><td>2009-02-24</td><td>2:09 PM</td><td>96633</td><td>4.99</td><td>true</td><td>Engineering</td></tr><tr><td>Scott</td><td>Male</td><td>2009-05-12</td><td>4:36 AM</td><td>58248</td><td>3.914</td><td>false</td><td>Business Development</td></tr><tr><td>Steven</td><td>Male</td><td>2006-11-21</td><td>8:30 AM</td><td>83706</td><td>6.96</td><td>true</td><td>Human Resources</td></tr><tr><td>James</td><td>Male</td><td>1998-11-22</td><td>3:48 AM</td><td>74086</td><td>5.778</td><td>true</td><td>Human Resources</td></tr><tr><td>Lori</td><td>Female</td><td>1988-03-31</td><td>10:59 PM</td><td>95389</td><td>14.223</td><td>false</td><td>Sales</td></tr><tr><td>Philip</td><td>Male</td><td>1989-08-02</td><td>11:21 AM</td><td>129968</td><td>19.897</td><td>false</td><td>Finance</td></tr><tr><td>Phyllis</td><td>Female</td><td>2005-11-24</td><td>11:57 PM</td><td>140347</td><td>8.723</td><td>false</td><td>Sales</td></tr><tr><td>Thomas</td><td>null</td><td>1995-08-31</td><td>8:31 PM</td><td>41549</td><td>3.95</td><td>false</td><td>Sales</td></tr><tr><td>Cynthia</td><td>Female</td><td>2012-12-03</td><td>11:03 PM</td><td>74287</td><td>10.751</td><td>false</td><td>Sales</td></tr><tr><td>null</td><td>Male</td><td>2011-10-09</td><td>9:29 AM</td><td>69906</td><td>4.844</td><td>null</td><td>Engineering</td></tr><tr><td>null</td><td>Male</td><td>1997-04-22</td><td>9:36 PM</td><td>65078</td><td>3.095</td><td>null</td><td>Marketing</td></tr><tr><td>Elizabeth</td><td>Female</td><td>2005-11-10</td><td>4:56 AM</td><td>106406</td><td>1.782</td><td>true</td><td>Legal</td></tr><tr><td>Andrea</td><td>Female</td><td>2003-09-14</td><td>10:30 PM</td><td>115913</td><td>12.121</td><td>false</td><td>Legal</td></tr><tr><td>Judy</td><td>Female</td><td>1990-02-01</td><td>3:32 PM</td><td>38092</td><td>5.668</td><td>false</td><td>Distribution</td></tr><tr><td>Russell</td><td>Male</td><td>2014-08-13</td><td>3:51 PM</td><td>121160</td><td>7.843</td><td>false</td><td>Engineering</td></tr><tr><td>Scott</td><td>Male</td><td>2011-12-17</td><td>3:45 AM</td><td>90429</td><td>4.45</td><td>false</td><td>Product</td></tr><tr><td>Sarah</td><td>Female</td><td>1994-05-22</td><td>7:06 AM</td><td>64207</td><td>7.824</td><td>true</td><td>Client Services</td></tr><tr><td>Susan</td><td>Female</td><td>2004-09-25</td><td>1:30 AM</td><td>80688</td><td>18.892</td><td>true</td><td>Sales</td></tr><tr><td>Margaret</td><td>Female</td><td>2014-05-05</td><td>6:01 AM</td><td>55044</td><td>4.078</td><td>false</td><td>Sales</td></tr><tr><td>Joshua</td><td>Male</td><td>2009-11-09</td><td>6:32 AM</td><td>72893</td><td>9.555</td><td>false</td><td>Distribution</td></tr><tr><td>Justin</td><td>null</td><td>2005-04-15</td><td>8:43 PM</td><td>96978</td><td>13.865</td><td>false</td><td>Finance</td></tr><tr><td>Juan</td><td>Male</td><td>2002-04-16</td><td>11:09 PM</td><td>97364</td><td>3.595</td><td>false</td><td>Product</td></tr><tr><td>Gloria</td><td>null</td><td>1983-07-19</td><td>1:57 AM</td><td>140885</td><td>1.113</td><td>false</td><td>Human Resources</td></tr><tr><td>Jennifer</td><td>null</td><td>1989-01-24</td><td>8:38 PM</td><td>58520</td><td>16.231</td><td>true</td><td>Client Services</td></tr><tr><td>Edward</td><td>Male</td><td>1989-08-04</td><td>6:06 AM</td><td>66067</td><td>10.957</td><td>true</td><td>null</td></tr><tr><td>Marilyn</td><td>Female</td><td>1982-12-17</td><td>12:10 PM</td><td>147183</td><td>8.748</td><td>false</td><td>Business Development</td></tr><tr><td>Mary</td><td>Female</td><td>2009-10-18</td><td>6:32 PM</td><td>87721</td><td>12.484</td><td>false</td><td>Product</td></tr><tr><td>Linda</td><td>Female</td><td>2009-07-15</td><td>10:12 PM</td><td>144001</td><td>2.194</td><td>false</td><td>Business Development</td></tr><tr><td>Larry</td><td>Male</td><td>2003-08-27</td><td>1:00 PM</td><td>91133</td><td>5.14</td><td>false</td><td>Sales</td></tr><tr><td>Albert</td><td>Male</td><td>1997-02-01</td><td>4:20 PM</td><td>67827</td><td>19.717</td><td>true</td><td>Engineering</td></tr><tr><td>Kenneth</td><td>Male</td><td>1999-04-13</td><td>10:28 PM</td><td>81839</td><td>12.072</td><td>false</td><td>Sales</td></tr><tr><td>null</td><td>Female</td><td>2006-12-31</td><td>11:02 PM</td><td>81444</td><td>3.171</td><td>null</td><td>Distribution</td></tr><tr><td>Gregory</td><td>null</td><td>2011-07-09</td><td>11:31 PM</td><td>137661</td><td>4.805</td><td>true</td><td>Sales</td></tr><tr><td>Brandon</td><td>Male</td><td>2015-10-16</td><td>2:44 AM</td><td>112548</td><td>4.664</td><td>false</td><td>Engineering</td></tr><tr><td>Stephen</td><td>Male</td><td>1987-04-09</td><td>12:47 PM</td><td>111249</td><td>10.574</td><td>true</td><td>Human Resources</td></tr><tr><td>Russell</td><td>Male</td><td>1994-10-30</td><td>5:46 AM</td><td>114334</td><td>9.669</td><td>false</td><td>Product</td></tr><tr><td>null</td><td>Female</td><td>2002-09-18</td><td>12:39 PM</td><td>118906</td><td>4.537</td><td>null</td><td>Marketing</td></tr><tr><td>Pamela</td><td>null</td><td>2001-07-15</td><td>1:33 PM</td><td>72979</td><td>5.66</td><td>false</td><td>Sales</td></tr><tr><td>Scott</td><td>Male</td><td>1996-08-03</td><td>1:50 AM</td><td>64172</td><td>10.894</td><td>true</td><td>Engineering</td></tr><tr><td>null</td><td>Female</td><td>1996-04-18</td><td>3:57 PM</td><td>107024</td><td>12.182</td><td>null</td><td>null</td></tr><tr><td>Carlos</td><td>Male</td><td>2010-07-28</td><td>3:08 PM</td><td>50167</td><td>2.362</td><td>false</td><td>Product</td></tr><tr><td>Jack</td><td>Male</td><td>1980-12-24</td><td>10:58 PM</td><td>106995</td><td>15.723</td><td>false</td><td>Product</td></tr><tr><td>Debra</td><td>Female</td><td>2010-01-19</td><td>8:48 AM</td><td>70492</td><td>8.895</td><td>false</td><td>Client Services</td></tr><tr><td>Phyllis</td><td>Female</td><td>1995-01-15</td><td>5:27 AM</td><td>125881</td><td>16.697</td><td>false</td><td>Sales</td></tr><tr><td>Robert</td><td>Male</td><td>1994-10-29</td><td>4:26 AM</td><td>123294</td><td>19.894</td><td>false</td><td>Client Services</td></tr><tr><td>Gloria</td><td>Female</td><td>1989-09-19</td><td>7:40 PM</td><td>131045</td><td>11.312</td><td>true</td><td>Product</td></tr><tr><td>Sharon</td><td>null</td><td>1984-10-28</td><td>5:59 PM</td><td>97635</td><td>10.413</td><td>true</td><td>Client Services</td></tr><tr><td>Barbara</td><td>null</td><td>2001-04-26</td><td>12:22 AM</td><td>94493</td><td>13.443</td><td>true</td><td>Sales</td></tr><tr><td>Marilyn</td><td>Female</td><td>1989-08-15</td><td>9:14 AM</td><td>140502</td><td>9.989</td><td>true</td><td>Sales</td></tr><tr><td>Ralph</td><td>Male</td><td>2010-10-27</td><td>10:28 AM</td><td>106310</td><td>4.03</td><td>true</td><td>Client Services</td></tr><tr><td>Harry</td><td>null</td><td>1996-12-05</td><td>5:45 AM</td><td>46240</td><td>6.976</td><td>true</td><td>Engineering</td></tr><tr><td>Robin</td><td>Female</td><td>1998-01-08</td><td>2:12 AM</td><td>111163</td><td>5.025</td><td>true</td><td>Product</td></tr><tr><td>Kathy</td><td>Female</td><td>2001-11-25</td><td>9:55 PM</td><td>93753</td><td>7.094</td><td>true</td><td>Sales</td></tr><tr><td>Rose</td><td>Female</td><td>2002-07-06</td><td>3:57 PM</td><td>63494</td><td>19.385</td><td>true</td><td>Human Resources</td></tr><tr><td>Clarence</td><td>Male</td><td>2005-01-13</td><td>9:00 AM</td><td>116693</td><td>13.835</td><td>true</td><td>Distribution</td></tr><tr><td>Doris</td><td>Female</td><td>1992-07-29</td><td>6:40 PM</td><td>85215</td><td>7.425</td><td>true</td><td>Human Resources</td></tr><tr><td>Kathryn</td><td>Female</td><td>1988-06-09</td><td>9:29 AM</td><td>86439</td><td>7.799</td><td>false</td><td>Finance</td></tr><tr><td>Billy</td><td>null</td><td>2004-03-16</td><td>8:21 AM</td><td>62913</td><td>18.241</td><td>true</td><td>Marketing</td></tr><tr><td>Norma</td><td>Female</td><td>1996-04-16</td><td>5:40 AM</td><td>38872</td><td>9.302</td><td>true</td><td>Business Development</td></tr><tr><td>Richard</td><td>null</td><td>1992-11-28</td><td>5:05 PM</td><td>124655</td><td>14.272</td><td>true</td><td>Engineering</td></tr><tr><td>Craig</td><td>Male</td><td>1984-02-08</td><td>4:45 AM</td><td>113506</td><td>19.642</td><td>false</td><td>Marketing</td></tr><tr><td>Sarah</td><td>null</td><td>1990-07-20</td><td>10:49 PM</td><td>109980</td><td>8.86</td><td>false</td><td>Sales</td></tr><tr><td>Sharon</td><td>Female</td><td>2014-03-09</td><td>4:39 PM</td><td>91522</td><td>7.564</td><td>false</td><td>Finance</td></tr><tr><td>Mary</td><td>Female</td><td>2010-08-22</td><td>8:03 AM</td><td>42214</td><td>17.538</td><td>true</td><td>Business Development</td></tr><tr><td>Steve</td><td>null</td><td>2002-02-23</td><td>3:55 AM</td><td>83159</td><td>9.55</td><td>true</td><td>Distribution</td></tr><tr><td>Joe</td><td>Male</td><td>2010-12-05</td><td>4:20 PM</td><td>144082</td><td>1.62</td><td>true</td><td>Client Services</td></tr><tr><td>Jeremy</td><td>Male</td><td>1994-05-29</td><td>6:24 AM</td><td>47885</td><td>19.276</td><td>true</td><td>Human Resources</td></tr><tr><td>Ernest</td><td>Male</td><td>2012-08-14</td><td>11:25 AM</td><td>126232</td><td>6.191</td><td>true</td><td>Sales</td></tr><tr><td>Kevin</td><td>Male</td><td>1981-06-23</td><td>8:26 PM</td><td>134598</td><td>11.699</td><td>false</td><td>Business Development</td></tr><tr><td>Jacqueline</td><td>Female</td><td>2007-02-11</td><td>2:01 AM</td><td>66604</td><td>14.609</td><td>false</td><td>Legal</td></tr><tr><td>Johnny</td><td>Male</td><td>1992-09-14</td><td>8:21 AM</td><td>115194</td><td>5.861</td><td>true</td><td>Marketing</td></tr><tr><td>Gary</td><td>Male</td><td>2011-08-18</td><td>8:12 AM</td><td>49101</td><td>11.9</td><td>true</td><td>Business Development</td></tr><tr><td>Shirley</td><td>null</td><td>1990-11-16</td><td>6:01 PM</td><td>67811</td><td>12.699</td><td>false</td><td>Finance</td></tr><tr><td>null</td><td>Male</td><td>2008-06-29</td><td>5:23 AM</td><td>111043</td><td>5.966</td><td>null</td><td>Distribution</td></tr><tr><td>Sarah</td><td>null</td><td>1981-08-31</td><td>2:51 PM</td><td>37748</td><td>9.047</td><td>false</td><td>Human Resources</td></tr><tr><td>Julia</td><td>Female</td><td>1982-03-02</td><td>12:52 PM</td><td>36403</td><td>2.664</td><td>true</td><td>Finance</td></tr><tr><td>Dorothy</td><td>Female</td><td>2013-11-05</td><td>10:50 PM</td><td>140136</td><td>3.12</td><td>true</td><td>Business Development</td></tr><tr><td>Justin</td><td>Male</td><td>1986-05-22</td><td>6:30 AM</td><td>121508</td><td>19.334</td><td>true</td><td>Finance</td></tr><tr><td>Kevin</td><td>Male</td><td>1986-11-20</td><td>6:59 PM</td><td>79906</td><td>18.021</td><td>true</td><td>Sales</td></tr><tr><td>Victor</td><td>Male</td><td>2005-09-24</td><td>12:04 PM</td><td>123144</td><td>16.261</td><td>true</td><td>Product</td></tr><tr><td>Deborah</td><td>Female</td><td>1980-11-25</td><td>4:33 AM</td><td>46953</td><td>17.436</td><td>false</td><td>Client Services</td></tr><tr><td>Matthew</td><td>null</td><td>2003-06-09</td><td>7:35 AM</td><td>79443</td><td>14.637</td><td>false</td><td>Human Resources</td></tr><tr><td>Alice</td><td>Female</td><td>1986-05-02</td><td>1:50 AM</td><td>51395</td><td>2.378</td><td>true</td><td>Finance</td></tr><tr><td>Todd</td><td>Male</td><td>2016-03-16</td><td>2:45 PM</td><td>134408</td><td>3.56</td><td>true</td><td>Human Resources</td></tr><tr><td>Frank</td><td>Male</td><td>1981-01-10</td><td>1:30 PM</td><td>71853</td><td>8.037</td><td>true</td><td>Sales</td></tr><tr><td>Christopher</td><td>Male</td><td>1999-05-13</td><td>10:48 AM</td><td>68028</td><td>7.869</td><td>true</td><td>Finance</td></tr><tr><td>Rose</td><td>Female</td><td>2015-05-28</td><td>8:40 AM</td><td>149903</td><td>5.63</td><td>false</td><td>Human Resources</td></tr><tr><td>Andrea</td><td>Female</td><td>2010-10-01</td><td>11:54 AM</td><td>79123</td><td>19.422</td><td>false</td><td>Distribution</td></tr><tr><td>Charles</td><td>Male</td><td>1999-12-16</td><td>8:28 PM</td><td>104014</td><td>7.077</td><td>false</td><td>Legal</td></tr><tr><td>Jessica</td><td>null</td><td>2015-03-07</td><td>8:45 PM</td><td>121160</td><td>12.993</td><td>false</td><td>Client Services</td></tr><tr><td>Wanda</td><td>Female</td><td>2008-07-20</td><td>1:44 PM</td><td>65362</td><td>7.132</td><td>true</td><td>Legal</td></tr><tr><td>Joyce</td><td>Female</td><td>1995-02-07</td><td>7:38 AM</td><td>50701</td><td>14.227</td><td>true</td><td>null</td></tr><tr><td>Billy</td><td>Male</td><td>2006-12-01</td><td>3:32 PM</td><td>144709</td><td>10.069</td><td>true</td><td>Distribution</td></tr><tr><td>Kathryn</td><td>Female</td><td>2007-08-29</td><td>6:10 AM</td><td>53061</td><td>11.864</td><td>true</td><td>Finance</td></tr><tr><td>Denise</td><td>Female</td><td>2001-03-18</td><td>12:02 AM</td><td>36697</td><td>11.196</td><td>true</td><td>Sales</td></tr><tr><td>Jason</td><td>Male</td><td>1998-11-20</td><td>2:54 PM</td><td>69244</td><td>6.22</td><td>true</td><td>null</td></tr><tr><td>Nicholas</td><td>Male</td><td>2013-03-01</td><td>9:26 PM</td><td>101036</td><td>2.826</td><td>true</td><td>Human Resources</td></tr><tr><td>Aaron</td><td>Male</td><td>1990-07-22</td><td>2:53 PM</td><td>52119</td><td>11.343</td><td>true</td><td>Client Services</td></tr><tr><td>Louise</td><td>Female</td><td>2003-05-13</td><td>9:47 AM</td><td>46666</td><td>1.886</td><td>true</td><td>Business Development</td></tr><tr><td>Julie</td><td>Female</td><td>1998-04-23</td><td>5:52 AM</td><td>73437</td><td>2.518</td><td>true</td><td>Finance</td></tr><tr><td>Kathy</td><td>Female</td><td>1987-05-08</td><td>6:19 PM</td><td>86318</td><td>18.492</td><td>true</td><td>Sales</td></tr><tr><td>null</td><td>Male</td><td>2016-05-24</td><td>9:17 PM</td><td>76409</td><td>7.008</td><td>null</td><td>Distribution</td></tr><tr><td>Chris</td><td>Male</td><td>2006-12-12</td><td>1:57 AM</td><td>71642</td><td>1.496</td><td>false</td><td>null</td></tr><tr><td>Cheryl</td><td>Female</td><td>1994-08-16</td><td>8:33 AM</td><td>67150</td><td>15.85</td><td>true</td><td>Marketing</td></tr><tr><td>Gregory</td><td>Male</td><td>2009-05-15</td><td>3:52 PM</td><td>142208</td><td>11.204</td><td>true</td><td>Engineering</td></tr><tr><td>Wayne</td><td>Male</td><td>1992-01-30</td><td>3:01 PM</td><td>81183</td><td>17.066</td><td>false</td><td>Client Services</td></tr><tr><td>Beverly</td><td>Female</td><td>2005-11-30</td><td>2:57 AM</td><td>107163</td><td>3.665</td><td>true</td><td>Human Resources</td></tr><tr><td>Willie</td><td>Male</td><td>2009-08-22</td><td>1:03 PM</td><td>55038</td><td>19.691</td><td>false</td><td>Legal</td></tr><tr><td>Terry</td><td>null</td><td>2016-07-15</td><td>12:29 AM</td><td>140002</td><td>19.49</td><td>true</td><td>Marketing</td></tr><tr><td>Scott</td><td>Male</td><td>2012-11-17</td><td>2:47 PM</td><td>146812</td><td>1.965</td><td>true</td><td>Marketing</td></tr><tr><td>Annie</td><td>Female</td><td>1994-12-19</td><td>6:19 AM</td><td>40119</td><td>4.338</td><td>true</td><td>Human Resources</td></tr><tr><td>null</td><td>Male</td><td>1995-02-21</td><td>12:26 AM</td><td>136602</td><td>10.429</td><td>null</td><td>Marketing</td></tr><tr><td>Ruth</td><td>Female</td><td>2000-10-24</td><td>4:13 AM</td><td>69579</td><td>18.029</td><td>true</td><td>Human Resources</td></tr><tr><td>Deborah</td><td>null</td><td>1983-02-03</td><td>11:38 PM</td><td>101457</td><td>6.662</td><td>false</td><td>Engineering</td></tr><tr><td>Patricia</td><td>Female</td><td>2015-01-09</td><td>4:16 AM</td><td>121232</td><td>16.624</td><td>false</td><td>Legal</td></tr><tr><td>Albert</td><td>Male</td><td>2007-09-30</td><td>5:34 PM</td><td>102626</td><td>15.843</td><td>false</td><td>Finance</td></tr><tr><td>Charles</td><td>null</td><td>1987-03-01</td><td>1:00 PM</td><td>137171</td><td>5.574</td><td>true</td><td>Marketing</td></tr><tr><td>Tina</td><td>Female</td><td>2005-01-17</td><td>9:11 AM</td><td>88276</td><td>14.248</td><td>false</td><td>Legal</td></tr><tr><td>Jeremy</td><td>Male</td><td>2001-08-09</td><td>3:56 AM</td><td>43354</td><td>13.946</td><td>false</td><td>Marketing</td></tr><tr><td>Craig</td><td>Male</td><td>1996-04-14</td><td>9:17 AM</td><td>125556</td><td>7.996</td><td>false</td><td>Engineering</td></tr><tr><td>Jose</td><td>Male</td><td>2002-07-11</td><td>9:15 AM</td><td>59862</td><td>3.269</td><td>false</td><td>Product</td></tr><tr><td>Lawrence</td><td>Male</td><td>2005-05-13</td><td>1:25 AM</td><td>74640</td><td>18.641</td><td>false</td><td>Marketing</td></tr><tr><td>Helen</td><td>Female</td><td>1997-10-31</td><td>2:43 AM</td><td>52875</td><td>4.188</td><td>false</td><td>Legal</td></tr><tr><td>Walter</td><td>Male</td><td>2007-08-04</td><td>1:59 PM</td><td>58789</td><td>5.461</td><td>false</td><td>Sales</td></tr><tr><td>Amy</td><td>Female</td><td>2002-06-19</td><td>3:06 AM</td><td>122897</td><td>8.222</td><td>true</td><td>Engineering</td></tr><tr><td>Janice</td><td>Female</td><td>1997-06-28</td><td>1:48 PM</td><td>136032</td><td>10.696</td><td>true</td><td>Marketing</td></tr><tr><td>Stephen</td><td>Male</td><td>2015-05-09</td><td>7:07 PM</td><td>141958</td><td>9.078</td><td>true</td><td>Legal</td></tr><tr><td>Ryan</td><td>Male</td><td>1993-07-20</td><td>10:18 PM</td><td>139917</td><td>11.466</td><td>false</td><td>Distribution</td></tr><tr><td>Sharon</td><td>Female</td><td>2002-03-12</td><td>6:32 AM</td><td>147635</td><td>14.693</td><td>false</td><td>Human Resources</td></tr><tr><td>Joshua</td><td>Male</td><td>1984-07-10</td><td>7:22 PM</td><td>68230</td><td>8.047</td><td>false</td><td>Client Services</td></tr><tr><td>Clarence</td><td>Male</td><td>1992-08-20</td><td>8:23 PM</td><td>124365</td><td>8.457</td><td>false</td><td>Business Development</td></tr><tr><td>Jonathan</td><td>Male</td><td>2002-08-15</td><td>12:01 AM</td><td>104749</td><td>11.364</td><td>false</td><td>Engineering</td></tr><tr><td>Stephanie</td><td>Female</td><td>1992-11-26</td><td>12:54 AM</td><td>122121</td><td>7.937</td><td>true</td><td>Engineering</td></tr><tr><td>Kathy</td><td>Female</td><td>1996-10-25</td><td>12:59 PM</td><td>143541</td><td>8.461</td><td>false</td><td>Human Resources</td></tr><tr><td>Albert</td><td>Male</td><td>2008-08-14</td><td>5:43 PM</td><td>137840</td><td>9.705</td><td>false</td><td>Business Development</td></tr><tr><td>Michael</td><td>Male</td><td>2011-05-22</td><td>10:42 AM</td><td>73354</td><td>18.357</td><td>false</td><td>Business Development</td></tr><tr><td>Richard</td><td>Male</td><td>1997-07-04</td><td>11:47 AM</td><td>47647</td><td>18.787</td><td>true</td><td>null</td></tr><tr><td>Amy</td><td>Female</td><td>2008-03-30</td><td>10:54 PM</td><td>106249</td><td>15.967</td><td>false</td><td>Sales</td></tr><tr><td>null</td><td>Female</td><td>2013-04-27</td><td>6:40 AM</td><td>93847</td><td>1.085</td><td>null</td><td>Business Development</td></tr><tr><td>Beverly</td><td>null</td><td>1995-05-03</td><td>5:49 AM</td><td>104815</td><td>3.38</td><td>false</td><td>Product</td></tr><tr><td>null</td><td>Female</td><td>1992-04-26</td><td>8:01 PM</td><td>115436</td><td>3.099</td><td>null</td><td>Human Resources</td></tr><tr><td>Joe</td><td>Male</td><td>2000-04-14</td><td>3:14 PM</td><td>50645</td><td>11.119</td><td>false</td><td>Marketing</td></tr><tr><td>Ashley</td><td>Female</td><td>1997-08-15</td><td>9:48 PM</td><td>142415</td><td>1.985</td><td>true</td><td>Finance</td></tr><tr><td>Howard</td><td>Male</td><td>2012-04-09</td><td>6:36 AM</td><td>37984</td><td>2.021</td><td>false</td><td>Distribution</td></tr><tr><td>Cheryl</td><td>Female</td><td>2014-12-03</td><td>9:27 AM</td><td>71751</td><td>15.918</td><td>false</td><td>Business Development</td></tr><tr><td>Robert</td><td>Male</td><td>2007-03-11</td><td>11:20 AM</td><td>135882</td><td>19.944</td><td>false</td><td>Legal</td></tr><tr><td>Sharon</td><td>Female</td><td>2011-07-01</td><td>9:50 AM</td><td>46007</td><td>19.731</td><td>true</td><td>Client Services</td></tr><tr><td>Judith</td><td>Female</td><td>2007-11-23</td><td>1:22 PM</td><td>117055</td><td>7.461</td><td>false</td><td>Marketing</td></tr><tr><td>Nicholas</td><td>null</td><td>1989-09-09</td><td>7:12 PM</td><td>58478</td><td>6.525</td><td>true</td><td>Distribution</td></tr><tr><td>Jerry</td><td>Male</td><td>1995-01-30</td><td>7:51 PM</td><td>121357</td><td>18.845</td><td>false</td><td>Business Development</td></tr><tr><td>Craig</td><td>Male</td><td>2005-11-01</td><td>11:31 PM</td><td>44857</td><td>13.266</td><td>false</td><td>Finance</td></tr><tr><td>Barbara</td><td>Female</td><td>2002-03-21</td><td>8:02 AM</td><td>47322</td><td>7.25</td><td>true</td><td>Sales</td></tr><tr><td>Eugene</td><td>Male</td><td>1984-05-24</td><td>10:54 AM</td><td>81077</td><td>2.117</td><td>false</td><td>Sales</td></tr><tr><td>Johnny</td><td>Male</td><td>2016-02-26</td><td>7:39 PM</td><td>76394</td><td>5.437</td><td>true</td><td>Marketing</td></tr><tr><td>Benjamin</td><td>Male</td><td>2013-05-05</td><td>3:28 PM</td><td>114356</td><td>7.123</td><td>false</td><td>Client Services</td></tr><tr><td>Diana</td><td>Female</td><td>1994-06-13</td><td>4:21 PM</td><td>41831</td><td>4.548</td><td>false</td><td>Business Development</td></tr><tr><td>Barbara</td><td>null</td><td>1980-12-10</td><td>11:04 PM</td><td>90187</td><td>14.764</td><td>true</td><td>Distribution</td></tr><tr><td>Christine</td><td>Female</td><td>2003-02-01</td><td>1:11 PM</td><td>72613</td><td>11.126</td><td>false</td><td>Legal</td></tr><tr><td>Sean</td><td>Male</td><td>2013-02-11</td><td>7:07 PM</td><td>42748</td><td>9.765</td><td>false</td><td>Distribution</td></tr><tr><td>Sarah</td><td>Female</td><td>1980-11-03</td><td>2:47 PM</td><td>37259</td><td>1.763</td><td>false</td><td>Client Services</td></tr><tr><td>Roger</td><td>Male</td><td>2015-08-03</td><td>4:56 PM</td><td>125033</td><td>4.887</td><td>true</td><td>Marketing</td></tr><tr><td>null</td><td>Female</td><td>2014-06-24</td><td>10:05 AM</td><td>38275</td><td>10.494</td><td>null</td><td>Distribution</td></tr><tr><td>null</td><td>Male</td><td>1980-04-20</td><td>1:17 PM</td><td>71520</td><td>13.248</td><td>null</td><td>Engineering</td></tr><tr><td>Donald</td><td>Male</td><td>1995-07-14</td><td>7:51 AM</td><td>106472</td><td>6.499</td><td>true</td><td>Client Services</td></tr><tr><td>Clarence</td><td>Male</td><td>2015-11-03</td><td>12:11 AM</td><td>103684</td><td>18.654</td><td>true</td><td>Engineering</td></tr><tr><td>Scott</td><td>Male</td><td>1996-11-23</td><td>7:36 PM</td><td>96111</td><td>15.592</td><td>false</td><td>Human Resources</td></tr><tr><td>Ann</td><td>Female</td><td>1984-11-04</td><td>12:17 PM</td><td>90719</td><td>6.22</td><td>false</td><td>Business Development</td></tr><tr><td>Frank</td><td>Male</td><td>2003-04-27</td><td>12:04 PM</td><td>140303</td><td>17.07</td><td>false</td><td>Legal</td></tr><tr><td>Joe</td><td>Male</td><td>1983-07-04</td><td>7:32 AM</td><td>62161</td><td>8.13</td><td>true</td><td>Business Development</td></tr><tr><td>Wanda</td><td>Female</td><td>1993-04-06</td><td>3:11 AM</td><td>78883</td><td>19.695</td><td>false</td><td>null</td></tr><tr><td>Jimmy</td><td>Male</td><td>2013-11-19</td><td>7:29 PM</td><td>63549</td><td>19.624</td><td>false</td><td>null</td></tr><tr><td>Amy</td><td>null</td><td>1984-12-25</td><td>10:52 AM</td><td>63888</td><td>18.115</td><td>true</td><td>Product</td></tr><tr><td>Larry</td><td>Male</td><td>1999-01-08</td><td>2:05 AM</td><td>97370</td><td>10.458</td><td>false</td><td>Sales</td></tr><tr><td>Gloria</td><td>Female</td><td>1992-04-12</td><td>8:26 PM</td><td>66224</td><td>15.979</td><td>true</td><td>Legal</td></tr><tr><td>Ruth</td><td>Female</td><td>1996-12-12</td><td>10:07 AM</td><td>97915</td><td>3.997</td><td>true</td><td>Human Resources</td></tr><tr><td>Diana</td><td>Female</td><td>1995-01-19</td><td>12:37 AM</td><td>86883</td><td>18.003</td><td>true</td><td>Product</td></tr><tr><td>Raymond</td><td>Male</td><td>2009-02-16</td><td>10:38 PM</td><td>37812</td><td>3.178</td><td>false</td><td>Human Resources</td></tr><tr><td>Peter</td><td>Male</td><td>2003-02-22</td><td>9:09 AM</td><td>56580</td><td>8.411</td><td>true</td><td>null</td></tr><tr><td>null</td><td>null</td><td>1981-09-25</td><td>9:59 AM</td><td>83895</td><td>17.971</td><td>null</td><td>Engineering</td></tr><tr><td>Catherine</td><td>Female</td><td>2013-08-31</td><td>7:24 PM</td><td>58047</td><td>14.858</td><td>true</td><td>Distribution</td></tr><tr><td>Diane</td><td>Female</td><td>1982-07-05</td><td>4:56 PM</td><td>124889</td><td>15.026</td><td>true</td><td>Sales</td></tr><tr><td>Peter</td><td>null</td><td>2014-10-13</td><td>9:33 PM</td><td>118840</td><td>14.509</td><td>true</td><td>Client Services</td></tr><tr><td>Steve</td><td>Male</td><td>1995-08-22</td><td>6:58 AM</td><td>67780</td><td>9.54</td><td>true</td><td>Human Resources</td></tr><tr><td>Barbara</td><td>Female</td><td>2004-03-22</td><td>8:11 AM</td><td>144677</td><td>8.696</td><td>false</td><td>Finance</td></tr><tr><td>Helen</td><td>null</td><td>1993-12-02</td><td>1:42 PM</td><td>45724</td><td>1.022</td><td>false</td><td>Product</td></tr><tr><td>Jimmy</td><td>null</td><td>1983-08-26</td><td>2:48 AM</td><td>86676</td><td>7.175</td><td>true</td><td>Product</td></tr><tr><td>Christopher</td><td>Male</td><td>2014-04-23</td><td>7:52 AM</td><td>82401</td><td>7.252</td><td>false</td><td>Client Services</td></tr><tr><td>Kathleen</td><td>Female</td><td>2014-06-13</td><td>9:16 AM</td><td>35575</td><td>14.595</td><td>false</td><td>Distribution</td></tr><tr><td>Virginia</td><td>Female</td><td>2010-05-02</td><td>9:10 PM</td><td>123649</td><td>10.154</td><td>true</td><td>Marketing</td></tr><tr><td>Lisa</td><td>Female</td><td>2005-02-26</td><td>6:33 PM</td><td>38078</td><td>10.28</td><td>true</td><td>Product</td></tr><tr><td>Earl</td><td>Male</td><td>2014-02-11</td><td>9:03 PM</td><td>52620</td><td>13.773</td><td>false</td><td>Product</td></tr><tr><td>Gerald</td><td>null</td><td>1992-01-08</td><td>3:50 PM</td><td>133366</td><td>12.292</td><td>false</td><td>Legal</td></tr><tr><td>Louise</td><td>Female</td><td>1981-09-18</td><td>5:47 AM</td><td>91462</td><td>8.205</td><td>false</td><td>Marketing</td></tr><tr><td>Clarence</td><td>Male</td><td>1982-08-26</td><td>9:47 AM</td><td>146589</td><td>4.905</td><td>true</td><td>Business Development</td></tr><tr><td>Cynthia</td><td>Female</td><td>1991-09-14</td><td>1:08 PM</td><td>51633</td><td>13.472</td><td>true</td><td>Business Development</td></tr><tr><td>Adam</td><td>Male</td><td>2010-10-08</td><td>9:53 PM</td><td>45181</td><td>3.491</td><td>false</td><td>Human Resources</td></tr><tr><td>Justin</td><td>Male</td><td>1999-09-06</td><td>10:30 AM</td><td>62454</td><td>3.459</td><td>true</td><td>Sales</td></tr><tr><td>null</td><td>Female</td><td>2009-12-02</td><td>3:30 AM</td><td>84746</td><td>4.82</td><td>null</td><td>Finance</td></tr><tr><td>Ruby</td><td>Female</td><td>1999-05-01</td><td>3:36 AM</td><td>147362</td><td>7.851</td><td>true</td><td>Engineering</td></tr><tr><td>Amanda</td><td>Female</td><td>2004-08-01</td><td>1:32 PM</td><td>80803</td><td>14.077</td><td>true</td><td>Distribution</td></tr><tr><td>Anna</td><td>Female</td><td>2008-04-15</td><td>2:34 PM</td><td>117293</td><td>2.366</td><td>false</td><td>Client Services</td></tr><tr><td>Roger</td><td>Male</td><td>2010-07-03</td><td>5:11 PM</td><td>105689</td><td>13.32</td><td>true</td><td>Marketing</td></tr><tr><td>Julie</td><td>null</td><td>1999-02-04</td><td>5:35 PM</td><td>93302</td><td>9.048</td><td>true</td><td>Product</td></tr><tr><td>Joseph</td><td>Male</td><td>1992-09-10</td><td>6:50 PM</td><td>102555</td><td>3.672</td><td>true</td><td>Product</td></tr><tr><td>Evelyn</td><td>Female</td><td>1998-09-22</td><td>7:55 PM</td><td>51525</td><td>10.366</td><td>false</td><td>Finance</td></tr><tr><td>Janice</td><td>Female</td><td>1984-01-02</td><td>9:06 PM</td><td>41190</td><td>3.311</td><td>true</td><td>Sales</td></tr><tr><td>Sara</td><td>Female</td><td>1980-02-25</td><td>10:50 PM</td><td>75484</td><td>3.186</td><td>false</td><td>Finance</td></tr><tr><td>Gregory</td><td>Male</td><td>1984-06-18</td><td>3:46 AM</td><td>82726</td><td>16.304</td><td>true</td><td>Marketing</td></tr><tr><td>Philip</td><td>Male</td><td>1985-07-18</td><td>6:36 AM</td><td>122319</td><td>19.122</td><td>false</td><td>Engineering</td></tr><tr><td>Barbara</td><td>Female</td><td>1991-09-02</td><td>3:41 PM</td><td>127297</td><td>11.905</td><td>true</td><td>Product</td></tr><tr><td>Amanda</td><td>Female</td><td>2002-06-07</td><td>7:46 AM</td><td>109290</td><td>13.853</td><td>false</td><td>Engineering</td></tr><tr><td>Phyllis</td><td>null</td><td>1985-10-25</td><td>7:11 AM</td><td>99150</td><td>6.007</td><td>false</td><td>Client Services</td></tr><tr><td>Anne</td><td>Female</td><td>1996-10-26</td><td>8:09 PM</td><td>71930</td><td>18.451</td><td>true</td><td>Product</td></tr><tr><td>Arthur</td><td>Male</td><td>2014-12-16</td><td>4:56 PM</td><td>66819</td><td>6.639</td><td>true</td><td>Marketing</td></tr><tr><td>Jane</td><td>Female</td><td>1994-06-01</td><td>8:39 AM</td><td>42424</td><td>18.115</td><td>false</td><td>Distribution</td></tr><tr><td>Linda</td><td>Female</td><td>1985-08-18</td><td>4:34 AM</td><td>51431</td><td>13.295</td><td>false</td><td>Engineering</td></tr><tr><td>Ashley</td><td>Female</td><td>1999-11-17</td><td>9:18 PM</td><td>120675</td><td>6.51</td><td>false</td><td>Human Resources</td></tr><tr><td>Shawn</td><td>Male</td><td>2009-12-03</td><td>10:24 AM</td><td>96610</td><td>2.097</td><td>true</td><td>Client Services</td></tr><tr><td>Kathleen</td><td>Female</td><td>1996-09-20</td><td>3:45 PM</td><td>71430</td><td>8.572</td><td>false</td><td>Engineering</td></tr><tr><td>Sara</td><td>null</td><td>1983-10-07</td><td>1:35 PM</td><td>87713</td><td>18.863</td><td>true</td><td>Legal</td></tr><tr><td>Randy</td><td>Male</td><td>2002-05-02</td><td>7:39 PM</td><td>86723</td><td>14.842</td><td>false</td><td>Engineering</td></tr><tr><td>Andrew</td><td>Male</td><td>1985-03-29</td><td>6:57 PM</td><td>43414</td><td>7.563</td><td>true</td><td>Client Services</td></tr><tr><td>Marilyn</td><td>Female</td><td>2006-08-09</td><td>11:24 AM</td><td>87145</td><td>17.33</td><td>false</td><td>Human Resources</td></tr><tr><td>Johnny</td><td>Male</td><td>1995-01-08</td><td>1:35 PM</td><td>91124</td><td>12.986</td><td>true</td><td>Distribution</td></tr><tr><td>null</td><td>Female</td><td>1980-04-01</td><td>8:04 PM</td><td>48141</td><td>12.605</td><td>null</td><td>null</td></tr><tr><td>Susan</td><td>Female</td><td>1986-04-18</td><td>9:31 AM</td><td>90829</td><td>19.142</td><td>false</td><td>Marketing</td></tr><tr><td>Ruby</td><td>Female</td><td>1980-07-07</td><td>3:42 AM</td><td>101262</td><td>6.773</td><td>false</td><td>Client Services</td></tr><tr><td>Kelly</td><td>Female</td><td>1996-08-16</td><td>3:09 AM</td><td>41427</td><td>1.431</td><td>false</td><td>Product</td></tr><tr><td>Jonathan</td><td>Male</td><td>1995-04-06</td><td>10:38 PM</td><td>56993</td><td>18.623</td><td>false</td><td>Marketing</td></tr><tr><td>Raymond</td><td>Male</td><td>1996-01-13</td><td>4:14 PM</td><td>114244</td><td>16.69</td><td>false</td><td>Human Resources</td></tr><tr><td>Kimberly</td><td>Female</td><td>1981-12-30</td><td>4:51 AM</td><td>81800</td><td>5.435</td><td>true</td><td>null</td></tr><tr><td>null</td><td>Female</td><td>2009-01-13</td><td>1:01 PM</td><td>118736</td><td>7.421</td><td>null</td><td>Client Services</td></tr><tr><td>John</td><td>Male</td><td>1995-01-22</td><td>12:17 AM</td><td>66077</td><td>5.809</td><td>true</td><td>Product</td></tr><tr><td>Michael</td><td>Male</td><td>1993-07-30</td><td>5:35 PM</td><td>35013</td><td>14.879</td><td>false</td><td>Product</td></tr><tr><td>Jerry</td><td>Male</td><td>2003-05-04</td><td>4:29 AM</td><td>98393</td><td>11.393</td><td>false</td><td>Client Services</td></tr><tr><td>Amanda</td><td>Female</td><td>1982-03-17</td><td>11:46 PM</td><td>107111</td><td>1.438</td><td>true</td><td>Product</td></tr><tr><td>Harold</td><td>Male</td><td>2010-10-18</td><td>8:45 PM</td><td>65673</td><td>1.187</td><td>true</td><td>Legal</td></tr><tr><td>Harry</td><td>Male</td><td>1985-01-27</td><td>8:18 PM</td><td>65482</td><td>18.089</td><td>false</td><td>null</td></tr><tr><td>Ernest</td><td>Male</td><td>1990-01-28</td><td>12:08 AM</td><td>81919</td><td>15.118</td><td>false</td><td>Marketing</td></tr><tr><td>Harry</td><td>Male</td><td>1982-11-19</td><td>11:25 AM</td><td>59277</td><td>10.2</td><td>false</td><td>Finance</td></tr><tr><td>Diane</td><td>Female</td><td>1988-02-02</td><td>6:14 PM</td><td>49501</td><td>13.506</td><td>false</td><td>Business Development</td></tr><tr><td>Jack</td><td>Male</td><td>2012-05-30</td><td>3:17 AM</td><td>70367</td><td>18.266</td><td>true</td><td>Legal</td></tr><tr><td>Shirley</td><td>Female</td><td>1988-04-16</td><td>11:09 AM</td><td>132156</td><td>2.754</td><td>false</td><td>Marketing</td></tr><tr><td>Rose</td><td>Female</td><td>2004-10-30</td><td>4:34 PM</td><td>56961</td><td>7.585</td><td>false</td><td>Marketing</td></tr><tr><td>Cheryl</td><td>Female</td><td>1982-07-23</td><td>6:28 AM</td><td>98841</td><td>8.945</td><td>true</td><td>Client Services</td></tr><tr><td>Cynthia</td><td>Female</td><td>1980-05-23</td><td>3:19 AM</td><td>78226</td><td>2.419</td><td>false</td><td>Human Resources</td></tr><tr><td>Sandra</td><td>Female</td><td>1995-04-24</td><td>7:14 PM</td><td>116931</td><td>9.657</td><td>true</td><td>Human Resources</td></tr><tr><td>Andrea</td><td>Female</td><td>1994-10-30</td><td>11:23 AM</td><td>87575</td><td>13.346</td><td>true</td><td>Business Development</td></tr><tr><td>Rachel</td><td>Female</td><td>1988-04-22</td><td>12:01 PM</td><td>110924</td><td>7.808</td><td>false</td><td>Distribution</td></tr><tr><td>Justin</td><td>Male</td><td>1981-05-24</td><td>11:15 PM</td><td>78351</td><td>15.221</td><td>false</td><td>Sales</td></tr><tr><td>Marie</td><td>Female</td><td>2000-11-23</td><td>5:06 AM</td><td>125574</td><td>4.644</td><td>false</td><td>Sales</td></tr><tr><td>Louis</td><td>Male</td><td>2011-04-15</td><td>5:02 AM</td><td>95198</td><td>2.075</td><td>false</td><td>Business Development</td></tr><tr><td>Nancy</td><td>Female</td><td>1985-05-07</td><td>10:20 PM</td><td>121006</td><td>3.512</td><td>true</td><td>Finance</td></tr><tr><td>Mark</td><td>Male</td><td>1984-10-03</td><td>5:31 AM</td><td>95728</td><td>6.752</td><td>true</td><td>Business Development</td></tr><tr><td>Teresa</td><td>Female</td><td>1987-06-24</td><td>7:37 PM</td><td>69740</td><td>8.294</td><td>false</td><td>Distribution</td></tr><tr><td>Frances</td><td>Female</td><td>2001-07-21</td><td>2:34 AM</td><td>91996</td><td>11.506</td><td>false</td><td>Product</td></tr><tr><td>null</td><td>Female</td><td>1990-10-11</td><td>10:57 PM</td><td>98385</td><td>10.925</td><td>null</td><td>Human Resources</td></tr><tr><td>Barbara</td><td>null</td><td>1994-12-20</td><td>10:09 AM</td><td>90556</td><td>15.749</td><td>true</td><td>Distribution</td></tr><tr><td>Christine</td><td>null</td><td>1980-06-15</td><td>6:00 PM</td><td>50366</td><td>9.862</td><td>true</td><td>Marketing</td></tr><tr><td>Bobby</td><td>null</td><td>2003-07-21</td><td>3:50 PM</td><td>84232</td><td>15.704</td><td>true</td><td>Engineering</td></tr><tr><td>Carl</td><td>null</td><td>1991-10-26</td><td>8:11 AM</td><td>100888</td><td>12.49</td><td>true</td><td>Business Development</td></tr><tr><td>Bruce</td><td>Male</td><td>2013-03-15</td><td>11:13 PM</td><td>141335</td><td>15.427</td><td>true</td><td>Engineering</td></tr><tr><td>Rose</td><td>Female</td><td>1982-05-20</td><td>9:14 AM</td><td>97691</td><td>2.142</td><td>false</td><td>Client Services</td></tr><tr><td>Mildred</td><td>Female</td><td>1981-02-21</td><td>3:30 AM</td><td>47266</td><td>10.256</td><td>false</td><td>Client Services</td></tr><tr><td>null</td><td>Male</td><td>1983-10-13</td><td>11:59 PM</td><td>139754</td><td>12.74</td><td>null</td><td>Sales</td></tr><tr><td>null</td><td>Female</td><td>1993-10-24</td><td>5:17 PM</td><td>116236</td><td>17.274</td><td>null</td><td>Engineering</td></tr><tr><td>Todd</td><td>Male</td><td>2010-02-16</td><td>11:29 AM</td><td>103405</td><td>15.91</td><td>false</td><td>Sales</td></tr><tr><td>Alan</td><td>Male</td><td>2012-02-17</td><td>12:26 AM</td><td>41453</td><td>10.084</td><td>false</td><td>Product</td></tr><tr><td>Elizabeth</td><td>null</td><td>1981-02-16</td><td>3:58 AM</td><td>52730</td><td>12.525</td><td>false</td><td>Marketing</td></tr><tr><td>Julie</td><td>null</td><td>2000-10-21</td><td>1:15 AM</td><td>60361</td><td>7.099</td><td>true</td><td>Distribution</td></tr><tr><td>Teresa</td><td>null</td><td>1992-01-03</td><td>3:47 PM</td><td>63103</td><td>11.378</td><td>false</td><td>Finance</td></tr><tr><td>Eric</td><td>Male</td><td>2004-11-12</td><td>9:16 PM</td><td>65168</td><td>11.513</td><td>false</td><td>Distribution</td></tr><tr><td>Edward</td><td>Male</td><td>2001-08-30</td><td>1:24 AM</td><td>73105</td><td>6.083</td><td>true</td><td>Engineering</td></tr><tr><td>Kimberly</td><td>Female</td><td>1986-12-06</td><td>2:23 PM</td><td>37916</td><td>12.929</td><td>true</td><td>Distribution</td></tr><tr><td>Kathy</td><td>Female</td><td>2001-01-14</td><td>5:11 AM</td><td>45682</td><td>1.451</td><td>true</td><td>Marketing</td></tr><tr><td>Peter</td><td>Male</td><td>1992-11-24</td><td>5:43 PM</td><td>69297</td><td>1.268</td><td>false</td><td>Finance</td></tr><tr><td>Beverly</td><td>Female</td><td>1990-10-22</td><td>2:45 PM</td><td>59070</td><td>19.064</td><td>true</td><td>Engineering</td></tr><tr><td>Ralph</td><td>Male</td><td>2012-03-07</td><td>2:25 AM</td><td>81215</td><td>8.4</td><td>false</td><td>Finance</td></tr><tr><td>Justin</td><td>Male</td><td>1997-08-10</td><td>11:00 PM</td><td>128036</td><td>18.824</td><td>false</td><td>Client Services</td></tr><tr><td>Irene</td><td>Female</td><td>2005-06-23</td><td>11:03 AM</td><td>89780</td><td>8.999</td><td>true</td><td>Sales</td></tr><tr><td>Irene</td><td>Female</td><td>2006-11-29</td><td>2:14 PM</td><td>125018</td><td>9.601</td><td>true</td><td>Legal</td></tr><tr><td>Jeremy</td><td>Male</td><td>1997-11-26</td><td>8:22 AM</td><td>133033</td><td>12.2</td><td>false</td><td>Sales</td></tr><tr><td>Cynthia</td><td>Female</td><td>2015-06-29</td><td>6:38 AM</td><td>82408</td><td>8.701</td><td>true</td><td>Marketing</td></tr><tr><td>null</td><td>Female</td><td>1997-04-13</td><td>8:03 AM</td><td>131755</td><td>2.93</td><td>null</td><td>null</td></tr><tr><td>Anne</td><td>Female</td><td>1984-11-21</td><td>12:30 PM</td><td>128305</td><td>16.636</td><td>false</td><td>Marketing</td></tr><tr><td>null</td><td>null</td><td>1988-09-02</td><td>12:49 PM</td><td>147309</td><td>1.702</td><td>null</td><td>Distribution</td></tr><tr><td>Debra</td><td>Female</td><td>1983-03-12</td><td>12:19 PM</td><td>74911</td><td>19.513</td><td>false</td><td>Marketing</td></tr><tr><td>Michael</td><td>Male</td><td>1988-07-13</td><td>1:48 PM</td><td>47079</td><td>2.617</td><td>false</td><td>Legal</td></tr><tr><td>Jason</td><td>null</td><td>2008-03-06</td><td>1:20 AM</td><td>82873</td><td>1.869</td><td>false</td><td>Client Services</td></tr><tr><td>Rebecca</td><td>Female</td><td>1990-02-23</td><td>3:21 PM</td><td>134673</td><td>6.878</td><td>false</td><td>Engineering</td></tr><tr><td>Andrea</td><td>Female</td><td>2011-11-17</td><td>2:37 PM</td><td>123591</td><td>6.5</td><td>true</td><td>Engineering</td></tr><tr><td>Carl</td><td>Male</td><td>1987-03-30</td><td>5:59 PM</td><td>75598</td><td>19.289</td><td>false</td><td>null</td></tr><tr><td>Randy</td><td>Male</td><td>2000-09-27</td><td>3:04 AM</td><td>89831</td><td>13.047</td><td>true</td><td>null</td></tr><tr><td>Marilyn</td><td>Female</td><td>1984-07-02</td><td>4:06 PM</td><td>92430</td><td>2.924</td><td>false</td><td>Engineering</td></tr><tr><td>Wayne</td><td>Male</td><td>2009-09-02</td><td>1:37 AM</td><td>126956</td><td>18.396</td><td>false</td><td>Human Resources</td></tr><tr><td>Frances</td><td>Female</td><td>1996-11-12</td><td>6:08 PM</td><td>112467</td><td>1.433</td><td>false</td><td>Business Development</td></tr><tr><td>Amanda</td><td>null</td><td>1991-08-11</td><td>2:15 PM</td><td>46665</td><td>19.391</td><td>true</td><td>Client Services</td></tr><tr><td>Kathleen</td><td>Female</td><td>2004-08-28</td><td>10:49 AM</td><td>42553</td><td>3.756</td><td>true</td><td>Distribution</td></tr><tr><td>Amanda</td><td>Female</td><td>1995-01-25</td><td>5:06 AM</td><td>102081</td><td>5.203</td><td>false</td><td>Sales</td></tr><tr><td>Amanda</td><td>null</td><td>2010-03-16</td><td>9:17 AM</td><td>135118</td><td>15.108</td><td>false</td><td>Finance</td></tr><tr><td>Shawn</td><td>Male</td><td>1987-09-29</td><td>10:11 PM</td><td>71975</td><td>9.77</td><td>false</td><td>Human Resources</td></tr><tr><td>Katherine</td><td>Female</td><td>1996-08-13</td><td>12:21 AM</td><td>149908</td><td>18.912</td><td>false</td><td>Finance</td></tr><tr><td>Anna</td><td>null</td><td>1985-03-13</td><td>9:19 AM</td><td>45418</td><td>10.162</td><td>false</td><td>Marketing</td></tr><tr><td>Elizabeth</td><td>Female</td><td>2010-02-21</td><td>7:02 AM</td><td>79145</td><td>19.78</td><td>false</td><td>Finance</td></tr><tr><td>Donald</td><td>Male</td><td>1988-04-06</td><td>10:00 AM</td><td>122920</td><td>5.32</td><td>false</td><td>null</td></tr><tr><td>Gregory</td><td>Male</td><td>1999-11-15</td><td>5:22 PM</td><td>128031</td><td>15.857</td><td>true</td><td>Business Development</td></tr><tr><td>Ruth</td><td>Female</td><td>2004-02-17</td><td>5:38 AM</td><td>59969</td><td>14.064</td><td>true</td><td>Finance</td></tr><tr><td>Cynthia</td><td>Female</td><td>1986-07-05</td><td>1:24 AM</td><td>35381</td><td>11.749</td><td>false</td><td>Finance</td></tr><tr><td>Deborah</td><td>Female</td><td>1985-11-21</td><td>1:40 PM</td><td>113129</td><td>17.371</td><td>false</td><td>Client Services</td></tr><tr><td>Willie</td><td>Male</td><td>2009-12-05</td><td>5:39 AM</td><td>141932</td><td>1.017</td><td>true</td><td>Engineering</td></tr><tr><td>Debra</td><td>Female</td><td>2006-05-28</td><td>6:51 AM</td><td>42296</td><td>16.922</td><td>false</td><td>Product</td></tr><tr><td>Carl</td><td>Male</td><td>1984-12-14</td><td>8:49 PM</td><td>63395</td><td>11.411</td><td>false</td><td>Legal</td></tr><tr><td>Walter</td><td>Male</td><td>2007-09-24</td><td>11:16 PM</td><td>125382</td><td>13.613</td><td>true</td><td>Client Services</td></tr><tr><td>Lisa</td><td>Female</td><td>1982-02-09</td><td>6:44 PM</td><td>113592</td><td>17.108</td><td>true</td><td>Marketing</td></tr><tr><td>Rebecca</td><td>Female</td><td>2000-03-05</td><td>10:33 AM</td><td>46750</td><td>11.367</td><td>true</td><td>Sales</td></tr><tr><td>Jessica</td><td>Female</td><td>1986-10-19</td><td>9:58 PM</td><td>90285</td><td>13.591</td><td>true</td><td>Client Services</td></tr><tr><td>Steve</td><td>null</td><td>2009-08-27</td><td>3:41 PM</td><td>53692</td><td>4.785</td><td>true</td><td>Marketing</td></tr><tr><td>Mary</td><td>null</td><td>1986-12-24</td><td>7:02 PM</td><td>100341</td><td>6.662</td><td>false</td><td>Distribution</td></tr><tr><td>Craig</td><td>Male</td><td>1995-08-21</td><td>2:38 AM</td><td>123876</td><td>4.225</td><td>false</td><td>Engineering</td></tr><tr><td>Katherine</td><td>Female</td><td>2000-12-19</td><td>1:40 AM</td><td>41643</td><td>4.659</td><td>true</td><td>Distribution</td></tr><tr><td>Andrea</td><td>Female</td><td>1989-08-31</td><td>11:10 PM</td><td>113760</td><td>12.866</td><td>true</td><td>Distribution</td></tr><tr><td>Timothy</td><td>Male</td><td>2010-10-06</td><td>10:49 PM</td><td>49473</td><td>12.463</td><td>false</td><td>Legal</td></tr><tr><td>Anthony</td><td>Male</td><td>2013-02-13</td><td>1:35 PM</td><td>146141</td><td>3.645</td><td>true</td><td>Distribution</td></tr><tr><td>Harold</td><td>null</td><td>2004-02-04</td><td>11:02 AM</td><td>79459</td><td>7.776</td><td>true</td><td>Business Development</td></tr><tr><td>Douglas</td><td>null</td><td>2009-02-04</td><td>2:03 AM</td><td>104496</td><td>14.771</td><td>true</td><td>Marketing</td></tr><tr><td>James</td><td>Male</td><td>2001-12-05</td><td>7:06 AM</td><td>67789</td><td>17.105</td><td>true</td><td>Legal</td></tr><tr><td>Joseph</td><td>null</td><td>1982-03-28</td><td>1:05 PM</td><td>86564</td><td>11.879</td><td>true</td><td>null</td></tr><tr><td>Martha</td><td>Female</td><td>2001-09-14</td><td>3:22 AM</td><td>135758</td><td>14.782</td><td>true</td><td>Client Services</td></tr><tr><td>Laura</td><td>Female</td><td>2000-07-12</td><td>6:07 PM</td><td>84672</td><td>3.96</td><td>false</td><td>Distribution</td></tr><tr><td>Robert</td><td>Male</td><td>1982-11-05</td><td>12:41 PM</td><td>111580</td><td>10.982</td><td>false</td><td>Human Resources</td></tr><tr><td>Ralph</td><td>Male</td><td>1996-03-24</td><td>11:54 AM</td><td>50455</td><td>16.248</td><td>false</td><td>Business Development</td></tr><tr><td>null</td><td>Male</td><td>2012-08-28</td><td>7:56 PM</td><td>88733</td><td>1.932</td><td>null</td><td>Human Resources</td></tr><tr><td>Diane</td><td>Female</td><td>2009-10-30</td><td>6:56 PM</td><td>130577</td><td>12.791</td><td>false</td><td>Marketing</td></tr><tr><td>Annie</td><td>Female</td><td>1992-06-06</td><td>10:04 AM</td><td>138925</td><td>9.801</td><td>true</td><td>Marketing</td></tr><tr><td>Jacqueline</td><td>Female</td><td>1994-09-20</td><td>6:07 PM</td><td>62371</td><td>15.77</td><td>true</td><td>Client Services</td></tr><tr><td>Brenda</td><td>Female</td><td>1984-04-17</td><td>7:12 AM</td><td>87715</td><td>2.675</td><td>false</td><td>Product</td></tr><tr><td>Lori</td><td>Female</td><td>2002-09-11</td><td>7:36 AM</td><td>66029</td><td>3.345</td><td>true</td><td>Client Services</td></tr><tr><td>Albert</td><td>Male</td><td>1992-06-17</td><td>3:25 AM</td><td>86818</td><td>14.301</td><td>true</td><td>Engineering</td></tr><tr><td>Frank</td><td>Male</td><td>2002-11-23</td><td>6:10 PM</td><td>75147</td><td>17.398</td><td>false</td><td>Product</td></tr><tr><td>Deborah</td><td>Female</td><td>2000-04-23</td><td>6:55 PM</td><td>105573</td><td>5.268</td><td>true</td><td>Product</td></tr><tr><td>Robin</td><td>null</td><td>2005-12-20</td><td>2:42 PM</td><td>41230</td><td>6.611</td><td>true</td><td>Distribution</td></tr><tr><td>Alice</td><td>Female</td><td>2016-01-21</td><td>5:07 PM</td><td>117787</td><td>10.485</td><td>false</td><td>null</td></tr><tr><td>null</td><td>Male</td><td>1989-10-20</td><td>9:37 AM</td><td>88086</td><td>19.387</td><td>null</td><td>Finance</td></tr><tr><td>Paul</td><td>null</td><td>2011-02-18</td><td>12:23 PM</td><td>91462</td><td>18.704</td><td>false</td><td>Finance</td></tr><tr><td>null</td><td>Male</td><td>1996-12-27</td><td>7:07 AM</td><td>139959</td><td>8.992</td><td>null</td><td>Distribution</td></tr><tr><td>Brian</td><td>Male</td><td>2007-04-07</td><td>10:47 PM</td><td>93901</td><td>17.821</td><td>true</td><td>Legal</td></tr><tr><td>Julie</td><td>null</td><td>1980-05-08</td><td>6:31 AM</td><td>50529</td><td>17.263</td><td>false</td><td>Finance</td></tr><tr><td>Bruce</td><td>Male</td><td>2007-01-28</td><td>11:10 PM</td><td>134988</td><td>13.926</td><td>true</td><td>Sales</td></tr><tr><td>Joan</td><td>Female</td><td>2007-10-02</td><td>2:53 AM</td><td>120941</td><td>3.694</td><td>true</td><td>Finance</td></tr><tr><td>Harold</td><td>Male</td><td>2007-05-15</td><td>6:37 PM</td><td>118753</td><td>8.162</td><td>false</td><td>Sales</td></tr><tr><td>Alice</td><td>Female</td><td>1995-10-16</td><td>9:19 PM</td><td>92799</td><td>2.782</td><td>false</td><td>Sales</td></tr><tr><td>Barbara</td><td>Female</td><td>2011-11-12</td><td>12:35 AM</td><td>85718</td><td>13.326</td><td>false</td><td>Client Services</td></tr><tr><td>Sarah</td><td>Female</td><td>1999-04-06</td><td>11:17 AM</td><td>109517</td><td>5.146</td><td>false</td><td>Human Resources</td></tr><tr><td>Samuel</td><td>Male</td><td>2012-05-25</td><td>4:40 PM</td><td>85550</td><td>11.593</td><td>true</td><td>Marketing</td></tr><tr><td>null</td><td>Male</td><td>1990-05-23</td><td>2:09 AM</td><td>136655</td><td>9.801</td><td>null</td><td>Distribution</td></tr><tr><td>Barbara</td><td>null</td><td>2002-08-02</td><td>5:13 AM</td><td>43312</td><td>8.218</td><td>true</td><td>Legal</td></tr><tr><td>Amy</td><td>null</td><td>1984-05-19</td><td>11:47 AM</td><td>102839</td><td>10.385</td><td>true</td><td>Distribution</td></tr><tr><td>Frank</td><td>Male</td><td>2009-03-02</td><td>9:15 PM</td><td>78891</td><td>7.927</td><td>true</td><td>Distribution</td></tr><tr><td>Robin</td><td>null</td><td>2005-09-16</td><td>1:26 AM</td><td>93201</td><td>11.712</td><td>true</td><td>Legal</td></tr><tr><td>Debra</td><td>Female</td><td>2011-03-17</td><td>1:12 PM</td><td>84693</td><td>6.976</td><td>true</td><td>Finance</td></tr><tr><td>Brandon</td><td>null</td><td>2004-05-31</td><td>3:36 PM</td><td>73587</td><td>9.769</td><td>true</td><td>Human Resources</td></tr><tr><td>Thomas</td><td>Male</td><td>1991-09-07</td><td>9:51 AM</td><td>65251</td><td>11.211</td><td>false</td><td>Distribution</td></tr><tr><td>Harry</td><td>Male</td><td>2015-09-23</td><td>1:36 AM</td><td>129148</td><td>15.193</td><td>true</td><td>Engineering</td></tr><tr><td>Todd</td><td>Male</td><td>1993-07-04</td><td>6:53 PM</td><td>128175</td><td>18.473</td><td>true</td><td>null</td></tr><tr><td>Patricia</td><td>Female</td><td>1998-03-07</td><td>1:10 AM</td><td>75825</td><td>7.839</td><td>false</td><td>Engineering</td></tr><tr><td>Steve</td><td>Male</td><td>2002-01-11</td><td>9:17 PM</td><td>51821</td><td>1.197</td><td>true</td><td>Legal</td></tr><tr><td>null</td><td>Male</td><td>1995-04-07</td><td>4:32 AM</td><td>60411</td><td>12.048</td><td>null</td><td>Human Resources</td></tr><tr><td>Edward</td><td>Male</td><td>1997-11-27</td><td>1:00 AM</td><td>58327</td><td>17.095</td><td>true</td><td>Finance</td></tr><tr><td>Karen</td><td>Female</td><td>2014-01-09</td><td>10:09 PM</td><td>46478</td><td>16.552</td><td>false</td><td>Engineering</td></tr><tr><td>Martin</td><td>null</td><td>2001-02-06</td><td>4:17 AM</td><td>123963</td><td>15.745</td><td>true</td><td>Engineering</td></tr><tr><td>Ann</td><td>Female</td><td>1994-09-28</td><td>5:44 AM</td><td>79796</td><td>9.851</td><td>false</td><td>Distribution</td></tr><tr><td>Jonathan</td><td>Male</td><td>1984-07-30</td><td>6:02 PM</td><td>83809</td><td>12.922</td><td>false</td><td>Distribution</td></tr><tr><td>Peter</td><td>Male</td><td>1982-03-22</td><td>7:28 AM</td><td>77933</td><td>13.132</td><td>true</td><td>Engineering</td></tr><tr><td>Eric</td><td>Male</td><td>1993-06-15</td><td>3:56 AM</td><td>51070</td><td>13.806</td><td>true</td><td>Business Development</td></tr><tr><td>Jason</td><td>null</td><td>1988-04-15</td><td>8:16 PM</td><td>97480</td><td>11.518</td><td>false</td><td>Human Resources</td></tr><tr><td>Terry</td><td>Male</td><td>2010-10-21</td><td>11:18 PM</td><td>58357</td><td>7.969</td><td>false</td><td>Engineering</td></tr><tr><td>John</td><td>Male</td><td>1999-01-29</td><td>3:07 AM</td><td>67165</td><td>13.001</td><td>false</td><td>Engineering</td></tr><tr><td>Marie</td><td>Female</td><td>1983-04-08</td><td>2:01 PM</td><td>145988</td><td>18.685</td><td>true</td><td>Human Resources</td></tr><tr><td>Harold</td><td>Male</td><td>2010-04-16</td><td>5:13 AM</td><td>147417</td><td>11.626</td><td>true</td><td>Business Development</td></tr><tr><td>Joshua</td><td>Male</td><td>1997-06-27</td><td>3:23 PM</td><td>95003</td><td>5.197</td><td>true</td><td>Marketing</td></tr><tr><td>Brandon</td><td>null</td><td>1992-09-05</td><td>2:32 AM</td><td>144187</td><td>11.416</td><td>true</td><td>Legal</td></tr><tr><td>Andrea</td><td>Female</td><td>2001-12-10</td><td>6:40 AM</td><td>37888</td><td>13.47</td><td>false</td><td>Engineering</td></tr><tr><td>Jeremy</td><td>Male</td><td>1991-05-19</td><td>1:40 PM</td><td>131513</td><td>1.876</td><td>true</td><td>Finance</td></tr><tr><td>Daniel</td><td>Male</td><td>2016-02-29</td><td>4:04 AM</td><td>77287</td><td>13.0</td><td>true</td><td>null</td></tr><tr><td>Roy</td><td>Male</td><td>2004-05-10</td><td>1:22 PM</td><td>46875</td><td>12.942</td><td>true</td><td>Sales</td></tr><tr><td>Dorothy</td><td>Female</td><td>2008-10-08</td><td>12:22 AM</td><td>82744</td><td>19.111</td><td>true</td><td>Client Services</td></tr><tr><td>Steven</td><td>Male</td><td>1986-09-07</td><td>12:32 AM</td><td>43252</td><td>18.892</td><td>false</td><td>Client Services</td></tr><tr><td>Nicole</td><td>Female</td><td>2009-04-26</td><td>12:40 AM</td><td>66047</td><td>18.674</td><td>true</td><td>Marketing</td></tr><tr><td>Ann</td><td>Female</td><td>2001-07-16</td><td>9:27 AM</td><td>118431</td><td>12.772</td><td>true</td><td>Finance</td></tr><tr><td>Henry</td><td>Male</td><td>1986-05-12</td><td>2:04 AM</td><td>59943</td><td>1.432</td><td>false</td><td>Finance</td></tr><tr><td>null</td><td>Male</td><td>2009-06-17</td><td>1:00 PM</td><td>136681</td><td>3.655</td><td>null</td><td>Business Development</td></tr><tr><td>null</td><td>Female</td><td>1994-12-18</td><td>8:42 PM</td><td>138807</td><td>1.4</td><td>null</td><td>Human Resources</td></tr><tr><td>Barbara</td><td>Female</td><td>2002-11-26</td><td>5:32 AM</td><td>82884</td><td>6.837</td><td>true</td><td>Business Development</td></tr><tr><td>Judy</td><td>Female</td><td>2011-04-05</td><td>1:44 AM</td><td>48668</td><td>11.716</td><td>true</td><td>Product</td></tr><tr><td>Lawrence</td><td>Male</td><td>2011-07-23</td><td>3:41 AM</td><td>122971</td><td>14.618</td><td>false</td><td>Product</td></tr><tr><td>Joseph</td><td>Male</td><td>2010-10-10</td><td>11:12 PM</td><td>107050</td><td>12.737</td><td>false</td><td>Business Development</td></tr><tr><td>Carlos</td><td>Male</td><td>1981-01-25</td><td>10:00 AM</td><td>138598</td><td>14.737</td><td>false</td><td>Sales</td></tr><tr><td>Russell</td><td>null</td><td>2009-05-09</td><td>11:59 AM</td><td>149456</td><td>3.533</td><td>false</td><td>Marketing</td></tr><tr><td>Jane</td><td>Female</td><td>1999-07-10</td><td>7:02 PM</td><td>128540</td><td>15.941</td><td>false</td><td>Legal</td></tr><tr><td>Martin</td><td>Male</td><td>2016-02-25</td><td>6:29 PM</td><td>61117</td><td>2.844</td><td>false</td><td>Client Services</td></tr><tr><td>Steven</td><td>Male</td><td>1980-05-30</td><td>8:25 PM</td><td>100949</td><td>13.813</td><td>true</td><td>Human Resources</td></tr><tr><td>Judy</td><td>null</td><td>2011-07-15</td><td>3:38 PM</td><td>46829</td><td>5.19</td><td>true</td><td>Finance</td></tr><tr><td>James</td><td>Male</td><td>2008-02-16</td><td>2:49 AM</td><td>69111</td><td>14.625</td><td>true</td><td>Business Development</td></tr><tr><td>Gloria</td><td>Female</td><td>2004-08-19</td><td>10:31 AM</td><td>46602</td><td>1.027</td><td>true</td><td>Business Development</td></tr><tr><td>Ernest</td><td>Male</td><td>2001-06-30</td><td>1:46 PM</td><td>61181</td><td>16.559</td><td>false</td><td>Business Development</td></tr><tr><td>Martha</td><td>Female</td><td>1997-07-17</td><td>11:11 PM</td><td>94963</td><td>19.626</td><td>true</td><td>Business Development</td></tr><tr><td>Janet</td><td>null</td><td>1986-01-25</td><td>5:48 AM</td><td>85789</td><td>9.712</td><td>false</td><td>Legal</td></tr><tr><td>Louis</td><td>null</td><td>1983-02-05</td><td>6:39 PM</td><td>145274</td><td>16.379</td><td>false</td><td>Product</td></tr><tr><td>Tina</td><td>Female</td><td>1999-08-06</td><td>3:18 AM</td><td>102841</td><td>3.369</td><td>false</td><td>Client Services</td></tr><tr><td>Henry</td><td>Male</td><td>2007-02-23</td><td>3:24 AM</td><td>49665</td><td>18.338</td><td>false</td><td>Business Development</td></tr><tr><td>Antonio</td><td>Male</td><td>1999-06-06</td><td>10:54 PM</td><td>41928</td><td>5.478</td><td>true</td><td>null</td></tr><tr><td>Lisa</td><td>Female</td><td>2007-04-11</td><td>1:04 AM</td><td>128042</td><td>2.03</td><td>true</td><td>Legal</td></tr><tr><td>Denise</td><td>Female</td><td>1984-02-19</td><td>6:22 AM</td><td>86150</td><td>3.997</td><td>false</td><td>Client Services</td></tr><tr><td>Stephen</td><td>Male</td><td>1984-10-21</td><td>6:26 AM</td><td>121816</td><td>10.615</td><td>true</td><td>Distribution</td></tr><tr><td>Benjamin</td><td>Male</td><td>1988-04-12</td><td>11:32 PM</td><td>123409</td><td>7.783</td><td>false</td><td>Product</td></tr><tr><td>Carl</td><td>null</td><td>2007-08-18</td><td>8:01 AM</td><td>98295</td><td>7.617</td><td>true</td><td>Legal</td></tr><tr><td>Ruth</td><td>Female</td><td>1980-09-02</td><td>6:52 AM</td><td>59678</td><td>10.895</td><td>false</td><td>Distribution</td></tr><tr><td>Shawn</td><td>Male</td><td>2006-12-29</td><td>3:05 AM</td><td>57871</td><td>4.02</td><td>true</td><td>Human Resources</td></tr><tr><td>Jennifer</td><td>Female</td><td>2015-03-31</td><td>7:43 PM</td><td>132084</td><td>10.006</td><td>true</td><td>Engineering</td></tr><tr><td>Terry</td><td>Male</td><td>2004-11-10</td><td>4:33 AM</td><td>35633</td><td>3.947</td><td>true</td><td>Distribution</td></tr><tr><td>Jacqueline</td><td>Female</td><td>2008-07-27</td><td>12:08 PM</td><td>125298</td><td>3.019</td><td>true</td><td>Legal</td></tr><tr><td>Roger</td><td>Male</td><td>1988-05-02</td><td>10:04 PM</td><td>115582</td><td>15.343</td><td>true</td><td>Sales</td></tr><tr><td>Alice</td><td>null</td><td>1995-04-23</td><td>6:35 AM</td><td>148339</td><td>11.479</td><td>true</td><td>Finance</td></tr><tr><td>Justin</td><td>Male</td><td>1991-07-25</td><td>12:45 AM</td><td>112975</td><td>9.699</td><td>false</td><td>Human Resources</td></tr><tr><td>Janet</td><td>Female</td><td>2008-07-12</td><td>12:10 PM</td><td>36927</td><td>18.769</td><td>false</td><td>Client Services</td></tr><tr><td>Robin</td><td>Female</td><td>2004-03-26</td><td>5:41 PM</td><td>70248</td><td>9.66</td><td>true</td><td>Sales</td></tr><tr><td>Samuel</td><td>null</td><td>2002-10-07</td><td>3:08 AM</td><td>141305</td><td>9.849</td><td>true</td><td>Marketing</td></tr><tr><td>Katherine</td><td>Female</td><td>2006-09-22</td><td>8:08 PM</td><td>72002</td><td>13.178</td><td>true</td><td>Product</td></tr><tr><td>Peter</td><td>Male</td><td>1991-05-22</td><td>1:39 AM</td><td>102577</td><td>12.026</td><td>true</td><td>Product</td></tr><tr><td>Lillian</td><td>Female</td><td>2009-08-14</td><td>5:41 AM</td><td>113554</td><td>18.018</td><td>true</td><td>Business Development</td></tr><tr><td>null</td><td>Male</td><td>1986-10-24</td><td>9:23 AM</td><td>47176</td><td>10.736</td><td>null</td><td>Finance</td></tr><tr><td>null</td><td>Female</td><td>2000-06-18</td><td>7:36 AM</td><td>106428</td><td>10.867</td><td>null</td><td>null</td></tr><tr><td>Rose</td><td>Female</td><td>1999-11-03</td><td>9:06 AM</td><td>75181</td><td>6.06</td><td>true</td><td>Finance</td></tr><tr><td>Bobby</td><td>Male</td><td>2004-09-30</td><td>10:52 PM</td><td>79047</td><td>18.784</td><td>false</td><td>Human Resources</td></tr><tr><td>Kimberly</td><td>Female</td><td>1986-04-20</td><td>3:55 PM</td><td>52970</td><td>4.513</td><td>false</td><td>Sales</td></tr><tr><td>Antonio</td><td>Male</td><td>2003-12-28</td><td>4:17 AM</td><td>137979</td><td>5.266</td><td>false</td><td>Distribution</td></tr><tr><td>Doris</td><td>Female</td><td>1984-09-08</td><td>7:03 PM</td><td>114360</td><td>17.799</td><td>true</td><td>Business Development</td></tr><tr><td>Steven</td><td>Male</td><td>2009-07-05</td><td>4:55 AM</td><td>110306</td><td>16.843</td><td>true</td><td>Human Resources</td></tr><tr><td>Lawrence</td><td>Male</td><td>1995-07-03</td><td>10:55 PM</td><td>46378</td><td>9.127</td><td>false</td><td>null</td></tr><tr><td>null</td><td>Male</td><td>1986-05-06</td><td>4:41 PM</td><td>74104</td><td>17.68</td><td>null</td><td>Client Services</td></tr><tr><td>null</td><td>null</td><td>1991-04-15</td><td>3:39 AM</td><td>132505</td><td>13.592</td><td>null</td><td>Product</td></tr><tr><td>Stephanie</td><td>Female</td><td>1982-09-14</td><td>8:14 AM</td><td>96649</td><td>3.453</td><td>false</td><td>Sales</td></tr><tr><td>null</td><td>Female</td><td>1982-07-24</td><td>12:00 AM</td><td>57811</td><td>8.941</td><td>null</td><td>Marketing</td></tr><tr><td>Sandra</td><td>Female</td><td>1989-09-07</td><td>4:17 PM</td><td>111468</td><td>2.58</td><td>true</td><td>Product</td></tr><tr><td>Kevin</td><td>Male</td><td>2005-07-01</td><td>3:22 PM</td><td>141498</td><td>4.135</td><td>true</td><td>Sales</td></tr><tr><td>Michelle</td><td>null</td><td>2012-03-31</td><td>6:28 AM</td><td>124441</td><td>16.353</td><td>false</td><td>Business Development</td></tr><tr><td>Lisa</td><td>Female</td><td>2000-07-08</td><td>9:19 PM</td><td>40121</td><td>6.293</td><td>false</td><td>Product</td></tr><tr><td>Fred</td><td>Male</td><td>1989-03-03</td><td>2:27 AM</td><td>129712</td><td>11.058</td><td>false</td><td>Finance</td></tr><tr><td>Joseph</td><td>Male</td><td>1982-11-04</td><td>9:46 PM</td><td>126010</td><td>19.601</td><td>false</td><td>Legal</td></tr><tr><td>Anne</td><td>null</td><td>1996-04-18</td><td>11:57 PM</td><td>122762</td><td>9.564</td><td>false</td><td>Distribution</td></tr><tr><td>Andrea</td><td>Female</td><td>1999-07-22</td><td>9:25 AM</td><td>149105</td><td>13.707</td><td>true</td><td>Distribution</td></tr><tr><td>Nicole</td><td>Female</td><td>2004-03-01</td><td>5:17 PM</td><td>44021</td><td>10.286</td><td>false</td><td>null</td></tr><tr><td>Theresa</td><td>null</td><td>1995-10-07</td><td>10:16 AM</td><td>42025</td><td>3.319</td><td>true</td><td>Human Resources</td></tr><tr><td>Catherine</td><td>Female</td><td>1986-08-31</td><td>6:20 PM</td><td>59970</td><td>12.801</td><td>false</td><td>Client Services</td></tr><tr><td>Rose</td><td>Female</td><td>1982-12-31</td><td>6:50 PM</td><td>145001</td><td>19.85</td><td>false</td><td>Engineering</td></tr><tr><td>Lawrence</td><td>Male</td><td>1984-10-01</td><td>2:06 PM</td><td>102589</td><td>17.952</td><td>true</td><td>Marketing</td></tr><tr><td>Raymond</td><td>Male</td><td>1986-12-12</td><td>12:18 PM</td><td>47529</td><td>2.712</td><td>true</td><td>Product</td></tr><tr><td>Clarence</td><td>Male</td><td>1989-08-05</td><td>6:11 PM</td><td>148941</td><td>11.517</td><td>false</td><td>Product</td></tr><tr><td>Ryan</td><td>Male</td><td>1988-04-15</td><td>5:18 AM</td><td>91109</td><td>17.499</td><td>true</td><td>Human Resources</td></tr><tr><td>Jane</td><td>Female</td><td>1992-01-12</td><td>1:23 PM</td><td>51923</td><td>13.623</td><td>false</td><td>Business Development</td></tr><tr><td>Lois</td><td>Female</td><td>2012-07-28</td><td>11:39 AM</td><td>53954</td><td>19.075</td><td>false</td><td>Product</td></tr><tr><td>Shawn</td><td>Male</td><td>2008-03-17</td><td>2:12 PM</td><td>39335</td><td>10.664</td><td>false</td><td>Distribution</td></tr><tr><td>Thomas</td><td>Male</td><td>1990-05-03</td><td>9:29 AM</td><td>111371</td><td>15.081</td><td>true</td><td>Engineering</td></tr><tr><td>Kathryn</td><td>Female</td><td>2008-01-29</td><td>12:29 AM</td><td>86676</td><td>6.081</td><td>false</td><td>Sales</td></tr><tr><td>Mary</td><td>Female</td><td>2011-11-06</td><td>8:32 AM</td><td>115057</td><td>2.089</td><td>false</td><td>Finance</td></tr><tr><td>Julie</td><td>Female</td><td>1980-03-08</td><td>5:13 AM</td><td>145357</td><td>3.459</td><td>false</td><td>Engineering</td></tr><tr><td>George</td><td>Male</td><td>1995-09-27</td><td>5:04 PM</td><td>36749</td><td>19.754</td><td>false</td><td>Finance</td></tr><tr><td>Ralph</td><td>Male</td><td>2000-02-10</td><td>4:48 PM</td><td>89854</td><td>7.227</td><td>false</td><td>Business Development</td></tr><tr><td>Judith</td><td>Female</td><td>1989-09-03</td><td>11:16 AM</td><td>134048</td><td>6.818</td><td>true</td><td>Marketing</td></tr><tr><td>null</td><td>Male</td><td>1994-12-13</td><td>10:34 AM</td><td>141311</td><td>5.478</td><td>null</td><td>Product</td></tr><tr><td>Evelyn</td><td>Female</td><td>2002-02-10</td><td>4:44 AM</td><td>123621</td><td>19.767</td><td>true</td><td>Marketing</td></tr><tr><td>Rachel</td><td>Female</td><td>2011-06-23</td><td>12:52 AM</td><td>54941</td><td>3.221</td><td>true</td><td>Distribution</td></tr><tr><td>Maria</td><td>null</td><td>1986-01-18</td><td>8:36 PM</td><td>106562</td><td>4.0</td><td>false</td><td>Human Resources</td></tr><tr><td>Kelly</td><td>Female</td><td>2007-03-17</td><td>6:20 PM</td><td>39371</td><td>4.068</td><td>false</td><td>Engineering</td></tr><tr><td>Ruby</td><td>Female</td><td>2008-05-31</td><td>8:41 PM</td><td>83112</td><td>4.083</td><td>false</td><td>Marketing</td></tr><tr><td>Ann</td><td>Female</td><td>1980-10-03</td><td>1:08 AM</td><td>96941</td><td>10.048</td><td>true</td><td>Distribution</td></tr><tr><td>Kenneth</td><td>Male</td><td>1985-12-14</td><td>6:55 AM</td><td>47232</td><td>17.862</td><td>true</td><td>Legal</td></tr><tr><td>William</td><td>Male</td><td>1993-11-18</td><td>12:27 PM</td><td>54058</td><td>5.182</td><td>true</td><td>Human Resources</td></tr><tr><td>null</td><td>Female</td><td>1980-12-27</td><td>2:27 AM</td><td>80399</td><td>12.254</td><td>null</td><td>Distribution</td></tr><tr><td>Deborah</td><td>Female</td><td>2009-02-26</td><td>10:17 AM</td><td>118043</td><td>7.266</td><td>true</td><td>Business Development</td></tr><tr><td>null</td><td>Male</td><td>2009-11-12</td><td>2:30 PM</td><td>109411</td><td>9.494</td><td>null</td><td>Engineering</td></tr><tr><td>Julia</td><td>Female</td><td>2014-08-18</td><td>3:12 AM</td><td>97566</td><td>2.147</td><td>false</td><td>Marketing</td></tr><tr><td>Robert</td><td>null</td><td>2000-12-04</td><td>1:20 AM</td><td>69267</td><td>5.89</td><td>true</td><td>Sales</td></tr><tr><td>null</td><td>null</td><td>1988-08-01</td><td>1:35 AM</td><td>87103</td><td>5.665</td><td>null</td><td>null</td></tr><tr><td>Jesse</td><td>null</td><td>2014-07-16</td><td>2:24 AM</td><td>98811</td><td>7.487</td><td>false</td><td>Legal</td></tr><tr><td>Cynthia</td><td>Female</td><td>2006-07-12</td><td>8:55 AM</td><td>149684</td><td>7.864</td><td>false</td><td>Product</td></tr><tr><td>Johnny</td><td>Male</td><td>2007-01-14</td><td>2:54 PM</td><td>71383</td><td>2.097</td><td>true</td><td>Human Resources</td></tr><tr><td>Michael</td><td>Male</td><td>2002-08-31</td><td>1:20 AM</td><td>81206</td><td>19.908</td><td>true</td><td>Distribution</td></tr><tr><td>Kenneth</td><td>Male</td><td>2015-01-15</td><td>2:41 PM</td><td>69112</td><td>7.588</td><td>true</td><td>Finance</td></tr><tr><td>Keith</td><td>Male</td><td>2003-02-12</td><td>3:02 PM</td><td>120672</td><td>19.467</td><td>false</td><td>Legal</td></tr><tr><td>Gerald</td><td>Male</td><td>2010-05-28</td><td>12:26 PM</td><td>96511</td><td>9.331</td><td>false</td><td>Human Resources</td></tr><tr><td>Carl</td><td>null</td><td>1982-02-11</td><td>7:54 AM</td><td>49325</td><td>2.071</td><td>true</td><td>Business Development</td></tr><tr><td>Douglas</td><td>Male</td><td>2007-08-04</td><td>5:23 AM</td><td>132175</td><td>2.28</td><td>false</td><td>Engineering</td></tr><tr><td>Carolyn</td><td>Female</td><td>2004-03-17</td><td>6:38 AM</td><td>118037</td><td>13.492</td><td>false</td><td>Finance</td></tr><tr><td>Joseph</td><td>Male</td><td>1985-05-23</td><td>10:16 PM</td><td>139570</td><td>15.804</td><td>true</td><td>Finance</td></tr><tr><td>Billy</td><td>Male</td><td>2000-04-06</td><td>3:14 PM</td><td>115280</td><td>9.153</td><td>false</td><td>Distribution</td></tr><tr><td>Joyce</td><td>Female</td><td>2001-07-25</td><td>6:04 AM</td><td>51065</td><td>16.807</td><td>false</td><td>Human Resources</td></tr><tr><td>Lillian</td><td>Female</td><td>2002-08-26</td><td>8:53 AM</td><td>103854</td><td>4.924</td><td>true</td><td>Distribution</td></tr><tr><td>Ruby</td><td>Female</td><td>2006-08-13</td><td>6:27 PM</td><td>48354</td><td>19.501</td><td>false</td><td>Business Development</td></tr><tr><td>Sandra</td><td>Female</td><td>1998-02-07</td><td>12:39 PM</td><td>132327</td><td>19.264</td><td>false</td><td>Product</td></tr><tr><td>Louise</td><td>Female</td><td>1982-02-26</td><td>1:03 AM</td><td>106362</td><td>8.965</td><td>false</td><td>Sales</td></tr><tr><td>Maria</td><td>null</td><td>1985-06-19</td><td>1:48 AM</td><td>148857</td><td>8.738</td><td>false</td><td>Legal</td></tr><tr><td>Brenda</td><td>Female</td><td>1981-01-03</td><td>6:01 PM</td><td>131131</td><td>11.682</td><td>false</td><td>Client Services</td></tr><tr><td>Stephen</td><td>Male</td><td>1990-09-10</td><td>10:42 PM</td><td>129663</td><td>15.574</td><td>false</td><td>Human Resources</td></tr><tr><td>Nicole</td><td>null</td><td>1981-05-02</td><td>12:03 PM</td><td>41449</td><td>4.707</td><td>false</td><td>Finance</td></tr><tr><td>Bobby</td><td>Male</td><td>1984-06-05</td><td>7:40 AM</td><td>93368</td><td>2.88</td><td>true</td><td>Product</td></tr><tr><td>Ernest</td><td>Male</td><td>1997-09-06</td><td>2:02 PM</td><td>53335</td><td>9.192</td><td>false</td><td>Product</td></tr><tr><td>Charles</td><td>Male</td><td>1997-09-03</td><td>10:04 AM</td><td>148291</td><td>6.002</td><td>false</td><td>null</td></tr><tr><td>Bobby</td><td>Male</td><td>1996-08-19</td><td>1:16 AM</td><td>147842</td><td>16.158</td><td>true</td><td>null</td></tr><tr><td>Diana</td><td>Female</td><td>2004-11-19</td><td>8:47 AM</td><td>105066</td><td>17.343</td><td>true</td><td>Business Development</td></tr><tr><td>Mildred</td><td>Female</td><td>2007-04-06</td><td>10:06 PM</td><td>139284</td><td>11.39</td><td>true</td><td>null</td></tr><tr><td>Harry</td><td>Male</td><td>1985-02-10</td><td>7:46 PM</td><td>63046</td><td>10.411</td><td>false</td><td>Finance</td></tr><tr><td>Phillip</td><td>null</td><td>2003-10-20</td><td>11:09 AM</td><td>89700</td><td>2.277</td><td>true</td><td>null</td></tr><tr><td>Bonnie</td><td>null</td><td>2006-01-18</td><td>6:52 PM</td><td>108946</td><td>12.211</td><td>false</td><td>Finance</td></tr><tr><td>Marie</td><td>Female</td><td>1993-12-08</td><td>6:28 PM</td><td>98406</td><td>7.943</td><td>true</td><td>Product</td></tr><tr><td>Sean</td><td>Male</td><td>2006-04-25</td><td>4:51 PM</td><td>108581</td><td>9.634</td><td>false</td><td>Human Resources</td></tr><tr><td>Robin</td><td>Female</td><td>2012-10-01</td><td>2:44 AM</td><td>41808</td><td>19.239</td><td>false</td><td>Business Development</td></tr><tr><td>Phillip</td><td>Male</td><td>1984-10-07</td><td>11:05 AM</td><td>36837</td><td>14.66</td><td>false</td><td>Marketing</td></tr><tr><td>Jerry</td><td>Male</td><td>1989-03-26</td><td>4:15 AM</td><td>140850</td><td>18.855</td><td>false</td><td>Finance</td></tr><tr><td>Ronald</td><td>Male</td><td>1983-05-25</td><td>10:05 AM</td><td>50426</td><td>18.536</td><td>true</td><td>Sales</td></tr><tr><td>Phillip</td><td>Male</td><td>1984-05-15</td><td>6:15 AM</td><td>134120</td><td>6.842</td><td>false</td><td>Human Resources</td></tr><tr><td>Ryan</td><td>Male</td><td>2012-11-16</td><td>1:47 PM</td><td>57292</td><td>6.01</td><td>false</td><td>null</td></tr><tr><td>Karen</td><td>Female</td><td>1997-08-29</td><td>4:56 PM</td><td>80633</td><td>16.306</td><td>false</td><td>Legal</td></tr><tr><td>Bonnie</td><td>Female</td><td>2004-08-25</td><td>2:17 AM</td><td>131943</td><td>14.249</td><td>false</td><td>Client Services</td></tr><tr><td>Earl</td><td>Male</td><td>2013-06-15</td><td>3:00 AM</td><td>48046</td><td>7.737</td><td>false</td><td>Marketing</td></tr><tr><td>Katherine</td><td>Female</td><td>2013-08-18</td><td>3:58 PM</td><td>97443</td><td>13.657</td><td>false</td><td>Product</td></tr><tr><td>Matthew</td><td>Male</td><td>1995-08-03</td><td>5:39 AM</td><td>135352</td><td>7.986</td><td>true</td><td>Business Development</td></tr><tr><td>Cynthia</td><td>null</td><td>1996-11-19</td><td>10:40 PM</td><td>107816</td><td>18.751</td><td>false</td><td>Marketing</td></tr><tr><td>Gerald</td><td>Male</td><td>2003-03-29</td><td>10:37 AM</td><td>96329</td><td>2.469</td><td>true</td><td>Engineering</td></tr><tr><td>Brenda</td><td>Female</td><td>2015-01-18</td><td>4:39 PM</td><td>73749</td><td>19.332</td><td>false</td><td>Business Development</td></tr><tr><td>Jason</td><td>Male</td><td>1998-05-01</td><td>6:05 PM</td><td>75607</td><td>4.299</td><td>true</td><td>Sales</td></tr><tr><td>Melissa</td><td>Female</td><td>1994-09-08</td><td>4:11 AM</td><td>98858</td><td>3.525</td><td>true</td><td>Human Resources</td></tr><tr><td>Beverly</td><td>Female</td><td>1998-04-11</td><td>2:27 PM</td><td>76485</td><td>9.212</td><td>true</td><td>Engineering</td></tr><tr><td>Terry</td><td>null</td><td>1992-09-11</td><td>4:41 PM</td><td>41238</td><td>8.219</td><td>false</td><td>Marketing</td></tr><tr><td>null</td><td>Male</td><td>1980-09-05</td><td>7:36 AM</td><td>114896</td><td>13.823</td><td>null</td><td>Client Services</td></tr><tr><td>Jacqueline</td><td>Female</td><td>2003-05-25</td><td>7:13 PM</td><td>125418</td><td>8.064</td><td>false</td><td>Distribution</td></tr><tr><td>Amy</td><td>Female</td><td>2009-05-20</td><td>6:26 AM</td><td>75415</td><td>19.132</td><td>false</td><td>Client Services</td></tr><tr><td>Robert</td><td>null</td><td>2007-05-25</td><td>3:17 AM</td><td>90998</td><td>8.382</td><td>false</td><td>Finance</td></tr><tr><td>Ruby</td><td>Female</td><td>1980-01-28</td><td>11:08 PM</td><td>142868</td><td>6.318</td><td>false</td><td>Marketing</td></tr><tr><td>Sara</td><td>null</td><td>2014-11-18</td><td>2:47 PM</td><td>135990</td><td>14.344</td><td>true</td><td>Distribution</td></tr><tr><td>Kathryn</td><td>Female</td><td>1995-10-27</td><td>3:39 PM</td><td>57300</td><td>18.015</td><td>false</td><td>Marketing</td></tr><tr><td>Lisa</td><td>Female</td><td>2003-10-17</td><td>1:42 PM</td><td>73706</td><td>18.53</td><td>false</td><td>Finance</td></tr><tr><td>Juan</td><td>Male</td><td>1993-10-06</td><td>8:52 AM</td><td>85871</td><td>9.16</td><td>false</td><td>Product</td></tr><tr><td>Anthony</td><td>Male</td><td>2014-01-30</td><td>9:04 PM</td><td>96795</td><td>14.837</td><td>false</td><td>Sales</td></tr><tr><td>David</td><td>Male</td><td>2009-12-05</td><td>8:48 AM</td><td>92242</td><td>15.407</td><td>false</td><td>Legal</td></tr><tr><td>Marilyn</td><td>Female</td><td>2007-10-08</td><td>12:32 AM</td><td>115149</td><td>11.934</td><td>true</td><td>Legal</td></tr><tr><td>Margaret</td><td>Female</td><td>2001-01-04</td><td>3:07 AM</td><td>126924</td><td>1.552</td><td>true</td><td>Finance</td></tr><tr><td>null</td><td>Male</td><td>2015-11-24</td><td>3:11 AM</td><td>145329</td><td>7.1</td><td>null</td><td>Finance</td></tr><tr><td>Timothy</td><td>Male</td><td>1991-08-25</td><td>10:37 AM</td><td>92587</td><td>8.475</td><td>false</td><td>Finance</td></tr><tr><td>Brandon</td><td>Male</td><td>1995-10-23</td><td>12:04 PM</td><td>60263</td><td>2.709</td><td>false</td><td>Sales</td></tr><tr><td>Frank</td><td>Male</td><td>2013-07-27</td><td>4:32 PM</td><td>91406</td><td>5.681</td><td>true</td><td>Business Development</td></tr><tr><td>Betty</td><td>Female</td><td>2002-11-19</td><td>10:40 AM</td><td>37005</td><td>7.645</td><td>true</td><td>Marketing</td></tr><tr><td>Janice</td><td>null</td><td>1991-11-19</td><td>6:02 PM</td><td>139791</td><td>16.968</td><td>false</td><td>Business Development</td></tr><tr><td>Victor</td><td>Male</td><td>2010-03-10</td><td>5:01 PM</td><td>45267</td><td>3.942</td><td>true</td><td>Sales</td></tr><tr><td>Kenneth</td><td>null</td><td>1994-02-28</td><td>10:10 AM</td><td>95296</td><td>10.146</td><td>false</td><td>Finance</td></tr><tr><td>Jane</td><td>Female</td><td>2012-04-27</td><td>2:12 PM</td><td>59680</td><td>15.211</td><td>true</td><td>Business Development</td></tr><tr><td>Walter</td><td>Male</td><td>1992-05-21</td><td>12:39 AM</td><td>144701</td><td>16.323</td><td>true</td><td>Marketing</td></tr><tr><td>Christina</td><td>Female</td><td>2002-06-23</td><td>3:18 PM</td><td>35477</td><td>18.178</td><td>false</td><td>Human Resources</td></tr><tr><td>Patricia</td><td>Female</td><td>1995-10-10</td><td>4:52 PM</td><td>119266</td><td>6.911</td><td>false</td><td>Distribution</td></tr><tr><td>null</td><td>Male</td><td>2001-05-23</td><td>7:52 PM</td><td>103877</td><td>6.322</td><td>null</td><td>Distribution</td></tr><tr><td>Heather</td><td>Female</td><td>1983-07-29</td><td>10:48 AM</td><td>47605</td><td>14.955</td><td>true</td><td>Human Resources</td></tr><tr><td>Stephanie</td><td>Female</td><td>1988-06-26</td><td>5:48 AM</td><td>136604</td><td>6.16</td><td>true</td><td>Human Resources</td></tr><tr><td>Alice</td><td>Female</td><td>2013-02-09</td><td>12:49 AM</td><td>121250</td><td>4.363</td><td>true</td><td>Finance</td></tr><tr><td>Frances</td><td>Female</td><td>2014-05-16</td><td>8:31 AM</td><td>35884</td><td>17.667</td><td>false</td><td>Sales</td></tr><tr><td>Elizabeth</td><td>Female</td><td>1998-07-27</td><td>11:12 AM</td><td>137144</td><td>10.081</td><td>false</td><td>Finance</td></tr><tr><td>Janice</td><td>Female</td><td>2009-12-17</td><td>6:42 AM</td><td>102697</td><td>3.283</td><td>false</td><td>Engineering</td></tr><tr><td>Donald</td><td>Male</td><td>1991-08-01</td><td>2:25 AM</td><td>61999</td><td>6.466</td><td>false</td><td>Product</td></tr><tr><td>Melissa</td><td>Female</td><td>2002-10-22</td><td>1:20 AM</td><td>45223</td><td>8.879</td><td>true</td><td>Legal</td></tr><tr><td>Carl</td><td>Male</td><td>2010-07-07</td><td>1:33 PM</td><td>54033</td><td>15.528</td><td>true</td><td>Business Development</td></tr><tr><td>Joe</td><td>Male</td><td>1998-12-08</td><td>10:28 AM</td><td>126120</td><td>1.02</td><td>false</td><td>null</td></tr><tr><td>Lois</td><td>Female</td><td>2015-12-11</td><td>4:10 PM</td><td>99747</td><td>6.168</td><td>false</td><td>Marketing</td></tr><tr><td>Ann</td><td>Female</td><td>2001-09-28</td><td>6:37 AM</td><td>71958</td><td>5.272</td><td>true</td><td>Distribution</td></tr><tr><td>Todd</td><td>Male</td><td>1983-01-04</td><td>12:34 PM</td><td>115566</td><td>6.716</td><td>true</td><td>Client Services</td></tr><tr><td>Marilyn</td><td>Female</td><td>1996-01-16</td><td>7:18 AM</td><td>118369</td><td>7.696</td><td>true</td><td>Business Development</td></tr><tr><td>Shawn</td><td>Male</td><td>2008-03-13</td><td>5:36 PM</td><td>51667</td><td>6.339</td><td>false</td><td>Product</td></tr><tr><td>Ryan</td><td>Male</td><td>1999-04-27</td><td>3:41 AM</td><td>85858</td><td>19.475</td><td>false</td><td>Client Services</td></tr><tr><td>Sean</td><td>Male</td><td>2009-03-21</td><td>11:38 AM</td><td>131423</td><td>8.957</td><td>false</td><td>Distribution</td></tr><tr><td>Rose</td><td>Female</td><td>2002-01-02</td><td>9:14 PM</td><td>49538</td><td>9.828</td><td>false</td><td>Client Services</td></tr><tr><td>George</td><td>Male</td><td>2015-06-05</td><td>5:40 AM</td><td>50369</td><td>18.9</td><td>true</td><td>Sales</td></tr><tr><td>Arthur</td><td>Male</td><td>2013-12-05</td><td>8:44 AM</td><td>86615</td><td>3.412</td><td>true</td><td>Business Development</td></tr><tr><td>Irene</td><td>null</td><td>1991-02-28</td><td>10:23 PM</td><td>135369</td><td>4.38</td><td>false</td><td>Business Development</td></tr><tr><td>Deborah</td><td>Female</td><td>2003-11-11</td><td>4:53 PM</td><td>60003</td><td>9.624</td><td>false</td><td>Client Services</td></tr><tr><td>null</td><td>Female</td><td>2000-08-23</td><td>4:19 PM</td><td>95866</td><td>19.388</td><td>null</td><td>Sales</td></tr><tr><td>Judith</td><td>Female</td><td>2004-03-01</td><td>7:32 AM</td><td>109324</td><td>19.488</td><td>false</td><td>Distribution</td></tr><tr><td>Philip</td><td>Male</td><td>2005-03-11</td><td>10:56 AM</td><td>103557</td><td>16.014</td><td>true</td><td>Business Development</td></tr><tr><td>Jeffrey</td><td>Male</td><td>1986-09-20</td><td>6:06 AM</td><td>111376</td><td>2.673</td><td>true</td><td>Business Development</td></tr><tr><td>Theresa</td><td>Female</td><td>2001-04-27</td><td>9:17 PM</td><td>75661</td><td>1.079</td><td>true</td><td>Legal</td></tr><tr><td>Nancy</td><td>Female</td><td>2001-09-10</td><td>11:57 PM</td><td>85213</td><td>2.386</td><td>true</td><td>Marketing</td></tr><tr><td>Harold</td><td>Male</td><td>2012-06-23</td><td>12:40 PM</td><td>140444</td><td>3.771</td><td>false</td><td>Distribution</td></tr><tr><td>Bonnie</td><td>Female</td><td>2008-12-23</td><td>9:26 AM</td><td>90427</td><td>2.01</td><td>true</td><td>Client Services</td></tr><tr><td>Doris</td><td>Female</td><td>1993-07-05</td><td>5:54 PM</td><td>141439</td><td>3.799</td><td>false</td><td>Business Development</td></tr><tr><td>Samuel</td><td>Male</td><td>1997-08-07</td><td>12:40 PM</td><td>43694</td><td>3.787</td><td>true</td><td>Engineering</td></tr><tr><td>Alice</td><td>Female</td><td>1996-03-23</td><td>3:09 AM</td><td>131952</td><td>12.09</td><td>false</td><td>Engineering</td></tr><tr><td>Maria</td><td>Female</td><td>2003-03-14</td><td>5:23 PM</td><td>96250</td><td>10.056</td><td>false</td><td>Business Development</td></tr><tr><td>Aaron</td><td>null</td><td>1986-01-22</td><td>7:39 PM</td><td>63126</td><td>18.424</td><td>false</td><td>Client Services</td></tr><tr><td>Mark</td><td>null</td><td>2006-09-09</td><td>12:27 PM</td><td>44836</td><td>2.657</td><td>false</td><td>Client Services</td></tr><tr><td>Ralph</td><td>null</td><td>1995-07-28</td><td>6:53 PM</td><td>70635</td><td>2.147</td><td>false</td><td>Client Services</td></tr><tr><td>Andrew</td><td>Male</td><td>1990-09-28</td><td>9:38 AM</td><td>137386</td><td>8.611</td><td>true</td><td>Distribution</td></tr><tr><td>William</td><td>Male</td><td>1997-06-26</td><td>8:33 AM</td><td>104840</td><td>15.653</td><td>true</td><td>Engineering</td></tr><tr><td>Lori</td><td>Female</td><td>2015-11-20</td><td>1:15 PM</td><td>75498</td><td>6.537</td><td>true</td><td>Marketing</td></tr><tr><td>Wayne</td><td>Male</td><td>2006-09-08</td><td>11:09 AM</td><td>67471</td><td>2.728</td><td>false</td><td>Engineering</td></tr><tr><td>Kenneth</td><td>Male</td><td>2006-05-10</td><td>8:24 AM</td><td>101914</td><td>1.905</td><td>true</td><td>Distribution</td></tr><tr><td>Gerald</td><td>null</td><td>1989-04-15</td><td>12:44 PM</td><td>93712</td><td>17.426</td><td>true</td><td>Distribution</td></tr><tr><td>null</td><td>Female</td><td>1985-09-15</td><td>1:50 AM</td><td>133472</td><td>16.941</td><td>null</td><td>Distribution</td></tr><tr><td>null</td><td>Male</td><td>2012-07-30</td><td>3:07 PM</td><td>107351</td><td>5.329</td><td>null</td><td>Marketing</td></tr><tr><td>Ashley</td><td>Female</td><td>2006-03-31</td><td>1:24 PM</td><td>142410</td><td>11.048</td><td>true</td><td>Engineering</td></tr><tr><td>Scott</td><td>Male</td><td>2011-08-20</td><td>8:08 AM</td><td>37385</td><td>8.226</td><td>true</td><td>Business Development</td></tr><tr><td>Paula</td><td>Female</td><td>1983-05-21</td><td>11:42 AM</td><td>58423</td><td>10.833</td><td>false</td><td>Business Development</td></tr><tr><td>null</td><td>Female</td><td>2010-09-14</td><td>5:19 AM</td><td>143638</td><td>9.662</td><td>null</td><td>null</td></tr><tr><td>Teresa</td><td>Female</td><td>2013-01-22</td><td>3:17 PM</td><td>113425</td><td>11.907</td><td>true</td><td>Human Resources</td></tr><tr><td>Randy</td><td>Male</td><td>2012-02-25</td><td>5:33 AM</td><td>57266</td><td>14.077</td><td>false</td><td>Product</td></tr><tr><td>Joe</td><td>Male</td><td>1980-01-19</td><td>4:06 PM</td><td>119667</td><td>1.148</td><td>true</td><td>Finance</td></tr><tr><td>Sarah</td><td>Female</td><td>2014-08-17</td><td>11:08 PM</td><td>127118</td><td>11.176</td><td>false</td><td>Legal</td></tr><tr><td>Beverly</td><td>Female</td><td>1986-10-17</td><td>12:51 AM</td><td>80838</td><td>8.115</td><td>false</td><td>Engineering</td></tr><tr><td>Jeffrey</td><td>Male</td><td>1984-02-03</td><td>1:26 PM</td><td>70990</td><td>15.901</td><td>true</td><td>Sales</td></tr><tr><td>Gloria</td><td>Female</td><td>1987-10-24</td><td>4:43 AM</td><td>39833</td><td>9.631</td><td>false</td><td>Engineering</td></tr><tr><td>Albert</td><td>Male</td><td>1992-09-19</td><td>2:35 AM</td><td>45094</td><td>5.85</td><td>true</td><td>Business Development</td></tr><tr><td>Stephen</td><td>Male</td><td>1989-10-29</td><td>11:34 PM</td><td>93997</td><td>18.093</td><td>true</td><td>Business Development</td></tr><tr><td>Antonio</td><td>null</td><td>1989-06-18</td><td>9:37 PM</td><td>103050</td><td>3.05</td><td>false</td><td>Legal</td></tr><tr><td>Jonathan</td><td>Male</td><td>2013-08-21</td><td>12:45 AM</td><td>121797</td><td>16.923</td><td>false</td><td>Product</td></tr><tr><td>Ann</td><td>Female</td><td>1994-09-23</td><td>11:15 AM</td><td>89443</td><td>17.94</td><td>true</td><td>Sales</td></tr><tr><td>Bruce</td><td>Male</td><td>1980-05-07</td><td>8:00 PM</td><td>35802</td><td>12.391</td><td>true</td><td>Sales</td></tr><tr><td>Catherine</td><td>Female</td><td>1989-09-25</td><td>1:31 AM</td><td>68164</td><td>18.393</td><td>false</td><td>Client Services</td></tr><tr><td>Louis</td><td>Male</td><td>2011-08-16</td><td>5:19 PM</td><td>93022</td><td>9.146</td><td>true</td><td>Human Resources</td></tr><tr><td>Thomas</td><td>Male</td><td>2016-03-12</td><td>3:10 PM</td><td>105681</td><td>19.572</td><td>false</td><td>Engineering</td></tr><tr><td>Louise</td><td>Female</td><td>1995-03-27</td><td>10:27 PM</td><td>43050</td><td>11.671</td><td>false</td><td>Distribution</td></tr><tr><td>Linda</td><td>Female</td><td>2010-02-04</td><td>8:49 PM</td><td>44486</td><td>17.308</td><td>true</td><td>Engineering</td></tr><tr><td>Alice</td><td>Female</td><td>1988-09-03</td><td>8:54 PM</td><td>63571</td><td>15.397</td><td>true</td><td>Product</td></tr><tr><td>Patrick</td><td>Male</td><td>2002-12-30</td><td>2:01 AM</td><td>75423</td><td>5.368</td><td>true</td><td>Business Development</td></tr><tr><td>Victor</td><td>null</td><td>2006-07-28</td><td>2:49 PM</td><td>76381</td><td>11.159</td><td>true</td><td>Sales</td></tr><tr><td>Russell</td><td>Male</td><td>2013-05-10</td><td>11:08 PM</td><td>137359</td><td>11.105</td><td>false</td><td>Business Development</td></tr><tr><td>Harry</td><td>Male</td><td>2011-08-30</td><td>6:31 PM</td><td>67656</td><td>16.455</td><td>true</td><td>Client Services</td></tr><tr><td>Susan</td><td>Female</td><td>1995-04-07</td><td>10:05 PM</td><td>92436</td><td>12.467</td><td>false</td><td>Sales</td></tr><tr><td>Denise</td><td>Female</td><td>1992-10-19</td><td>5:42 AM</td><td>137954</td><td>4.195</td><td>true</td><td>Legal</td></tr><tr><td>Sarah</td><td>Female</td><td>1995-12-04</td><td>9:16 AM</td><td>124566</td><td>5.949</td><td>false</td><td>Product</td></tr><tr><td>Sean</td><td>Male</td><td>1983-01-17</td><td>2:23 PM</td><td>66146</td><td>11.178</td><td>false</td><td>Human Resources</td></tr><tr><td>Ernest</td><td>Male</td><td>2013-07-20</td><td>6:41 AM</td><td>142935</td><td>13.198</td><td>true</td><td>Product</td></tr><tr><td>Kimberly</td><td>Female</td><td>2013-01-26</td><td>12:57 AM</td><td>46233</td><td>8.862</td><td>true</td><td>Engineering</td></tr><tr><td>James</td><td>Male</td><td>1993-01-15</td><td>5:19 PM</td><td>148985</td><td>19.28</td><td>false</td><td>Legal</td></tr><tr><td>Rose</td><td>Female</td><td>1982-04-06</td><td>10:43 AM</td><td>91411</td><td>8.639</td><td>true</td><td>Human Resources</td></tr><tr><td>John</td><td>Male</td><td>1982-12-23</td><td>10:35 PM</td><td>146907</td><td>11.738</td><td>false</td><td>Engineering</td></tr><tr><td>Maria</td><td>Female</td><td>2011-10-15</td><td>4:53 PM</td><td>43455</td><td>13.04</td><td>false</td><td>Engineering</td></tr><tr><td>Stephen</td><td>null</td><td>1983-07-10</td><td>8:10 PM</td><td>85668</td><td>1.909</td><td>false</td><td>Legal</td></tr><tr><td>Donna</td><td>Female</td><td>1982-11-26</td><td>7:04 AM</td><td>82871</td><td>17.999</td><td>false</td><td>Marketing</td></tr><tr><td>Gloria</td><td>Female</td><td>2014-12-08</td><td>5:08 AM</td><td>136709</td><td>10.331</td><td>true</td><td>Finance</td></tr><tr><td>Alice</td><td>Female</td><td>2004-10-05</td><td>9:34 AM</td><td>47638</td><td>11.209</td><td>false</td><td>Human Resources</td></tr><tr><td>Justin</td><td>null</td><td>1991-02-10</td><td>4:58 PM</td><td>38344</td><td>3.794</td><td>false</td><td>Legal</td></tr><tr><td>Robin</td><td>Female</td><td>1987-07-24</td><td>1:35 PM</td><td>100765</td><td>10.982</td><td>true</td><td>Client Services</td></tr><tr><td>Rose</td><td>Female</td><td>2002-08-25</td><td>5:12 AM</td><td>134505</td><td>11.051</td><td>true</td><td>Marketing</td></tr><tr><td>Anthony</td><td>Male</td><td>2011-10-16</td><td>8:35 AM</td><td>112769</td><td>11.625</td><td>true</td><td>Finance</td></tr><tr><td>Tina</td><td>Female</td><td>1997-05-15</td><td>3:53 PM</td><td>56450</td><td>19.04</td><td>true</td><td>Engineering</td></tr><tr><td>George</td><td>Male</td><td>2013-06-21</td><td>5:47 PM</td><td>98874</td><td>4.479</td><td>true</td><td>Marketing</td></tr><tr><td>Henry</td><td>null</td><td>2014-11-23</td><td>6:09 AM</td><td>132483</td><td>16.655</td><td>false</td><td>Distribution</td></tr><tr><td>Phillip</td><td>Male</td><td>1984-01-31</td><td>6:30 AM</td><td>42392</td><td>19.675</td><td>false</td><td>Finance</td></tr><tr><td>Russell</td><td>Male</td><td>2013-05-20</td><td>12:39 PM</td><td>96914</td><td>1.421</td><td>false</td><td>Product</td></tr><tr><td>Larry</td><td>Male</td><td>2013-04-20</td><td>4:45 PM</td><td>60500</td><td>11.985</td><td>false</td><td>Business Development</td></tr><tr><td>Albert</td><td>Male</td><td>2012-05-15</td><td>6:24 PM</td><td>129949</td><td>10.169</td><td>true</td><td>Sales</td></tr></tbody></table></div>"
      ]
     },
     "metadata": {
      "application/vnd.databricks.v1+output": {
       "addedWidgets": {},
       "aggData": [],
       "aggError": "",
       "aggOverflow": false,
       "aggSchema": [],
       "aggSeriesLimitReached": false,
       "aggType": "",
       "arguments": {},
       "columnCustomDisplayInfos": {},
       "data": [
        [
         "Douglas",
         "Male",
         "1993-08-06",
         "12:42 PM",
         97308,
         6.945,
         true,
         "Marketing"
        ],
        [
         "Thomas",
         "Male",
         "1996-03-31",
         "6:53 AM",
         61933,
         4.17,
         true,
         null
        ],
        [
         "Maria",
         "Female",
         "1993-04-23",
         "11:17 AM",
         130590,
         11.858,
         false,
         "Finance"
        ],
        [
         "Jerry",
         "Male",
         "2005-03-04",
         "1:00 PM",
         138705,
         9.34,
         true,
         "Finance"
        ],
        [
         "Larry",
         "Male",
         "1998-01-24",
         "4:47 PM",
         101004,
         1.389,
         true,
         "Client Services"
        ],
        [
         "Dennis",
         "Male",
         "1987-04-18",
         "1:35 AM",
         115163,
         10.125,
         false,
         "Legal"
        ],
        [
         "Ruby",
         "Female",
         "1987-08-17",
         "4:20 PM",
         65476,
         10.012,
         true,
         "Product"
        ],
        [
         null,
         "Female",
         "2015-07-20",
         "10:43 AM",
         45906,
         11.598,
         null,
         "Finance"
        ],
        [
         "Angela",
         "Female",
         "2005-11-22",
         "6:29 AM",
         95570,
         18.523,
         true,
         "Engineering"
        ],
        [
         "Frances",
         "Female",
         "2002-08-08",
         "6:51 AM",
         139852,
         7.524,
         true,
         "Business Development"
        ],
        [
         "Louise",
         "Female",
         "1980-08-12",
         "9:01 AM",
         63241,
         15.132,
         true,
         null
        ],
        [
         "Julie",
         "Female",
         "1997-10-26",
         "3:19 PM",
         102508,
         12.637,
         true,
         "Legal"
        ],
        [
         "Brandon",
         "Male",
         "1980-12-01",
         "1:08 AM",
         112807,
         17.492,
         true,
         "Human Resources"
        ],
        [
         "Gary",
         "Male",
         "2008-01-27",
         "11:40 PM",
         109831,
         5.831,
         false,
         "Sales"
        ],
        [
         "Kimberly",
         "Female",
         "1999-01-14",
         "7:13 AM",
         41426,
         14.543,
         true,
         "Finance"
        ],
        [
         "Lillian",
         "Female",
         "2016-06-05",
         "6:09 AM",
         59414,
         1.256,
         false,
         "Product"
        ],
        [
         "Jeremy",
         "Male",
         "2010-09-21",
         "5:56 AM",
         90370,
         7.369,
         false,
         "Human Resources"
        ],
        [
         "Shawn",
         "Male",
         "1986-12-07",
         "7:45 PM",
         111737,
         6.414,
         false,
         "Product"
        ],
        [
         "Diana",
         "Female",
         "1981-10-23",
         "10:27 AM",
         132940,
         19.082,
         false,
         "Client Services"
        ],
        [
         "Donna",
         "Female",
         "2010-07-22",
         "3:48 AM",
         81014,
         1.894,
         false,
         "Product"
        ],
        [
         "Lois",
         null,
         "1995-04-22",
         "7:18 PM",
         64714,
         4.934,
         true,
         "Legal"
        ],
        [
         "Matthew",
         "Male",
         "1995-09-05",
         "2:12 AM",
         100612,
         13.645,
         false,
         "Marketing"
        ],
        [
         "Joshua",
         null,
         "2012-03-08",
         "1:58 AM",
         90816,
         18.816,
         true,
         "Client Services"
        ],
        [
         null,
         "Male",
         "2012-06-14",
         "4:19 PM",
         125792,
         5.042,
         null,
         null
        ],
        [
         "John",
         "Male",
         "1992-07-01",
         "10:08 PM",
         97950,
         13.873,
         false,
         "Client Services"
        ],
        [
         null,
         "Male",
         "2012-10-08",
         "1:12 AM",
         37076,
         18.576,
         null,
         "Client Services"
        ],
        [
         "Craig",
         "Male",
         "2000-02-27",
         "7:45 AM",
         37598,
         7.757,
         true,
         "Marketing"
        ],
        [
         "Scott",
         null,
         "1991-07-11",
         "6:58 PM",
         122367,
         5.218,
         false,
         "Legal"
        ],
        [
         "Terry",
         "Male",
         "1981-11-27",
         "6:30 PM",
         124008,
         13.464,
         true,
         "Client Services"
        ],
        [
         "Benjamin",
         "Male",
         "2005-01-26",
         "10:06 PM",
         79529,
         7.008,
         true,
         "Legal"
        ],
        [
         "Christina",
         "Female",
         "2002-08-06",
         "1:19 PM",
         118780,
         9.096,
         true,
         "Engineering"
        ],
        [
         "Joyce",
         null,
         "2005-02-20",
         "2:40 PM",
         88657,
         12.752,
         false,
         "Product"
        ],
        [
         null,
         "Male",
         "1998-08-21",
         "2:27 PM",
         122340,
         6.417,
         null,
         null
        ],
        [
         "Jean",
         "Female",
         "1993-12-18",
         "9:07 AM",
         119082,
         16.18,
         false,
         "Business Development"
        ],
        [
         "Jerry",
         "Male",
         "2004-01-10",
         "12:56 PM",
         95734,
         19.096,
         false,
         "Client Services"
        ],
        [
         "Theresa",
         "Female",
         "2006-10-10",
         "1:12 AM",
         85182,
         16.675,
         false,
         "Sales"
        ],
        [
         "Rachel",
         "Female",
         "2009-02-16",
         "8:47 PM",
         142032,
         12.599,
         false,
         "Business Development"
        ],
        [
         "Linda",
         "Female",
         "1981-10-19",
         "8:49 PM",
         57427,
         9.557,
         true,
         "Client Services"
        ],
        [
         "Stephanie",
         "Female",
         "1986-09-13",
         "1:52 AM",
         36844,
         5.574,
         true,
         "Business Development"
        ],
        [
         null,
         "Male",
         "2016-01-29",
         "2:33 AM",
         122173,
         7.797,
         null,
         "Client Services"
        ],
        [
         "Michael",
         "Male",
         "2008-10-10",
         "11:25 AM",
         99283,
         2.665,
         true,
         "Distribution"
        ],
        [
         "Christine",
         null,
         "2015-06-28",
         "1:08 AM",
         66582,
         11.308,
         true,
         "Business Development"
        ],
        [
         "Beverly",
         "Female",
         "1998-09-09",
         "8:26 PM",
         121918,
         15.835,
         false,
         "Legal"
        ],
        [
         "Marilyn",
         "Female",
         "1980-12-07",
         "3:16 AM",
         73524,
         5.207,
         true,
         "Marketing"
        ],
        [
         "Cynthia",
         "Female",
         "1988-11-16",
         "6:54 PM",
         145146,
         7.482,
         true,
         "Product"
        ],
        [
         "Roger",
         "Male",
         "1980-04-17",
         "11:32 AM",
         88010,
         13.886,
         true,
         "Sales"
        ],
        [
         "Bruce",
         "Male",
         "2009-11-28",
         "10:47 PM",
         114796,
         6.796,
         false,
         "Finance"
        ],
        [
         "Kathy",
         "Female",
         "2005-06-22",
         "4:51 AM",
         66820,
         9.0,
         true,
         "Client Services"
        ],
        [
         "Clarence",
         "Male",
         "1996-03-26",
         "5:57 AM",
         93581,
         6.083,
         true,
         "Business Development"
        ],
        [
         "Chris",
         null,
         "1980-01-24",
         "12:13 PM",
         113590,
         3.055,
         false,
         "Sales"
        ],
        [
         "Nancy",
         "Female",
         "2000-09-23",
         "8:05 AM",
         94976,
         13.83,
         true,
         "Engineering"
        ],
        [
         null,
         null,
         "2011-12-17",
         "8:29 AM",
         41126,
         14.009,
         null,
         "Sales"
        ],
        [
         "Todd",
         "Male",
         "1990-02-18",
         "2:41 AM",
         49339,
         1.695,
         true,
         "Human Resources"
        ],
        [
         "Alan",
         null,
         "2014-03-03",
         "1:28 PM",
         40341,
         17.578,
         true,
         "Finance"
        ],
        [
         "Sara",
         "Female",
         "2007-08-15",
         "9:23 AM",
         83677,
         8.999,
         false,
         "Engineering"
        ],
        [
         "Karen",
         "Female",
         "1999-11-30",
         "7:46 AM",
         102488,
         17.653,
         true,
         "Product"
        ],
        [
         "Carl",
         "Male",
         "2006-05-03",
         "5:55 PM",
         130276,
         16.084,
         true,
         "Finance"
        ],
        [
         "Henry",
         "Male",
         "1996-06-26",
         "1:44 AM",
         64715,
         15.107,
         true,
         "Human Resources"
        ],
        [
         "Theresa",
         "Female",
         "2010-04-11",
         "7:18 AM",
         72670,
         1.481,
         true,
         "Engineering"
        ],
        [
         "Irene",
         "Female",
         "1997-05-07",
         "9:32 AM",
         66851,
         11.279,
         false,
         "Engineering"
        ],
        [
         "Paula",
         null,
         "2005-11-23",
         "2:01 PM",
         48866,
         4.271,
         false,
         "Distribution"
        ],
        [
         "Denise",
         "Female",
         "2001-11-06",
         "12:03 PM",
         106862,
         3.699,
         false,
         "Business Development"
        ],
        [
         null,
         "Female",
         "2007-06-12",
         "5:25 PM",
         58112,
         19.414,
         null,
         "Marketing"
        ],
        [
         "Matthew",
         "Male",
         "2013-01-02",
         "10:33 PM",
         35203,
         18.04,
         false,
         "Human Resources"
        ],
        [
         "Kathleen",
         null,
         "1990-04-11",
         "6:46 PM",
         77834,
         18.771,
         false,
         "Business Development"
        ],
        [
         "Steve",
         "Male",
         "2009-11-11",
         "11:44 PM",
         61310,
         12.428,
         true,
         "Distribution"
        ],
        [
         "Nancy",
         "Female",
         "2012-12-15",
         "11:57 PM",
         125250,
         2.672,
         true,
         "Business Development"
        ],
        [
         "Rachel",
         "Female",
         "1999-08-16",
         "6:53 AM",
         51178,
         9.735,
         true,
         "Finance"
        ],
        [
         "Jose",
         "Male",
         "2004-10-30",
         "1:39 PM",
         84834,
         14.33,
         true,
         "Finance"
        ],
        [
         "Irene",
         null,
         "2015-07-14",
         "4:31 PM",
         100863,
         4.382,
         true,
         "Finance"
        ],
        [
         "Todd",
         null,
         "2003-06-10",
         "2:26 PM",
         84692,
         6.617,
         false,
         "Client Services"
        ],
        [
         "Johnny",
         "Male",
         "2009-11-06",
         "4:23 PM",
         118172,
         16.194,
         true,
         "Sales"
        ],
        [
         "Bobby",
         "Male",
         "2007-05-07",
         "10:01 AM",
         54043,
         3.833,
         false,
         "Product"
        ],
        [
         "Frances",
         "Female",
         "1999-04-04",
         "4:19 PM",
         90582,
         4.709,
         true,
         "Sales"
        ],
        [
         "Thomas",
         "Male",
         "1995-06-04",
         "2:24 PM",
         62096,
         17.029,
         false,
         "Marketing"
        ],
        [
         "Bonnie",
         "Female",
         "1991-07-02",
         "1:27 AM",
         104897,
         5.118,
         true,
         "Human Resources"
        ],
        [
         "Margaret",
         "Female",
         "1988-09-10",
         "12:42 PM",
         131604,
         7.353,
         true,
         "Distribution"
        ],
        [
         "Charles",
         "Male",
         "2004-09-14",
         "8:13 PM",
         107391,
         1.26,
         true,
         "Marketing"
        ],
        [
         "Robin",
         "Female",
         "1983-06-04",
         "3:15 PM",
         114797,
         5.965,
         true,
         "Sales"
        ],
        [
         "Bonnie",
         "Female",
         "1988-11-13",
         "3:30 PM",
         115814,
         4.99,
         false,
         "Product"
        ],
        [
         "Gerald",
         null,
         "1995-03-17",
         "12:50 AM",
         137126,
         15.602,
         true,
         "Sales"
        ],
        [
         "Christopher",
         "Male",
         "2008-03-30",
         "10:52 AM",
         47369,
         14.822,
         false,
         "Legal"
        ],
        [
         "Steven",
         "Male",
         "1980-03-30",
         "9:20 PM",
         35095,
         8.379,
         true,
         "Client Services"
        ],
        [
         "Shawn",
         "Male",
         "2005-09-23",
         "2:55 AM",
         148115,
         6.539,
         true,
         "Finance"
        ],
        [
         "Doris",
         "Female",
         "2004-08-20",
         "5:51 AM",
         83072,
         7.511,
         false,
         "Finance"
        ],
        [
         "Jeremy",
         "Male",
         "2008-02-01",
         "8:50 AM",
         100238,
         3.887,
         true,
         "Client Services"
        ],
        [
         "Annie",
         null,
         "2007-09-29",
         "12:11 AM",
         103495,
         17.29,
         true,
         "Business Development"
        ],
        [
         "Annie",
         "Female",
         "1993-01-30",
         "2:05 AM",
         144887,
         8.276,
         true,
         "Sales"
        ],
        [
         "Donna",
         "Female",
         "1991-11-27",
         "1:59 PM",
         64088,
         6.155,
         true,
         "Legal"
        ],
        [
         "Janice",
         "Female",
         "2016-03-12",
         "12:40 AM",
         51082,
         11.955,
         false,
         "Legal"
        ],
        [
         "Janice",
         null,
         "1997-08-21",
         "5:12 AM",
         91719,
         11.583,
         true,
         "Legal"
        ],
        [
         "James",
         null,
         "2005-01-26",
         "11:00 PM",
         128771,
         8.309,
         false,
         null
        ],
        [
         "Linda",
         "Female",
         "2000-05-25",
         "5:45 PM",
         119009,
         12.506,
         true,
         "Business Development"
        ],
        [
         "Virginia",
         null,
         "1994-05-07",
         "5:58 PM",
         111858,
         1.601,
         true,
         "Legal"
        ],
        [
         "Harry",
         "Male",
         "1981-08-26",
         "3:16 PM",
         130620,
         7.03,
         false,
         "Legal"
        ],
        [
         "Heather",
         "Female",
         "1998-07-11",
         "2:17 PM",
         43026,
         14.166,
         false,
         "Client Services"
        ],
        [
         "Cynthia",
         "Female",
         "1994-03-21",
         "8:34 AM",
         142321,
         1.737,
         false,
         "Finance"
        ],
        [
         "Laura",
         null,
         "2014-07-19",
         "9:23 PM",
         140371,
         10.62,
         true,
         "Marketing"
        ],
        [
         "Tina",
         "Female",
         "2016-06-16",
         "7:47 PM",
         100705,
         16.961,
         true,
         "Marketing"
        ],
        [
         "Harold",
         "Male",
         "1985-01-02",
         "9:40 PM",
         77544,
         12.447,
         false,
         "Business Development"
        ],
        [
         "Melissa",
         "Female",
         "2005-06-21",
         "6:33 AM",
         48109,
         14.995,
         false,
         "Finance"
        ],
        [
         "Aaron",
         "Male",
         "2012-02-17",
         "10:20 AM",
         61602,
         11.849,
         true,
         "Marketing"
        ],
        [
         "Jack",
         "Male",
         "1997-01-12",
         "5:51 AM",
         103902,
         12.159,
         false,
         "Client Services"
        ],
        [
         "Phyllis",
         "Female",
         "1996-10-11",
         "9:30 PM",
         136984,
         8.932,
         true,
         "Finance"
        ],
        [
         "John",
         "Male",
         "1989-12-23",
         "7:01 AM",
         80740,
         19.305,
         false,
         "Marketing"
        ],
        [
         "Kathy",
         "Female",
         "1996-03-09",
         "4:33 AM",
         91712,
         8.567,
         false,
         "Finance"
        ],
        [
         "Paul",
         "Male",
         "1993-08-04",
         "7:25 PM",
         42146,
         3.046,
         false,
         "Legal"
        ],
        [
         "Steven",
         "Male",
         "2013-04-23",
         "10:12 PM",
         68680,
         16.565,
         false,
         "Legal"
        ],
        [
         "Russell",
         null,
         "1988-05-05",
         "7:57 AM",
         133980,
         12.396,
         true,
         "Legal"
        ],
        [
         "Christopher",
         "Male",
         "2000-04-22",
         "10:15 AM",
         37919,
         11.449,
         false,
         null
        ],
        [
         "Shirley",
         "Female",
         "2001-06-20",
         "10:39 PM",
         147113,
         16.135,
         false,
         "Legal"
        ],
        [
         "Bonnie",
         "Female",
         "1999-12-17",
         "3:12 PM",
         42153,
         8.454,
         true,
         "Business Development"
        ],
        [
         "Willie",
         "Male",
         "2003-11-27",
         "6:21 AM",
         64363,
         4.023,
         false,
         "Marketing"
        ],
        [
         "Tina",
         "Female",
         "2009-06-12",
         "7:16 AM",
         114767,
         3.711,
         true,
         "Engineering"
        ],
        [
         "Ashley",
         "Female",
         "2002-08-04",
         "11:00 AM",
         58698,
         6.811,
         true,
         "Business Development"
        ],
        [
         "Pamela",
         "Female",
         "1982-07-01",
         "6:51 AM",
         54585,
         4.166,
         false,
         "Product"
        ],
        [
         null,
         "Male",
         "1991-06-22",
         "8:58 PM",
         76189,
         18.988,
         null,
         "Legal"
        ],
        [
         "Steven",
         "Male",
         "1995-03-01",
         "3:03 PM",
         109095,
         9.494,
         false,
         "Finance"
        ],
        [
         "Andrea",
         "Female",
         "2012-01-12",
         "5:43 AM",
         120204,
         9.557,
         false,
         "Business Development"
        ],
        [
         "Paul",
         "Male",
         "2008-06-03",
         "3:05 PM",
         41054,
         12.299,
         false,
         "Marketing"
        ],
        [
         "Peter",
         "Male",
         "1994-11-17",
         "6:15 PM",
         84885,
         15.402,
         false,
         "Business Development"
        ],
        [
         "Kathleen",
         null,
         "2016-05-09",
         "8:55 AM",
         119735,
         18.74,
         false,
         "Product"
        ],
        [
         "Christina",
         "Female",
         "2012-04-13",
         "2:04 PM",
         110169,
         13.892,
         true,
         "Engineering"
        ],
        [
         "Helen",
         "Female",
         "2001-11-29",
         "2:30 AM",
         73789,
         14.841,
         true,
         "Product"
        ],
        [
         "Marilyn",
         "Female",
         "1983-11-16",
         "8:29 AM",
         76078,
         2.401,
         true,
         "Product"
        ],
        [
         "Patricia",
         "Female",
         "2003-09-01",
         "6:46 AM",
         49368,
         14.226,
         false,
         "Human Resources"
        ],
        [
         "Michelle",
         "Female",
         "1984-03-30",
         "6:43 PM",
         57325,
         17.179,
         true,
         "Human Resources"
        ],
        [
         "William",
         "Male",
         "2002-09-29",
         "4:09 PM",
         66521,
         5.83,
         false,
         "Human Resources"
        ],
        [
         "Kenneth",
         "Male",
         "1987-08-25",
         "9:16 PM",
         127654,
         16.439,
         true,
         "Client Services"
        ],
        [
         "Antonio",
         "Male",
         "1988-10-25",
         "1:50 PM",
         60866,
         13.101,
         true,
         "Business Development"
        ],
        [
         "Shirley",
         "Female",
         "1984-05-01",
         "1:15 PM",
         41334,
         6.219,
         true,
         "Human Resources"
        ],
        [
         "Rebecca",
         "Female",
         "1992-07-10",
         "12:23 AM",
         94231,
         17.517,
         false,
         "Product"
        ],
        [
         "Carlos",
         "Male",
         "1995-01-04",
         "7:02 AM",
         146670,
         10.763,
         false,
         "Human Resources"
        ],
        [
         "Lois",
         "Female",
         "1987-12-25",
         "4:16 PM",
         106317,
         2.235,
         true,
         "Client Services"
        ],
        [
         "Carolyn",
         "Female",
         "2011-04-09",
         "5:38 AM",
         109260,
         2.65,
         true,
         "Business Development"
        ],
        [
         "Gloria",
         "Female",
         "2007-06-29",
         "5:34 AM",
         134148,
         8.833,
         true,
         "Legal"
        ],
        [
         "Henry",
         "Male",
         "1995-04-24",
         "4:18 AM",
         43542,
         19.687,
         false,
         "Legal"
        ],
        [
         "Adam",
         "Male",
         "2011-05-21",
         "1:45 AM",
         95327,
         15.12,
         false,
         "Distribution"
        ],
        [
         "Ashley",
         "Female",
         "2006-05-25",
         "11:30 AM",
         112238,
         6.03,
         true,
         "Engineering"
        ],
        [
         null,
         "Female",
         "1990-10-03",
         "1:08 AM",
         132373,
         10.527,
         null,
         null
        ],
        [
         "Shirley",
         "Female",
         "1981-02-28",
         "1:23 PM",
         113850,
         1.854,
         false,
         "Marketing"
        ],
        [
         "Adam",
         "Male",
         "1990-12-24",
         "8:57 PM",
         110194,
         14.727,
         true,
         "Product"
        ],
        [
         "Elizabeth",
         "Female",
         "2003-10-09",
         "5:53 PM",
         146129,
         5.687,
         false,
         "Finance"
        ],
        [
         "Teresa",
         null,
         "2016-01-28",
         "10:55 AM",
         140013,
         8.689,
         true,
         "Engineering"
        ],
        [
         "Nicole",
         null,
         "1982-03-05",
         "2:28 PM",
         122717,
         12.452,
         false,
         "Sales"
        ],
        [
         "Jennifer",
         "Female",
         "2009-04-04",
         "10:47 PM",
         71715,
         13.079,
         true,
         "Client Services"
        ],
        [
         "Patricia",
         "Female",
         "1992-11-25",
         "2:24 AM",
         95322,
         4.15,
         false,
         "Product"
        ],
        [
         "Philip",
         "Male",
         "2008-07-17",
         "1:30 PM",
         89227,
         3.996,
         false,
         "Legal"
        ],
        [
         "Patrick",
         null,
         "1991-07-14",
         "2:24 AM",
         124488,
         14.837,
         true,
         "Sales"
        ],
        [
         null,
         "Female",
         "2014-08-17",
         "2:00 PM",
         86230,
         8.578,
         null,
         "Distribution"
        ],
        [
         "Sean",
         "Male",
         "1996-05-04",
         "8:59 PM",
         135490,
         19.934,
         false,
         "Marketing"
        ],
        [
         "Brandon",
         null,
         "1997-11-03",
         "8:17 PM",
         121333,
         15.295,
         false,
         "Business Development"
        ],
        [
         "Ruth",
         "Female",
         "1999-08-19",
         "4:03 AM",
         129297,
         8.067,
         true,
         "Client Services"
        ],
        [
         "Victor",
         null,
         "2011-03-10",
         "8:40 PM",
         84546,
         10.489,
         true,
         "Finance"
        ],
        [
         "Rebecca",
         "Female",
         "1980-11-15",
         "4:13 AM",
         85730,
         5.359,
         true,
         "Product"
        ],
        [
         "Marie",
         "Female",
         "2003-03-16",
         "12:12 AM",
         104058,
         17.695,
         true,
         "Business Development"
        ],
        [
         "Howard",
         "Male",
         "1992-04-27",
         "1:10 AM",
         105062,
         1.563,
         false,
         "Human Resources"
        ],
        [
         null,
         "Female",
         "2005-07-27",
         "8:32 AM",
         79536,
         14.443,
         null,
         "Product"
        ],
        [
         "Norma",
         "Female",
         "1999-02-28",
         "8:45 PM",
         114412,
         8.756,
         true,
         "Marketing"
        ],
        [
         "James",
         null,
         "1983-11-22",
         "10:52 PM",
         68501,
         14.316,
         false,
         "Marketing"
        ],
        [
         "Kathy",
         "Female",
         "2000-03-18",
         "7:26 PM",
         149563,
         16.991,
         true,
         "Finance"
        ],
        [
         "Marilyn",
         null,
         "1999-08-22",
         "9:09 AM",
         103386,
         11.451,
         false,
         "Distribution"
        ],
        [
         "Arthur",
         "Male",
         "1998-04-13",
         "11:28 AM",
         89786,
         14.422,
         true,
         "Legal"
        ],
        [
         "Terry",
         "Male",
         "1990-09-03",
         "9:15 PM",
         52226,
         19.135,
         false,
         "Client Services"
        ],
        [
         "Mary",
         "Female",
         "1999-08-13",
         "1:03 AM",
         134645,
         18.197,
         false,
         "Business Development"
        ],
        [
         null,
         "Female",
         "2014-03-23",
         "1:28 PM",
         59148,
         9.061,
         null,
         "Legal"
        ],
        [
         null,
         "Female",
         "1991-07-09",
         "6:52 PM",
         42341,
         7.014,
         null,
         "Sales"
        ],
        [
         "Christopher",
         "Male",
         "2011-12-24",
         "12:22 PM",
         142178,
         17.984,
         true,
         "Sales"
        ],
        [
         "Peter",
         null,
         "1987-09-03",
         "5:59 PM",
         38989,
         7.017,
         true,
         "Marketing"
        ],
        [
         "Michelle",
         "Female",
         "1996-11-04",
         "9:34 PM",
         53754,
         5.455,
         true,
         "Product"
        ],
        [
         "Irene",
         "Female",
         "1992-01-29",
         "11:36 AM",
         133772,
         19.02,
         true,
         "Sales"
        ],
        [
         "Patrick",
         "Male",
         "2007-08-17",
         "3:16 AM",
         143499,
         17.495,
         true,
         "Engineering"
        ],
        [
         "Sara",
         "Female",
         "1991-09-23",
         "6:17 PM",
         97058,
         9.402,
         false,
         "Finance"
        ],
        [
         "Lillian",
         "Female",
         "2008-12-21",
         "6:51 PM",
         85446,
         3.959,
         true,
         "Engineering"
        ],
        [
         null,
         null,
         "2007-09-18",
         "6:59 PM",
         40297,
         6.185,
         null,
         "Client Services"
        ],
        [
         "Willie",
         "Male",
         "1998-02-17",
         "8:20 PM",
         146651,
         1.451,
         true,
         "Engineering"
        ],
        [
         "Victor",
         "Male",
         "2003-01-08",
         "1:02 PM",
         124486,
         10.166,
         false,
         "Product"
        ],
        [
         "Wayne",
         "Male",
         "2012-04-07",
         "8:00 AM",
         102652,
         14.085,
         true,
         "Distribution"
        ],
        [
         "Jane",
         "Female",
         "1997-09-03",
         "2:01 AM",
         144474,
         17.648,
         false,
         "Product"
        ],
        [
         "Jessica",
         "Female",
         "1995-10-23",
         "5:53 AM",
         68759,
         19.343,
         true,
         "Finance"
        ],
        [
         "Mark",
         "Male",
         "2008-04-12",
         "5:40 PM",
         57286,
         5.025,
         true,
         "Business Development"
        ],
        [
         "Randy",
         "Male",
         "1999-11-14",
         "12:12 PM",
         58129,
         1.952,
         true,
         "Distribution"
        ],
        [
         "Lillian",
         "Female",
         "1999-06-19",
         "4:44 PM",
         123940,
         12.184,
         true,
         "Business Development"
        ],
        [
         "Ruth",
         null,
         "1999-05-18",
         "5:56 AM",
         98233,
         2.518,
         true,
         "Distribution"
        ],
        [
         "Jerry",
         "Male",
         "2003-12-18",
         "6:46 AM",
         140810,
         9.177,
         true,
         "Client Services"
        ],
        [
         "Sandra",
         "Female",
         "1983-01-19",
         "7:25 AM",
         42090,
         8.842,
         true,
         "Legal"
        ],
        [
         null,
         "Female",
         "2005-02-23",
         "9:50 PM",
         149654,
         1.825,
         null,
         "Sales"
        ],
        [
         "Roger",
         "Male",
         "2004-11-19",
         "3:55 PM",
         51430,
         6.46,
         false,
         "Marketing"
        ],
        [
         "Charles",
         "Male",
         "2000-10-14",
         "9:40 PM",
         71749,
         15.931,
         false,
         "Legal"
        ],
        [
         "Clarence",
         "Male",
         "1998-05-02",
         "3:16 AM",
         85700,
         1.215,
         false,
         "Sales"
        ],
        [
         "Carol",
         "Female",
         "1996-03-19",
         "3:39 AM",
         57783,
         9.129,
         false,
         "Finance"
        ],
        [
         "Lois",
         "Female",
         "2013-10-18",
         "4:51 PM",
         36946,
         6.652,
         false,
         "Engineering"
        ],
        [
         "Barbara",
         null,
         "2003-05-03",
         "7:32 PM",
         99326,
         16.475,
         true,
         "Legal"
        ],
        [
         "Rebecca",
         "Female",
         "1995-02-18",
         "6:50 AM",
         109259,
         4.443,
         true,
         "Legal"
        ],
        [
         "Irene",
         "Female",
         "2004-01-30",
         "8:25 PM",
         131038,
         8.996,
         false,
         "Distribution"
        ],
        [
         "Ronald",
         "Male",
         "2014-04-30",
         "2:19 PM",
         121068,
         12.757,
         true,
         "Product"
        ],
        [
         "Steven",
         "Male",
         "1985-11-10",
         "10:53 AM",
         62719,
         19.127,
         false,
         "Client Services"
        ],
        [
         "Carolyn",
         "Female",
         "2012-11-06",
         "3:51 AM",
         69268,
         3.031,
         false,
         "Client Services"
        ],
        [
         "Maria",
         "Female",
         "1990-12-27",
         "9:57 PM",
         36067,
         9.64,
         true,
         "Product"
        ],
        [
         "Jonathan",
         "Male",
         "2009-07-17",
         "8:15 AM",
         130581,
         16.736,
         true,
         null
        ],
        [
         "Gary",
         "Male",
         "1987-08-12",
         "12:04 AM",
         89661,
         8.525,
         false,
         "Finance"
        ],
        [
         "Kimberly",
         "Female",
         "1997-07-15",
         "5:57 AM",
         36643,
         7.953,
         false,
         "Marketing"
        ],
        [
         "Roger",
         "Male",
         "1982-11-08",
         "2:32 AM",
         140558,
         5.084,
         true,
         "Sales"
        ],
        [
         "Diana",
         "Female",
         "2013-01-04",
         "7:53 AM",
         103521,
         2.784,
         true,
         "Business Development"
        ],
        [
         "Willie",
         "Male",
         "2006-06-06",
         "9:45 AM",
         55281,
         4.935,
         true,
         "Marketing"
        ],
        [
         "Brandon",
         "Male",
         "2006-03-27",
         "5:54 PM",
         115711,
         8.012,
         true,
         "Finance"
        ],
        [
         "Patricia",
         "Female",
         "2012-12-06",
         "4:01 AM",
         114079,
         8.399,
         true,
         "Client Services"
        ],
        [
         "Katherine",
         "Female",
         "1999-11-14",
         "8:15 AM",
         57531,
         1.767,
         false,
         "Client Services"
        ],
        [
         "Jonathan",
         "Male",
         "1987-10-12",
         "2:59 AM",
         141069,
         4.903,
         false,
         "Human Resources"
        ],
        [
         "Emily",
         "Female",
         "2007-09-20",
         "11:25 AM",
         89434,
         11.295,
         false,
         "Engineering"
        ],
        [
         "Ruth",
         "Female",
         "1986-08-12",
         "7:29 PM",
         44639,
         9.148,
         true,
         "Legal"
        ],
        [
         "Linda",
         "Female",
         "2006-06-24",
         "12:04 PM",
         110967,
         19.612,
         true,
         "Human Resources"
        ],
        [
         "Lisa",
         "Female",
         "2009-11-02",
         "9:42 AM",
         115387,
         1.821,
         false,
         "Client Services"
        ],
        [
         "Evelyn",
         "Female",
         "1980-05-24",
         "11:10 PM",
         81673,
         15.364,
         true,
         "Engineering"
        ],
        [
         "Julie",
         "Female",
         "1989-07-23",
         "1:52 PM",
         109588,
         3.55,
         false,
         "Engineering"
        ],
        [
         "Mary",
         "Female",
         "2009-05-30",
         "11:41 PM",
         92544,
         3.8,
         false,
         "Client Services"
        ],
        [
         "Matthew",
         "Male",
         "2013-07-31",
         "8:04 AM",
         142373,
         2.462,
         false,
         "Marketing"
        ],
        [
         "Douglas",
         "Male",
         "1999-09-03",
         "4:00 PM",
         83341,
         1.015,
         true,
         "Client Services"
        ],
        [
         "Gregory",
         null,
         "1992-06-15",
         "5:08 AM",
         98865,
         10.628,
         true,
         "Finance"
        ],
        [
         "Billy",
         "Male",
         "1995-03-13",
         "12:05 PM",
         120444,
         7.768,
         true,
         "Finance"
        ],
        [
         null,
         "Female",
         "1991-06-17",
         "12:49 PM",
         71945,
         5.56,
         null,
         "Marketing"
        ],
        [
         "Gregory",
         "Male",
         "2000-01-29",
         "6:01 AM",
         109564,
         3.845,
         false,
         "Legal"
        ],
        [
         "Jason",
         "Male",
         "1999-10-17",
         "10:09 PM",
         78417,
         3.067,
         false,
         "Finance"
        ],
        [
         "Daniel",
         "Male",
         "2010-04-30",
         "3:48 AM",
         106947,
         15.866,
         true,
         "Legal"
        ],
        [
         "Sarah",
         "Female",
         "1995-09-14",
         "7:50 AM",
         87298,
         2.311,
         false,
         "Distribution"
        ],
        [
         "Harry",
         "Male",
         "2015-10-01",
         "7:47 PM",
         64579,
         15.266,
         true,
         "Sales"
        ],
        [
         "Kathy",
         "Female",
         "1995-04-19",
         "12:46 AM",
         50905,
         9.404,
         true,
         "Finance"
        ],
        [
         "Todd",
         "Male",
         "1999-04-13",
         "10:31 AM",
         59728,
         11.226,
         true,
         "Client Services"
        ],
        [
         "Bobby",
         "Male",
         "1994-09-23",
         "1:29 AM",
         51685,
         17.445,
         true,
         "Engineering"
        ],
        [
         "Jeremy",
         "Male",
         "2000-06-08",
         "12:15 AM",
         49542,
         1.679,
         true,
         "Distribution"
        ],
        [
         "George",
         null,
         "1988-02-24",
         "11:29 AM",
         38375,
         8.999,
         false,
         "Legal"
        ],
        [
         "Diane",
         "Female",
         "1993-04-18",
         "3:22 AM",
         64084,
         17.018,
         false,
         "Product"
        ],
        [
         "Marilyn",
         "Female",
         "1997-04-04",
         "9:28 PM",
         147663,
         10.263,
         false,
         "Human Resources"
        ],
        [
         "Kathryn",
         "Female",
         "2004-02-04",
         "1:47 PM",
         73935,
         14.752,
         false,
         "Sales"
        ],
        [
         "Irene",
         "Female",
         "1982-02-04",
         "5:26 PM",
         40837,
         12.182,
         true,
         "Client Services"
        ],
        [
         "Norma",
         "Female",
         "2015-02-11",
         "11:44 PM",
         94393,
         3.643,
         true,
         "Engineering"
        ],
        [
         "Laura",
         "Female",
         "2006-04-02",
         "1:57 PM",
         42087,
         2.624,
         false,
         "Product"
        ],
        [
         "Cheryl",
         "Female",
         "2008-09-23",
         "2:57 AM",
         52080,
         9.375,
         false,
         "Legal"
        ],
        [
         "Kevin",
         "Male",
         "1982-03-25",
         "7:31 AM",
         35061,
         5.128,
         false,
         "Legal"
        ],
        [
         "Lillian",
         null,
         "2016-05-12",
         "3:43 PM",
         64164,
         17.612,
         false,
         "Human Resources"
        ],
        [
         "Phyllis",
         null,
         "1984-04-21",
         "7:05 PM",
         94088,
         19.107,
         false,
         "Distribution"
        ],
        [
         "Walter",
         "Male",
         "1983-07-06",
         "11:54 PM",
         127813,
         5.961,
         false,
         "Finance"
        ],
        [
         "Robert",
         "Male",
         "1990-10-27",
         "7:15 PM",
         38041,
         18.428,
         true,
         "Engineering"
        ],
        [
         "Jimmy",
         "Male",
         "1986-10-07",
         "5:53 PM",
         126310,
         5.413,
         true,
         "Product"
        ],
        [
         "Clarence",
         "Male",
         "1996-10-08",
         "12:53 PM",
         142561,
         8.866,
         false,
         "Client Services"
        ],
        [
         "Victor",
         "Male",
         "1991-04-11",
         "7:44 AM",
         70817,
         17.138,
         false,
         "Engineering"
        ],
        [
         "Fred",
         null,
         "1984-12-02",
         "2:03 PM",
         59937,
         12.045,
         true,
         "Human Resources"
        ],
        [
         "Brenda",
         null,
         "2010-07-27",
         "11:07 PM",
         106115,
         3.742,
         true,
         "Product"
        ],
        [
         "Justin",
         "Male",
         "1992-12-06",
         "5:58 PM",
         82782,
         4.366,
         true,
         "Distribution"
        ],
        [
         "Betty",
         "Female",
         "2002-06-12",
         "3:59 AM",
         104896,
         19.55,
         true,
         "Business Development"
        ],
        [
         "Randy",
         null,
         "1986-02-06",
         "3:04 PM",
         133943,
         8.94,
         true,
         "Sales"
        ],
        [
         "Sharon",
         null,
         "1990-03-01",
         "3:46 AM",
         83658,
         6.513,
         false,
         "Business Development"
        ],
        [
         "Ralph",
         "Male",
         "2004-11-11",
         "1:35 AM",
         71896,
         4.232,
         true,
         "Marketing"
        ],
        [
         null,
         null,
         "2003-04-28",
         "3:01 AM",
         113732,
         10.391,
         null,
         "Sales"
        ],
        [
         "Edward",
         "Male",
         "1985-05-27",
         "10:13 PM",
         110485,
         7.995,
         false,
         "Client Services"
        ],
        [
         "Denise",
         "Female",
         "2009-03-20",
         "7:57 AM",
         115118,
         5.108,
         false,
         "Human Resources"
        ],
        [
         "Debra",
         "Female",
         "1998-03-13",
         "11:16 PM",
         48696,
         4.75,
         false,
         "Legal"
        ],
        [
         null,
         "Male",
         "1999-11-25",
         "6:16 AM",
         42676,
         15.517,
         null,
         "Sales"
        ],
        [
         "Michael",
         "Male",
         "2002-01-24",
         "3:04 AM",
         43586,
         12.659,
         false,
         null
        ],
        [
         "Henry",
         "Male",
         "1995-02-06",
         "8:34 AM",
         89258,
         15.585,
         true,
         "Human Resources"
        ],
        [
         "Gloria",
         "Female",
         "2007-03-27",
         "1:44 AM",
         90730,
         2.491,
         false,
         "Distribution"
        ],
        [
         "Marie",
         "Female",
         "1995-08-06",
         "1:58 PM",
         100308,
         13.677,
         false,
         "Product"
        ],
        [
         "Anne",
         "Female",
         "1986-07-16",
         "2:08 PM",
         69134,
         3.723,
         true,
         "Engineering"
        ],
        [
         "Sarah",
         null,
         "1985-11-21",
         "1:08 PM",
         58295,
         14.603,
         true,
         "Engineering"
        ],
        [
         "Stephanie",
         "Female",
         "1983-03-24",
         "11:15 AM",
         50141,
         13.218,
         true,
         "Human Resources"
        ],
        [
         "Roy",
         "Male",
         "2004-09-23",
         "1:31 PM",
         101941,
         3.45,
         false,
         "Client Services"
        ],
        [
         null,
         "Female",
         "2009-08-05",
         "8:14 AM",
         115145,
         14.063,
         null,
         "Distribution"
        ],
        [
         null,
         "Male",
         "2005-02-04",
         "1:01 PM",
         40451,
         16.044,
         null,
         "Distribution"
        ],
        [
         "Irene",
         "Female",
         "1982-03-03",
         "8:26 AM",
         56526,
         5.81,
         true,
         "Finance"
        ],
        [
         null,
         "Female",
         "1992-08-02",
         "8:35 PM",
         145316,
         18.517,
         null,
         "Human Resources"
        ],
        [
         "Thomas",
         "Male",
         "2011-04-06",
         "1:04 PM",
         103235,
         9.554,
         true,
         "Human Resources"
        ],
        [
         "Frank",
         null,
         "2001-11-20",
         "10:18 AM",
         58563,
         12.062,
         true,
         "Marketing"
        ],
        [
         "Fred",
         "Male",
         "1980-02-20",
         "2:25 AM",
         74129,
         18.225,
         false,
         "Product"
        ],
        [
         "Nicholas",
         "Male",
         "1994-04-12",
         "8:21 PM",
         74669,
         1.113,
         true,
         "Product"
        ],
        [
         "Howard",
         "Male",
         "1982-10-05",
         "7:22 AM",
         97490,
         5.46,
         true,
         "Marketing"
        ],
        [
         "Debra",
         "Female",
         "1994-02-22",
         "10:25 PM",
         104250,
         18.456,
         true,
         "Business Development"
        ],
        [
         "Christine",
         "Female",
         "1989-07-03",
         "4:01 AM",
         94345,
         11.996,
         false,
         "Finance"
        ],
        [
         "Brenda",
         null,
         "1991-05-29",
         "6:32 AM",
         82439,
         19.062,
         false,
         "Sales"
        ],
        [
         "Betty",
         "Female",
         "2005-06-28",
         "6:03 PM",
         51613,
         12.984,
         false,
         "Distribution"
        ],
        [
         "Ruby",
         "Female",
         "2000-11-08",
         "7:35 PM",
         105946,
         1.139,
         false,
         "Business Development"
        ],
        [
         "Kevin",
         "Male",
         "1997-07-12",
         "2:07 AM",
         46080,
         9.635,
         false,
         "Business Development"
        ],
        [
         "Arthur",
         "Male",
         "2014-01-01",
         "7:46 PM",
         134610,
         6.147,
         true,
         "Human Resources"
        ],
        [
         "Carl",
         null,
         "2014-02-07",
         "3:57 AM",
         125104,
         12.345,
         false,
         "Client Services"
        ],
        [
         "Todd",
         "Male",
         "2009-03-11",
         "3:43 AM",
         107281,
         1.612,
         true,
         "Engineering"
        ],
        [
         "Brenda",
         "Female",
         "2005-10-06",
         "9:33 PM",
         141521,
         4.337,
         false,
         "Client Services"
        ],
        [
         "Judy",
         "Female",
         "1997-09-16",
         "12:10 AM",
         65931,
         2.304,
         false,
         "Human Resources"
        ],
        [
         "Todd",
         "Male",
         "1984-02-02",
         "10:13 AM",
         69989,
         10.985,
         true,
         "Finance"
        ],
        [
         "Lois",
         "Female",
         "2011-11-09",
         "7:06 AM",
         147183,
         9.999,
         true,
         "Client Services"
        ],
        [
         "Walter",
         null,
         "1999-12-21",
         "10:33 PM",
         66757,
         18.099,
         false,
         "Distribution"
        ],
        [
         "Jessica",
         "Female",
         "1985-09-27",
         "1:35 PM",
         75145,
         6.388,
         true,
         "Legal"
        ],
        [
         "Jeremy",
         "Male",
         "1988-06-14",
         "6:20 PM",
         129460,
         13.657,
         true,
         null
        ],
        [
         "Tammy",
         "Female",
         "1984-11-11",
         "10:30 AM",
         132839,
         17.463,
         true,
         "Client Services"
        ],
        [
         "Anne",
         "Female",
         "2000-03-07",
         "6:45 AM",
         44537,
         18.284,
         true,
         "Client Services"
        ],
        [
         "Jesse",
         "Male",
         "1999-10-25",
         "3:35 PM",
         118733,
         9.653,
         false,
         "Marketing"
        ],
        [
         "Virginia",
         "Female",
         "1999-10-20",
         "6:23 AM",
         46905,
         19.154,
         false,
         "Distribution"
        ],
        [
         "Jesse",
         "Male",
         "1981-03-02",
         "7:26 PM",
         79582,
         3.873,
         false,
         "Legal"
        ],
        [
         "Jeremy",
         null,
         "1996-11-10",
         "1:49 PM",
         55394,
         3.18,
         true,
         "Sales"
        ],
        [
         "Daniel",
         "Male",
         "2007-09-15",
         "10:16 PM",
         123811,
         7.664,
         true,
         "Human Resources"
        ],
        [
         "Patrick",
         null,
         "2004-08-30",
         "11:43 AM",
         137314,
         4.542,
         true,
         "Marketing"
        ],
        [
         "Emily",
         "Female",
         "1988-01-13",
         "6:42 AM",
         36711,
         19.028,
         true,
         "Human Resources"
        ],
        [
         "Alan",
         "Male",
         "1988-06-26",
         "3:54 AM",
         111786,
         3.592,
         true,
         "Engineering"
        ],
        [
         "James",
         "Male",
         "2015-07-11",
         "8:52 PM",
         72257,
         13.023,
         false,
         "Engineering"
        ],
        [
         "Adam",
         "Male",
         "2007-07-05",
         "11:59 AM",
         71276,
         5.027,
         true,
         "Human Resources"
        ],
        [
         "Joan",
         null,
         "1980-07-25",
         "12:22 PM",
         38712,
         3.657,
         false,
         "Client Services"
        ],
        [
         "Jeremy",
         "Male",
         "1981-08-12",
         "12:05 AM",
         46930,
         18.702,
         true,
         "Finance"
        ],
        [
         "Margaret",
         "Female",
         "1993-02-06",
         "1:05 PM",
         125220,
         3.733,
         false,
         "Marketing"
        ],
        [
         "Mark",
         "Male",
         "1984-04-01",
         "1:21 PM",
         121477,
         17.44,
         true,
         "Business Development"
        ],
        [
         "Marilyn",
         "Female",
         "1981-09-26",
         "2:23 AM",
         86386,
         2.937,
         false,
         "Distribution"
        ],
        [
         "Cheryl",
         "Female",
         "2009-09-08",
         "10:16 AM",
         81308,
         2.196,
         true,
         "Legal"
        ],
        [
         "Benjamin",
         "Male",
         "1984-09-11",
         "6:37 AM",
         84810,
         15.794,
         false,
         "Marketing"
        ],
        [
         "Harold",
         "Male",
         "1990-02-20",
         "11:00 PM",
         66775,
         2.158,
         true,
         "Legal"
        ],
        [
         "Ernest",
         null,
         "2002-01-18",
         "1:51 AM",
         72145,
         13.448,
         true,
         "Finance"
        ],
        [
         "Gerald",
         "Male",
         "2001-04-16",
         "10:09 PM",
         121604,
         1.923,
         true,
         "Sales"
        ],
        [
         "Judy",
         "Female",
         "1991-07-01",
         "2:33 AM",
         109510,
         13.457,
         true,
         "Legal"
        ],
        [
         "Bobby",
         "Male",
         "1996-03-31",
         "5:40 PM",
         112117,
         6.338,
         false,
         null
        ],
        [
         "Bobby",
         null,
         "1995-09-01",
         "2:09 PM",
         108127,
         15.858,
         false,
         "Client Services"
        ],
        [
         "Marie",
         "Female",
         "2013-10-03",
         "8:05 PM",
         123711,
         10.966,
         false,
         "Product"
        ],
        [
         "Kathy",
         "Female",
         "2013-12-18",
         "3:09 PM",
         132381,
         8.34,
         false,
         "Business Development"
        ],
        [
         "Roy",
         "Male",
         "2006-08-06",
         "7:52 AM",
         148225,
         1.841,
         false,
         "Finance"
        ],
        [
         "Jacqueline",
         "Female",
         "1981-11-25",
         "3:01 PM",
         145988,
         18.243,
         false,
         "Marketing"
        ],
        [
         null,
         "Female",
         "2008-07-08",
         "11:40 PM",
         62960,
         14.356,
         null,
         "Sales"
        ],
        [
         "Julie",
         "Female",
         "1986-03-23",
         "9:26 AM",
         56926,
         7.507,
         false,
         "Sales"
        ],
        [
         "Douglas",
         "Male",
         "2002-01-08",
         "6:42 PM",
         41428,
         14.372,
         false,
         "Product"
        ],
        [
         "Linda",
         "Female",
         "1990-12-16",
         "2:20 AM",
         115658,
         3.041,
         true,
         "Sales"
        ],
        [
         "Ruby",
         "Female",
         "1988-12-10",
         "8:27 PM",
         76707,
         6.031,
         false,
         "Business Development"
        ],
        [
         "Russell",
         "Male",
         "2005-01-02",
         "1:48 AM",
         60388,
         17.885,
         false,
         "Client Services"
        ],
        [
         "Jeffrey",
         "Male",
         "1997-06-18",
         "8:01 PM",
         45150,
         12.075,
         true,
         "Product"
        ],
        [
         "Aaron",
         "Male",
         "1994-01-29",
         "6:48 PM",
         58755,
         5.097,
         true,
         "Marketing"
        ],
        [
         "Samuel",
         "Male",
         "1991-12-19",
         "2:54 AM",
         76076,
         5.319,
         true,
         "Finance"
        ],
        [
         null,
         "Male",
         "2010-01-27",
         "2:57 AM",
         87760,
         14.987,
         null,
         "Engineering"
        ],
        [
         "Randy",
         "Male",
         "2014-03-16",
         "6:24 PM",
         135119,
         7.887,
         false,
         "Client Services"
        ],
        [
         "Evelyn",
         "Female",
         "1983-09-03",
         "1:58 PM",
         36759,
         17.269,
         true,
         "Marketing"
        ],
        [
         "Fred",
         "Male",
         "1987-02-13",
         "2:15 PM",
         121723,
         18.645,
         true,
         "Product"
        ],
        [
         "Shirley",
         "Female",
         "1986-06-08",
         "2:25 AM",
         110061,
         7.494,
         false,
         "Client Services"
        ],
        [
         "Todd",
         "Male",
         "2011-05-23",
         "4:14 PM",
         85074,
         1.844,
         false,
         "Client Services"
        ],
        [
         "Robert",
         "Male",
         "2014-11-18",
         "5:00 AM",
         85799,
         19.93,
         false,
         "Finance"
        ],
        [
         "Mark",
         "Male",
         "2007-01-22",
         "2:37 PM",
         75150,
         12.182,
         true,
         "Legal"
        ],
        [
         "Earl",
         "Male",
         "2000-01-05",
         "5:46 PM",
         91344,
         4.035,
         true,
         "Sales"
        ],
        [
         "Richard",
         "Male",
         "2005-09-27",
         "1:41 AM",
         86326,
         10.717,
         false,
         "Product"
        ],
        [
         "Michael",
         "Male",
         "1991-11-22",
         "12:57 PM",
         98753,
         16.443,
         true,
         "Human Resources"
        ],
        [
         "Steven",
         "Male",
         "2009-05-12",
         "2:14 PM",
         113060,
         2.846,
         true,
         "Sales"
        ],
        [
         "Carlos",
         "Male",
         "2007-09-19",
         "1:01 AM",
         77327,
         11.58,
         true,
         "Finance"
        ],
        [
         "Marie",
         "Female",
         "2011-10-20",
         "10:09 PM",
         62666,
         10.247,
         false,
         "Product"
        ],
        [
         "Ronald",
         "Male",
         "2009-02-24",
         "2:09 PM",
         96633,
         4.99,
         true,
         "Engineering"
        ],
        [
         "Scott",
         "Male",
         "2009-05-12",
         "4:36 AM",
         58248,
         3.914,
         false,
         "Business Development"
        ],
        [
         "Steven",
         "Male",
         "2006-11-21",
         "8:30 AM",
         83706,
         6.96,
         true,
         "Human Resources"
        ],
        [
         "James",
         "Male",
         "1998-11-22",
         "3:48 AM",
         74086,
         5.778,
         true,
         "Human Resources"
        ],
        [
         "Lori",
         "Female",
         "1988-03-31",
         "10:59 PM",
         95389,
         14.223,
         false,
         "Sales"
        ],
        [
         "Philip",
         "Male",
         "1989-08-02",
         "11:21 AM",
         129968,
         19.897,
         false,
         "Finance"
        ],
        [
         "Phyllis",
         "Female",
         "2005-11-24",
         "11:57 PM",
         140347,
         8.723,
         false,
         "Sales"
        ],
        [
         "Thomas",
         null,
         "1995-08-31",
         "8:31 PM",
         41549,
         3.95,
         false,
         "Sales"
        ],
        [
         "Cynthia",
         "Female",
         "2012-12-03",
         "11:03 PM",
         74287,
         10.751,
         false,
         "Sales"
        ],
        [
         null,
         "Male",
         "2011-10-09",
         "9:29 AM",
         69906,
         4.844,
         null,
         "Engineering"
        ],
        [
         null,
         "Male",
         "1997-04-22",
         "9:36 PM",
         65078,
         3.095,
         null,
         "Marketing"
        ],
        [
         "Elizabeth",
         "Female",
         "2005-11-10",
         "4:56 AM",
         106406,
         1.782,
         true,
         "Legal"
        ],
        [
         "Andrea",
         "Female",
         "2003-09-14",
         "10:30 PM",
         115913,
         12.121,
         false,
         "Legal"
        ],
        [
         "Judy",
         "Female",
         "1990-02-01",
         "3:32 PM",
         38092,
         5.668,
         false,
         "Distribution"
        ],
        [
         "Russell",
         "Male",
         "2014-08-13",
         "3:51 PM",
         121160,
         7.843,
         false,
         "Engineering"
        ],
        [
         "Scott",
         "Male",
         "2011-12-17",
         "3:45 AM",
         90429,
         4.45,
         false,
         "Product"
        ],
        [
         "Sarah",
         "Female",
         "1994-05-22",
         "7:06 AM",
         64207,
         7.824,
         true,
         "Client Services"
        ],
        [
         "Susan",
         "Female",
         "2004-09-25",
         "1:30 AM",
         80688,
         18.892,
         true,
         "Sales"
        ],
        [
         "Margaret",
         "Female",
         "2014-05-05",
         "6:01 AM",
         55044,
         4.078,
         false,
         "Sales"
        ],
        [
         "Joshua",
         "Male",
         "2009-11-09",
         "6:32 AM",
         72893,
         9.555,
         false,
         "Distribution"
        ],
        [
         "Justin",
         null,
         "2005-04-15",
         "8:43 PM",
         96978,
         13.865,
         false,
         "Finance"
        ],
        [
         "Juan",
         "Male",
         "2002-04-16",
         "11:09 PM",
         97364,
         3.595,
         false,
         "Product"
        ],
        [
         "Gloria",
         null,
         "1983-07-19",
         "1:57 AM",
         140885,
         1.113,
         false,
         "Human Resources"
        ],
        [
         "Jennifer",
         null,
         "1989-01-24",
         "8:38 PM",
         58520,
         16.231,
         true,
         "Client Services"
        ],
        [
         "Edward",
         "Male",
         "1989-08-04",
         "6:06 AM",
         66067,
         10.957,
         true,
         null
        ],
        [
         "Marilyn",
         "Female",
         "1982-12-17",
         "12:10 PM",
         147183,
         8.748,
         false,
         "Business Development"
        ],
        [
         "Mary",
         "Female",
         "2009-10-18",
         "6:32 PM",
         87721,
         12.484,
         false,
         "Product"
        ],
        [
         "Linda",
         "Female",
         "2009-07-15",
         "10:12 PM",
         144001,
         2.194,
         false,
         "Business Development"
        ],
        [
         "Larry",
         "Male",
         "2003-08-27",
         "1:00 PM",
         91133,
         5.14,
         false,
         "Sales"
        ],
        [
         "Albert",
         "Male",
         "1997-02-01",
         "4:20 PM",
         67827,
         19.717,
         true,
         "Engineering"
        ],
        [
         "Kenneth",
         "Male",
         "1999-04-13",
         "10:28 PM",
         81839,
         12.072,
         false,
         "Sales"
        ],
        [
         null,
         "Female",
         "2006-12-31",
         "11:02 PM",
         81444,
         3.171,
         null,
         "Distribution"
        ],
        [
         "Gregory",
         null,
         "2011-07-09",
         "11:31 PM",
         137661,
         4.805,
         true,
         "Sales"
        ],
        [
         "Brandon",
         "Male",
         "2015-10-16",
         "2:44 AM",
         112548,
         4.664,
         false,
         "Engineering"
        ],
        [
         "Stephen",
         "Male",
         "1987-04-09",
         "12:47 PM",
         111249,
         10.574,
         true,
         "Human Resources"
        ],
        [
         "Russell",
         "Male",
         "1994-10-30",
         "5:46 AM",
         114334,
         9.669,
         false,
         "Product"
        ],
        [
         null,
         "Female",
         "2002-09-18",
         "12:39 PM",
         118906,
         4.537,
         null,
         "Marketing"
        ],
        [
         "Pamela",
         null,
         "2001-07-15",
         "1:33 PM",
         72979,
         5.66,
         false,
         "Sales"
        ],
        [
         "Scott",
         "Male",
         "1996-08-03",
         "1:50 AM",
         64172,
         10.894,
         true,
         "Engineering"
        ],
        [
         null,
         "Female",
         "1996-04-18",
         "3:57 PM",
         107024,
         12.182,
         null,
         null
        ],
        [
         "Carlos",
         "Male",
         "2010-07-28",
         "3:08 PM",
         50167,
         2.362,
         false,
         "Product"
        ],
        [
         "Jack",
         "Male",
         "1980-12-24",
         "10:58 PM",
         106995,
         15.723,
         false,
         "Product"
        ],
        [
         "Debra",
         "Female",
         "2010-01-19",
         "8:48 AM",
         70492,
         8.895,
         false,
         "Client Services"
        ],
        [
         "Phyllis",
         "Female",
         "1995-01-15",
         "5:27 AM",
         125881,
         16.697,
         false,
         "Sales"
        ],
        [
         "Robert",
         "Male",
         "1994-10-29",
         "4:26 AM",
         123294,
         19.894,
         false,
         "Client Services"
        ],
        [
         "Gloria",
         "Female",
         "1989-09-19",
         "7:40 PM",
         131045,
         11.312,
         true,
         "Product"
        ],
        [
         "Sharon",
         null,
         "1984-10-28",
         "5:59 PM",
         97635,
         10.413,
         true,
         "Client Services"
        ],
        [
         "Barbara",
         null,
         "2001-04-26",
         "12:22 AM",
         94493,
         13.443,
         true,
         "Sales"
        ],
        [
         "Marilyn",
         "Female",
         "1989-08-15",
         "9:14 AM",
         140502,
         9.989,
         true,
         "Sales"
        ],
        [
         "Ralph",
         "Male",
         "2010-10-27",
         "10:28 AM",
         106310,
         4.03,
         true,
         "Client Services"
        ],
        [
         "Harry",
         null,
         "1996-12-05",
         "5:45 AM",
         46240,
         6.976,
         true,
         "Engineering"
        ],
        [
         "Robin",
         "Female",
         "1998-01-08",
         "2:12 AM",
         111163,
         5.025,
         true,
         "Product"
        ],
        [
         "Kathy",
         "Female",
         "2001-11-25",
         "9:55 PM",
         93753,
         7.094,
         true,
         "Sales"
        ],
        [
         "Rose",
         "Female",
         "2002-07-06",
         "3:57 PM",
         63494,
         19.385,
         true,
         "Human Resources"
        ],
        [
         "Clarence",
         "Male",
         "2005-01-13",
         "9:00 AM",
         116693,
         13.835,
         true,
         "Distribution"
        ],
        [
         "Doris",
         "Female",
         "1992-07-29",
         "6:40 PM",
         85215,
         7.425,
         true,
         "Human Resources"
        ],
        [
         "Kathryn",
         "Female",
         "1988-06-09",
         "9:29 AM",
         86439,
         7.799,
         false,
         "Finance"
        ],
        [
         "Billy",
         null,
         "2004-03-16",
         "8:21 AM",
         62913,
         18.241,
         true,
         "Marketing"
        ],
        [
         "Norma",
         "Female",
         "1996-04-16",
         "5:40 AM",
         38872,
         9.302,
         true,
         "Business Development"
        ],
        [
         "Richard",
         null,
         "1992-11-28",
         "5:05 PM",
         124655,
         14.272,
         true,
         "Engineering"
        ],
        [
         "Craig",
         "Male",
         "1984-02-08",
         "4:45 AM",
         113506,
         19.642,
         false,
         "Marketing"
        ],
        [
         "Sarah",
         null,
         "1990-07-20",
         "10:49 PM",
         109980,
         8.86,
         false,
         "Sales"
        ],
        [
         "Sharon",
         "Female",
         "2014-03-09",
         "4:39 PM",
         91522,
         7.564,
         false,
         "Finance"
        ],
        [
         "Mary",
         "Female",
         "2010-08-22",
         "8:03 AM",
         42214,
         17.538,
         true,
         "Business Development"
        ],
        [
         "Steve",
         null,
         "2002-02-23",
         "3:55 AM",
         83159,
         9.55,
         true,
         "Distribution"
        ],
        [
         "Joe",
         "Male",
         "2010-12-05",
         "4:20 PM",
         144082,
         1.62,
         true,
         "Client Services"
        ],
        [
         "Jeremy",
         "Male",
         "1994-05-29",
         "6:24 AM",
         47885,
         19.276,
         true,
         "Human Resources"
        ],
        [
         "Ernest",
         "Male",
         "2012-08-14",
         "11:25 AM",
         126232,
         6.191,
         true,
         "Sales"
        ],
        [
         "Kevin",
         "Male",
         "1981-06-23",
         "8:26 PM",
         134598,
         11.699,
         false,
         "Business Development"
        ],
        [
         "Jacqueline",
         "Female",
         "2007-02-11",
         "2:01 AM",
         66604,
         14.609,
         false,
         "Legal"
        ],
        [
         "Johnny",
         "Male",
         "1992-09-14",
         "8:21 AM",
         115194,
         5.861,
         true,
         "Marketing"
        ],
        [
         "Gary",
         "Male",
         "2011-08-18",
         "8:12 AM",
         49101,
         11.9,
         true,
         "Business Development"
        ],
        [
         "Shirley",
         null,
         "1990-11-16",
         "6:01 PM",
         67811,
         12.699,
         false,
         "Finance"
        ],
        [
         null,
         "Male",
         "2008-06-29",
         "5:23 AM",
         111043,
         5.966,
         null,
         "Distribution"
        ],
        [
         "Sarah",
         null,
         "1981-08-31",
         "2:51 PM",
         37748,
         9.047,
         false,
         "Human Resources"
        ],
        [
         "Julia",
         "Female",
         "1982-03-02",
         "12:52 PM",
         36403,
         2.664,
         true,
         "Finance"
        ],
        [
         "Dorothy",
         "Female",
         "2013-11-05",
         "10:50 PM",
         140136,
         3.12,
         true,
         "Business Development"
        ],
        [
         "Justin",
         "Male",
         "1986-05-22",
         "6:30 AM",
         121508,
         19.334,
         true,
         "Finance"
        ],
        [
         "Kevin",
         "Male",
         "1986-11-20",
         "6:59 PM",
         79906,
         18.021,
         true,
         "Sales"
        ],
        [
         "Victor",
         "Male",
         "2005-09-24",
         "12:04 PM",
         123144,
         16.261,
         true,
         "Product"
        ],
        [
         "Deborah",
         "Female",
         "1980-11-25",
         "4:33 AM",
         46953,
         17.436,
         false,
         "Client Services"
        ],
        [
         "Matthew",
         null,
         "2003-06-09",
         "7:35 AM",
         79443,
         14.637,
         false,
         "Human Resources"
        ],
        [
         "Alice",
         "Female",
         "1986-05-02",
         "1:50 AM",
         51395,
         2.378,
         true,
         "Finance"
        ],
        [
         "Todd",
         "Male",
         "2016-03-16",
         "2:45 PM",
         134408,
         3.56,
         true,
         "Human Resources"
        ],
        [
         "Frank",
         "Male",
         "1981-01-10",
         "1:30 PM",
         71853,
         8.037,
         true,
         "Sales"
        ],
        [
         "Christopher",
         "Male",
         "1999-05-13",
         "10:48 AM",
         68028,
         7.869,
         true,
         "Finance"
        ],
        [
         "Rose",
         "Female",
         "2015-05-28",
         "8:40 AM",
         149903,
         5.63,
         false,
         "Human Resources"
        ],
        [
         "Andrea",
         "Female",
         "2010-10-01",
         "11:54 AM",
         79123,
         19.422,
         false,
         "Distribution"
        ],
        [
         "Charles",
         "Male",
         "1999-12-16",
         "8:28 PM",
         104014,
         7.077,
         false,
         "Legal"
        ],
        [
         "Jessica",
         null,
         "2015-03-07",
         "8:45 PM",
         121160,
         12.993,
         false,
         "Client Services"
        ],
        [
         "Wanda",
         "Female",
         "2008-07-20",
         "1:44 PM",
         65362,
         7.132,
         true,
         "Legal"
        ],
        [
         "Joyce",
         "Female",
         "1995-02-07",
         "7:38 AM",
         50701,
         14.227,
         true,
         null
        ],
        [
         "Billy",
         "Male",
         "2006-12-01",
         "3:32 PM",
         144709,
         10.069,
         true,
         "Distribution"
        ],
        [
         "Kathryn",
         "Female",
         "2007-08-29",
         "6:10 AM",
         53061,
         11.864,
         true,
         "Finance"
        ],
        [
         "Denise",
         "Female",
         "2001-03-18",
         "12:02 AM",
         36697,
         11.196,
         true,
         "Sales"
        ],
        [
         "Jason",
         "Male",
         "1998-11-20",
         "2:54 PM",
         69244,
         6.22,
         true,
         null
        ],
        [
         "Nicholas",
         "Male",
         "2013-03-01",
         "9:26 PM",
         101036,
         2.826,
         true,
         "Human Resources"
        ],
        [
         "Aaron",
         "Male",
         "1990-07-22",
         "2:53 PM",
         52119,
         11.343,
         true,
         "Client Services"
        ],
        [
         "Louise",
         "Female",
         "2003-05-13",
         "9:47 AM",
         46666,
         1.886,
         true,
         "Business Development"
        ],
        [
         "Julie",
         "Female",
         "1998-04-23",
         "5:52 AM",
         73437,
         2.518,
         true,
         "Finance"
        ],
        [
         "Kathy",
         "Female",
         "1987-05-08",
         "6:19 PM",
         86318,
         18.492,
         true,
         "Sales"
        ],
        [
         null,
         "Male",
         "2016-05-24",
         "9:17 PM",
         76409,
         7.008,
         null,
         "Distribution"
        ],
        [
         "Chris",
         "Male",
         "2006-12-12",
         "1:57 AM",
         71642,
         1.496,
         false,
         null
        ],
        [
         "Cheryl",
         "Female",
         "1994-08-16",
         "8:33 AM",
         67150,
         15.85,
         true,
         "Marketing"
        ],
        [
         "Gregory",
         "Male",
         "2009-05-15",
         "3:52 PM",
         142208,
         11.204,
         true,
         "Engineering"
        ],
        [
         "Wayne",
         "Male",
         "1992-01-30",
         "3:01 PM",
         81183,
         17.066,
         false,
         "Client Services"
        ],
        [
         "Beverly",
         "Female",
         "2005-11-30",
         "2:57 AM",
         107163,
         3.665,
         true,
         "Human Resources"
        ],
        [
         "Willie",
         "Male",
         "2009-08-22",
         "1:03 PM",
         55038,
         19.691,
         false,
         "Legal"
        ],
        [
         "Terry",
         null,
         "2016-07-15",
         "12:29 AM",
         140002,
         19.49,
         true,
         "Marketing"
        ],
        [
         "Scott",
         "Male",
         "2012-11-17",
         "2:47 PM",
         146812,
         1.965,
         true,
         "Marketing"
        ],
        [
         "Annie",
         "Female",
         "1994-12-19",
         "6:19 AM",
         40119,
         4.338,
         true,
         "Human Resources"
        ],
        [
         null,
         "Male",
         "1995-02-21",
         "12:26 AM",
         136602,
         10.429,
         null,
         "Marketing"
        ],
        [
         "Ruth",
         "Female",
         "2000-10-24",
         "4:13 AM",
         69579,
         18.029,
         true,
         "Human Resources"
        ],
        [
         "Deborah",
         null,
         "1983-02-03",
         "11:38 PM",
         101457,
         6.662,
         false,
         "Engineering"
        ],
        [
         "Patricia",
         "Female",
         "2015-01-09",
         "4:16 AM",
         121232,
         16.624,
         false,
         "Legal"
        ],
        [
         "Albert",
         "Male",
         "2007-09-30",
         "5:34 PM",
         102626,
         15.843,
         false,
         "Finance"
        ],
        [
         "Charles",
         null,
         "1987-03-01",
         "1:00 PM",
         137171,
         5.574,
         true,
         "Marketing"
        ],
        [
         "Tina",
         "Female",
         "2005-01-17",
         "9:11 AM",
         88276,
         14.248,
         false,
         "Legal"
        ],
        [
         "Jeremy",
         "Male",
         "2001-08-09",
         "3:56 AM",
         43354,
         13.946,
         false,
         "Marketing"
        ],
        [
         "Craig",
         "Male",
         "1996-04-14",
         "9:17 AM",
         125556,
         7.996,
         false,
         "Engineering"
        ],
        [
         "Jose",
         "Male",
         "2002-07-11",
         "9:15 AM",
         59862,
         3.269,
         false,
         "Product"
        ],
        [
         "Lawrence",
         "Male",
         "2005-05-13",
         "1:25 AM",
         74640,
         18.641,
         false,
         "Marketing"
        ],
        [
         "Helen",
         "Female",
         "1997-10-31",
         "2:43 AM",
         52875,
         4.188,
         false,
         "Legal"
        ],
        [
         "Walter",
         "Male",
         "2007-08-04",
         "1:59 PM",
         58789,
         5.461,
         false,
         "Sales"
        ],
        [
         "Amy",
         "Female",
         "2002-06-19",
         "3:06 AM",
         122897,
         8.222,
         true,
         "Engineering"
        ],
        [
         "Janice",
         "Female",
         "1997-06-28",
         "1:48 PM",
         136032,
         10.696,
         true,
         "Marketing"
        ],
        [
         "Stephen",
         "Male",
         "2015-05-09",
         "7:07 PM",
         141958,
         9.078,
         true,
         "Legal"
        ],
        [
         "Ryan",
         "Male",
         "1993-07-20",
         "10:18 PM",
         139917,
         11.466,
         false,
         "Distribution"
        ],
        [
         "Sharon",
         "Female",
         "2002-03-12",
         "6:32 AM",
         147635,
         14.693,
         false,
         "Human Resources"
        ],
        [
         "Joshua",
         "Male",
         "1984-07-10",
         "7:22 PM",
         68230,
         8.047,
         false,
         "Client Services"
        ],
        [
         "Clarence",
         "Male",
         "1992-08-20",
         "8:23 PM",
         124365,
         8.457,
         false,
         "Business Development"
        ],
        [
         "Jonathan",
         "Male",
         "2002-08-15",
         "12:01 AM",
         104749,
         11.364,
         false,
         "Engineering"
        ],
        [
         "Stephanie",
         "Female",
         "1992-11-26",
         "12:54 AM",
         122121,
         7.937,
         true,
         "Engineering"
        ],
        [
         "Kathy",
         "Female",
         "1996-10-25",
         "12:59 PM",
         143541,
         8.461,
         false,
         "Human Resources"
        ],
        [
         "Albert",
         "Male",
         "2008-08-14",
         "5:43 PM",
         137840,
         9.705,
         false,
         "Business Development"
        ],
        [
         "Michael",
         "Male",
         "2011-05-22",
         "10:42 AM",
         73354,
         18.357,
         false,
         "Business Development"
        ],
        [
         "Richard",
         "Male",
         "1997-07-04",
         "11:47 AM",
         47647,
         18.787,
         true,
         null
        ],
        [
         "Amy",
         "Female",
         "2008-03-30",
         "10:54 PM",
         106249,
         15.967,
         false,
         "Sales"
        ],
        [
         null,
         "Female",
         "2013-04-27",
         "6:40 AM",
         93847,
         1.085,
         null,
         "Business Development"
        ],
        [
         "Beverly",
         null,
         "1995-05-03",
         "5:49 AM",
         104815,
         3.38,
         false,
         "Product"
        ],
        [
         null,
         "Female",
         "1992-04-26",
         "8:01 PM",
         115436,
         3.099,
         null,
         "Human Resources"
        ],
        [
         "Joe",
         "Male",
         "2000-04-14",
         "3:14 PM",
         50645,
         11.119,
         false,
         "Marketing"
        ],
        [
         "Ashley",
         "Female",
         "1997-08-15",
         "9:48 PM",
         142415,
         1.985,
         true,
         "Finance"
        ],
        [
         "Howard",
         "Male",
         "2012-04-09",
         "6:36 AM",
         37984,
         2.021,
         false,
         "Distribution"
        ],
        [
         "Cheryl",
         "Female",
         "2014-12-03",
         "9:27 AM",
         71751,
         15.918,
         false,
         "Business Development"
        ],
        [
         "Robert",
         "Male",
         "2007-03-11",
         "11:20 AM",
         135882,
         19.944,
         false,
         "Legal"
        ],
        [
         "Sharon",
         "Female",
         "2011-07-01",
         "9:50 AM",
         46007,
         19.731,
         true,
         "Client Services"
        ],
        [
         "Judith",
         "Female",
         "2007-11-23",
         "1:22 PM",
         117055,
         7.461,
         false,
         "Marketing"
        ],
        [
         "Nicholas",
         null,
         "1989-09-09",
         "7:12 PM",
         58478,
         6.525,
         true,
         "Distribution"
        ],
        [
         "Jerry",
         "Male",
         "1995-01-30",
         "7:51 PM",
         121357,
         18.845,
         false,
         "Business Development"
        ],
        [
         "Craig",
         "Male",
         "2005-11-01",
         "11:31 PM",
         44857,
         13.266,
         false,
         "Finance"
        ],
        [
         "Barbara",
         "Female",
         "2002-03-21",
         "8:02 AM",
         47322,
         7.25,
         true,
         "Sales"
        ],
        [
         "Eugene",
         "Male",
         "1984-05-24",
         "10:54 AM",
         81077,
         2.117,
         false,
         "Sales"
        ],
        [
         "Johnny",
         "Male",
         "2016-02-26",
         "7:39 PM",
         76394,
         5.437,
         true,
         "Marketing"
        ],
        [
         "Benjamin",
         "Male",
         "2013-05-05",
         "3:28 PM",
         114356,
         7.123,
         false,
         "Client Services"
        ],
        [
         "Diana",
         "Female",
         "1994-06-13",
         "4:21 PM",
         41831,
         4.548,
         false,
         "Business Development"
        ],
        [
         "Barbara",
         null,
         "1980-12-10",
         "11:04 PM",
         90187,
         14.764,
         true,
         "Distribution"
        ],
        [
         "Christine",
         "Female",
         "2003-02-01",
         "1:11 PM",
         72613,
         11.126,
         false,
         "Legal"
        ],
        [
         "Sean",
         "Male",
         "2013-02-11",
         "7:07 PM",
         42748,
         9.765,
         false,
         "Distribution"
        ],
        [
         "Sarah",
         "Female",
         "1980-11-03",
         "2:47 PM",
         37259,
         1.763,
         false,
         "Client Services"
        ],
        [
         "Roger",
         "Male",
         "2015-08-03",
         "4:56 PM",
         125033,
         4.887,
         true,
         "Marketing"
        ],
        [
         null,
         "Female",
         "2014-06-24",
         "10:05 AM",
         38275,
         10.494,
         null,
         "Distribution"
        ],
        [
         null,
         "Male",
         "1980-04-20",
         "1:17 PM",
         71520,
         13.248,
         null,
         "Engineering"
        ],
        [
         "Donald",
         "Male",
         "1995-07-14",
         "7:51 AM",
         106472,
         6.499,
         true,
         "Client Services"
        ],
        [
         "Clarence",
         "Male",
         "2015-11-03",
         "12:11 AM",
         103684,
         18.654,
         true,
         "Engineering"
        ],
        [
         "Scott",
         "Male",
         "1996-11-23",
         "7:36 PM",
         96111,
         15.592,
         false,
         "Human Resources"
        ],
        [
         "Ann",
         "Female",
         "1984-11-04",
         "12:17 PM",
         90719,
         6.22,
         false,
         "Business Development"
        ],
        [
         "Frank",
         "Male",
         "2003-04-27",
         "12:04 PM",
         140303,
         17.07,
         false,
         "Legal"
        ],
        [
         "Joe",
         "Male",
         "1983-07-04",
         "7:32 AM",
         62161,
         8.13,
         true,
         "Business Development"
        ],
        [
         "Wanda",
         "Female",
         "1993-04-06",
         "3:11 AM",
         78883,
         19.695,
         false,
         null
        ],
        [
         "Jimmy",
         "Male",
         "2013-11-19",
         "7:29 PM",
         63549,
         19.624,
         false,
         null
        ],
        [
         "Amy",
         null,
         "1984-12-25",
         "10:52 AM",
         63888,
         18.115,
         true,
         "Product"
        ],
        [
         "Larry",
         "Male",
         "1999-01-08",
         "2:05 AM",
         97370,
         10.458,
         false,
         "Sales"
        ],
        [
         "Gloria",
         "Female",
         "1992-04-12",
         "8:26 PM",
         66224,
         15.979,
         true,
         "Legal"
        ],
        [
         "Ruth",
         "Female",
         "1996-12-12",
         "10:07 AM",
         97915,
         3.997,
         true,
         "Human Resources"
        ],
        [
         "Diana",
         "Female",
         "1995-01-19",
         "12:37 AM",
         86883,
         18.003,
         true,
         "Product"
        ],
        [
         "Raymond",
         "Male",
         "2009-02-16",
         "10:38 PM",
         37812,
         3.178,
         false,
         "Human Resources"
        ],
        [
         "Peter",
         "Male",
         "2003-02-22",
         "9:09 AM",
         56580,
         8.411,
         true,
         null
        ],
        [
         null,
         null,
         "1981-09-25",
         "9:59 AM",
         83895,
         17.971,
         null,
         "Engineering"
        ],
        [
         "Catherine",
         "Female",
         "2013-08-31",
         "7:24 PM",
         58047,
         14.858,
         true,
         "Distribution"
        ],
        [
         "Diane",
         "Female",
         "1982-07-05",
         "4:56 PM",
         124889,
         15.026,
         true,
         "Sales"
        ],
        [
         "Peter",
         null,
         "2014-10-13",
         "9:33 PM",
         118840,
         14.509,
         true,
         "Client Services"
        ],
        [
         "Steve",
         "Male",
         "1995-08-22",
         "6:58 AM",
         67780,
         9.54,
         true,
         "Human Resources"
        ],
        [
         "Barbara",
         "Female",
         "2004-03-22",
         "8:11 AM",
         144677,
         8.696,
         false,
         "Finance"
        ],
        [
         "Helen",
         null,
         "1993-12-02",
         "1:42 PM",
         45724,
         1.022,
         false,
         "Product"
        ],
        [
         "Jimmy",
         null,
         "1983-08-26",
         "2:48 AM",
         86676,
         7.175,
         true,
         "Product"
        ],
        [
         "Christopher",
         "Male",
         "2014-04-23",
         "7:52 AM",
         82401,
         7.252,
         false,
         "Client Services"
        ],
        [
         "Kathleen",
         "Female",
         "2014-06-13",
         "9:16 AM",
         35575,
         14.595,
         false,
         "Distribution"
        ],
        [
         "Virginia",
         "Female",
         "2010-05-02",
         "9:10 PM",
         123649,
         10.154,
         true,
         "Marketing"
        ],
        [
         "Lisa",
         "Female",
         "2005-02-26",
         "6:33 PM",
         38078,
         10.28,
         true,
         "Product"
        ],
        [
         "Earl",
         "Male",
         "2014-02-11",
         "9:03 PM",
         52620,
         13.773,
         false,
         "Product"
        ],
        [
         "Gerald",
         null,
         "1992-01-08",
         "3:50 PM",
         133366,
         12.292,
         false,
         "Legal"
        ],
        [
         "Louise",
         "Female",
         "1981-09-18",
         "5:47 AM",
         91462,
         8.205,
         false,
         "Marketing"
        ],
        [
         "Clarence",
         "Male",
         "1982-08-26",
         "9:47 AM",
         146589,
         4.905,
         true,
         "Business Development"
        ],
        [
         "Cynthia",
         "Female",
         "1991-09-14",
         "1:08 PM",
         51633,
         13.472,
         true,
         "Business Development"
        ],
        [
         "Adam",
         "Male",
         "2010-10-08",
         "9:53 PM",
         45181,
         3.491,
         false,
         "Human Resources"
        ],
        [
         "Justin",
         "Male",
         "1999-09-06",
         "10:30 AM",
         62454,
         3.459,
         true,
         "Sales"
        ],
        [
         null,
         "Female",
         "2009-12-02",
         "3:30 AM",
         84746,
         4.82,
         null,
         "Finance"
        ],
        [
         "Ruby",
         "Female",
         "1999-05-01",
         "3:36 AM",
         147362,
         7.851,
         true,
         "Engineering"
        ],
        [
         "Amanda",
         "Female",
         "2004-08-01",
         "1:32 PM",
         80803,
         14.077,
         true,
         "Distribution"
        ],
        [
         "Anna",
         "Female",
         "2008-04-15",
         "2:34 PM",
         117293,
         2.366,
         false,
         "Client Services"
        ],
        [
         "Roger",
         "Male",
         "2010-07-03",
         "5:11 PM",
         105689,
         13.32,
         true,
         "Marketing"
        ],
        [
         "Julie",
         null,
         "1999-02-04",
         "5:35 PM",
         93302,
         9.048,
         true,
         "Product"
        ],
        [
         "Joseph",
         "Male",
         "1992-09-10",
         "6:50 PM",
         102555,
         3.672,
         true,
         "Product"
        ],
        [
         "Evelyn",
         "Female",
         "1998-09-22",
         "7:55 PM",
         51525,
         10.366,
         false,
         "Finance"
        ],
        [
         "Janice",
         "Female",
         "1984-01-02",
         "9:06 PM",
         41190,
         3.311,
         true,
         "Sales"
        ],
        [
         "Sara",
         "Female",
         "1980-02-25",
         "10:50 PM",
         75484,
         3.186,
         false,
         "Finance"
        ],
        [
         "Gregory",
         "Male",
         "1984-06-18",
         "3:46 AM",
         82726,
         16.304,
         true,
         "Marketing"
        ],
        [
         "Philip",
         "Male",
         "1985-07-18",
         "6:36 AM",
         122319,
         19.122,
         false,
         "Engineering"
        ],
        [
         "Barbara",
         "Female",
         "1991-09-02",
         "3:41 PM",
         127297,
         11.905,
         true,
         "Product"
        ],
        [
         "Amanda",
         "Female",
         "2002-06-07",
         "7:46 AM",
         109290,
         13.853,
         false,
         "Engineering"
        ],
        [
         "Phyllis",
         null,
         "1985-10-25",
         "7:11 AM",
         99150,
         6.007,
         false,
         "Client Services"
        ],
        [
         "Anne",
         "Female",
         "1996-10-26",
         "8:09 PM",
         71930,
         18.451,
         true,
         "Product"
        ],
        [
         "Arthur",
         "Male",
         "2014-12-16",
         "4:56 PM",
         66819,
         6.639,
         true,
         "Marketing"
        ],
        [
         "Jane",
         "Female",
         "1994-06-01",
         "8:39 AM",
         42424,
         18.115,
         false,
         "Distribution"
        ],
        [
         "Linda",
         "Female",
         "1985-08-18",
         "4:34 AM",
         51431,
         13.295,
         false,
         "Engineering"
        ],
        [
         "Ashley",
         "Female",
         "1999-11-17",
         "9:18 PM",
         120675,
         6.51,
         false,
         "Human Resources"
        ],
        [
         "Shawn",
         "Male",
         "2009-12-03",
         "10:24 AM",
         96610,
         2.097,
         true,
         "Client Services"
        ],
        [
         "Kathleen",
         "Female",
         "1996-09-20",
         "3:45 PM",
         71430,
         8.572,
         false,
         "Engineering"
        ],
        [
         "Sara",
         null,
         "1983-10-07",
         "1:35 PM",
         87713,
         18.863,
         true,
         "Legal"
        ],
        [
         "Randy",
         "Male",
         "2002-05-02",
         "7:39 PM",
         86723,
         14.842,
         false,
         "Engineering"
        ],
        [
         "Andrew",
         "Male",
         "1985-03-29",
         "6:57 PM",
         43414,
         7.563,
         true,
         "Client Services"
        ],
        [
         "Marilyn",
         "Female",
         "2006-08-09",
         "11:24 AM",
         87145,
         17.33,
         false,
         "Human Resources"
        ],
        [
         "Johnny",
         "Male",
         "1995-01-08",
         "1:35 PM",
         91124,
         12.986,
         true,
         "Distribution"
        ],
        [
         null,
         "Female",
         "1980-04-01",
         "8:04 PM",
         48141,
         12.605,
         null,
         null
        ],
        [
         "Susan",
         "Female",
         "1986-04-18",
         "9:31 AM",
         90829,
         19.142,
         false,
         "Marketing"
        ],
        [
         "Ruby",
         "Female",
         "1980-07-07",
         "3:42 AM",
         101262,
         6.773,
         false,
         "Client Services"
        ],
        [
         "Kelly",
         "Female",
         "1996-08-16",
         "3:09 AM",
         41427,
         1.431,
         false,
         "Product"
        ],
        [
         "Jonathan",
         "Male",
         "1995-04-06",
         "10:38 PM",
         56993,
         18.623,
         false,
         "Marketing"
        ],
        [
         "Raymond",
         "Male",
         "1996-01-13",
         "4:14 PM",
         114244,
         16.69,
         false,
         "Human Resources"
        ],
        [
         "Kimberly",
         "Female",
         "1981-12-30",
         "4:51 AM",
         81800,
         5.435,
         true,
         null
        ],
        [
         null,
         "Female",
         "2009-01-13",
         "1:01 PM",
         118736,
         7.421,
         null,
         "Client Services"
        ],
        [
         "John",
         "Male",
         "1995-01-22",
         "12:17 AM",
         66077,
         5.809,
         true,
         "Product"
        ],
        [
         "Michael",
         "Male",
         "1993-07-30",
         "5:35 PM",
         35013,
         14.879,
         false,
         "Product"
        ],
        [
         "Jerry",
         "Male",
         "2003-05-04",
         "4:29 AM",
         98393,
         11.393,
         false,
         "Client Services"
        ],
        [
         "Amanda",
         "Female",
         "1982-03-17",
         "11:46 PM",
         107111,
         1.438,
         true,
         "Product"
        ],
        [
         "Harold",
         "Male",
         "2010-10-18",
         "8:45 PM",
         65673,
         1.187,
         true,
         "Legal"
        ],
        [
         "Harry",
         "Male",
         "1985-01-27",
         "8:18 PM",
         65482,
         18.089,
         false,
         null
        ],
        [
         "Ernest",
         "Male",
         "1990-01-28",
         "12:08 AM",
         81919,
         15.118,
         false,
         "Marketing"
        ],
        [
         "Harry",
         "Male",
         "1982-11-19",
         "11:25 AM",
         59277,
         10.2,
         false,
         "Finance"
        ],
        [
         "Diane",
         "Female",
         "1988-02-02",
         "6:14 PM",
         49501,
         13.506,
         false,
         "Business Development"
        ],
        [
         "Jack",
         "Male",
         "2012-05-30",
         "3:17 AM",
         70367,
         18.266,
         true,
         "Legal"
        ],
        [
         "Shirley",
         "Female",
         "1988-04-16",
         "11:09 AM",
         132156,
         2.754,
         false,
         "Marketing"
        ],
        [
         "Rose",
         "Female",
         "2004-10-30",
         "4:34 PM",
         56961,
         7.585,
         false,
         "Marketing"
        ],
        [
         "Cheryl",
         "Female",
         "1982-07-23",
         "6:28 AM",
         98841,
         8.945,
         true,
         "Client Services"
        ],
        [
         "Cynthia",
         "Female",
         "1980-05-23",
         "3:19 AM",
         78226,
         2.419,
         false,
         "Human Resources"
        ],
        [
         "Sandra",
         "Female",
         "1995-04-24",
         "7:14 PM",
         116931,
         9.657,
         true,
         "Human Resources"
        ],
        [
         "Andrea",
         "Female",
         "1994-10-30",
         "11:23 AM",
         87575,
         13.346,
         true,
         "Business Development"
        ],
        [
         "Rachel",
         "Female",
         "1988-04-22",
         "12:01 PM",
         110924,
         7.808,
         false,
         "Distribution"
        ],
        [
         "Justin",
         "Male",
         "1981-05-24",
         "11:15 PM",
         78351,
         15.221,
         false,
         "Sales"
        ],
        [
         "Marie",
         "Female",
         "2000-11-23",
         "5:06 AM",
         125574,
         4.644,
         false,
         "Sales"
        ],
        [
         "Louis",
         "Male",
         "2011-04-15",
         "5:02 AM",
         95198,
         2.075,
         false,
         "Business Development"
        ],
        [
         "Nancy",
         "Female",
         "1985-05-07",
         "10:20 PM",
         121006,
         3.512,
         true,
         "Finance"
        ],
        [
         "Mark",
         "Male",
         "1984-10-03",
         "5:31 AM",
         95728,
         6.752,
         true,
         "Business Development"
        ],
        [
         "Teresa",
         "Female",
         "1987-06-24",
         "7:37 PM",
         69740,
         8.294,
         false,
         "Distribution"
        ],
        [
         "Frances",
         "Female",
         "2001-07-21",
         "2:34 AM",
         91996,
         11.506,
         false,
         "Product"
        ],
        [
         null,
         "Female",
         "1990-10-11",
         "10:57 PM",
         98385,
         10.925,
         null,
         "Human Resources"
        ],
        [
         "Barbara",
         null,
         "1994-12-20",
         "10:09 AM",
         90556,
         15.749,
         true,
         "Distribution"
        ],
        [
         "Christine",
         null,
         "1980-06-15",
         "6:00 PM",
         50366,
         9.862,
         true,
         "Marketing"
        ],
        [
         "Bobby",
         null,
         "2003-07-21",
         "3:50 PM",
         84232,
         15.704,
         true,
         "Engineering"
        ],
        [
         "Carl",
         null,
         "1991-10-26",
         "8:11 AM",
         100888,
         12.49,
         true,
         "Business Development"
        ],
        [
         "Bruce",
         "Male",
         "2013-03-15",
         "11:13 PM",
         141335,
         15.427,
         true,
         "Engineering"
        ],
        [
         "Rose",
         "Female",
         "1982-05-20",
         "9:14 AM",
         97691,
         2.142,
         false,
         "Client Services"
        ],
        [
         "Mildred",
         "Female",
         "1981-02-21",
         "3:30 AM",
         47266,
         10.256,
         false,
         "Client Services"
        ],
        [
         null,
         "Male",
         "1983-10-13",
         "11:59 PM",
         139754,
         12.74,
         null,
         "Sales"
        ],
        [
         null,
         "Female",
         "1993-10-24",
         "5:17 PM",
         116236,
         17.274,
         null,
         "Engineering"
        ],
        [
         "Todd",
         "Male",
         "2010-02-16",
         "11:29 AM",
         103405,
         15.91,
         false,
         "Sales"
        ],
        [
         "Alan",
         "Male",
         "2012-02-17",
         "12:26 AM",
         41453,
         10.084,
         false,
         "Product"
        ],
        [
         "Elizabeth",
         null,
         "1981-02-16",
         "3:58 AM",
         52730,
         12.525,
         false,
         "Marketing"
        ],
        [
         "Julie",
         null,
         "2000-10-21",
         "1:15 AM",
         60361,
         7.099,
         true,
         "Distribution"
        ],
        [
         "Teresa",
         null,
         "1992-01-03",
         "3:47 PM",
         63103,
         11.378,
         false,
         "Finance"
        ],
        [
         "Eric",
         "Male",
         "2004-11-12",
         "9:16 PM",
         65168,
         11.513,
         false,
         "Distribution"
        ],
        [
         "Edward",
         "Male",
         "2001-08-30",
         "1:24 AM",
         73105,
         6.083,
         true,
         "Engineering"
        ],
        [
         "Kimberly",
         "Female",
         "1986-12-06",
         "2:23 PM",
         37916,
         12.929,
         true,
         "Distribution"
        ],
        [
         "Kathy",
         "Female",
         "2001-01-14",
         "5:11 AM",
         45682,
         1.451,
         true,
         "Marketing"
        ],
        [
         "Peter",
         "Male",
         "1992-11-24",
         "5:43 PM",
         69297,
         1.268,
         false,
         "Finance"
        ],
        [
         "Beverly",
         "Female",
         "1990-10-22",
         "2:45 PM",
         59070,
         19.064,
         true,
         "Engineering"
        ],
        [
         "Ralph",
         "Male",
         "2012-03-07",
         "2:25 AM",
         81215,
         8.4,
         false,
         "Finance"
        ],
        [
         "Justin",
         "Male",
         "1997-08-10",
         "11:00 PM",
         128036,
         18.824,
         false,
         "Client Services"
        ],
        [
         "Irene",
         "Female",
         "2005-06-23",
         "11:03 AM",
         89780,
         8.999,
         true,
         "Sales"
        ],
        [
         "Irene",
         "Female",
         "2006-11-29",
         "2:14 PM",
         125018,
         9.601,
         true,
         "Legal"
        ],
        [
         "Jeremy",
         "Male",
         "1997-11-26",
         "8:22 AM",
         133033,
         12.2,
         false,
         "Sales"
        ],
        [
         "Cynthia",
         "Female",
         "2015-06-29",
         "6:38 AM",
         82408,
         8.701,
         true,
         "Marketing"
        ],
        [
         null,
         "Female",
         "1997-04-13",
         "8:03 AM",
         131755,
         2.93,
         null,
         null
        ],
        [
         "Anne",
         "Female",
         "1984-11-21",
         "12:30 PM",
         128305,
         16.636,
         false,
         "Marketing"
        ],
        [
         null,
         null,
         "1988-09-02",
         "12:49 PM",
         147309,
         1.702,
         null,
         "Distribution"
        ],
        [
         "Debra",
         "Female",
         "1983-03-12",
         "12:19 PM",
         74911,
         19.513,
         false,
         "Marketing"
        ],
        [
         "Michael",
         "Male",
         "1988-07-13",
         "1:48 PM",
         47079,
         2.617,
         false,
         "Legal"
        ],
        [
         "Jason",
         null,
         "2008-03-06",
         "1:20 AM",
         82873,
         1.869,
         false,
         "Client Services"
        ],
        [
         "Rebecca",
         "Female",
         "1990-02-23",
         "3:21 PM",
         134673,
         6.878,
         false,
         "Engineering"
        ],
        [
         "Andrea",
         "Female",
         "2011-11-17",
         "2:37 PM",
         123591,
         6.5,
         true,
         "Engineering"
        ],
        [
         "Carl",
         "Male",
         "1987-03-30",
         "5:59 PM",
         75598,
         19.289,
         false,
         null
        ],
        [
         "Randy",
         "Male",
         "2000-09-27",
         "3:04 AM",
         89831,
         13.047,
         true,
         null
        ],
        [
         "Marilyn",
         "Female",
         "1984-07-02",
         "4:06 PM",
         92430,
         2.924,
         false,
         "Engineering"
        ],
        [
         "Wayne",
         "Male",
         "2009-09-02",
         "1:37 AM",
         126956,
         18.396,
         false,
         "Human Resources"
        ],
        [
         "Frances",
         "Female",
         "1996-11-12",
         "6:08 PM",
         112467,
         1.433,
         false,
         "Business Development"
        ],
        [
         "Amanda",
         null,
         "1991-08-11",
         "2:15 PM",
         46665,
         19.391,
         true,
         "Client Services"
        ],
        [
         "Kathleen",
         "Female",
         "2004-08-28",
         "10:49 AM",
         42553,
         3.756,
         true,
         "Distribution"
        ],
        [
         "Amanda",
         "Female",
         "1995-01-25",
         "5:06 AM",
         102081,
         5.203,
         false,
         "Sales"
        ],
        [
         "Amanda",
         null,
         "2010-03-16",
         "9:17 AM",
         135118,
         15.108,
         false,
         "Finance"
        ],
        [
         "Shawn",
         "Male",
         "1987-09-29",
         "10:11 PM",
         71975,
         9.77,
         false,
         "Human Resources"
        ],
        [
         "Katherine",
         "Female",
         "1996-08-13",
         "12:21 AM",
         149908,
         18.912,
         false,
         "Finance"
        ],
        [
         "Anna",
         null,
         "1985-03-13",
         "9:19 AM",
         45418,
         10.162,
         false,
         "Marketing"
        ],
        [
         "Elizabeth",
         "Female",
         "2010-02-21",
         "7:02 AM",
         79145,
         19.78,
         false,
         "Finance"
        ],
        [
         "Donald",
         "Male",
         "1988-04-06",
         "10:00 AM",
         122920,
         5.32,
         false,
         null
        ],
        [
         "Gregory",
         "Male",
         "1999-11-15",
         "5:22 PM",
         128031,
         15.857,
         true,
         "Business Development"
        ],
        [
         "Ruth",
         "Female",
         "2004-02-17",
         "5:38 AM",
         59969,
         14.064,
         true,
         "Finance"
        ],
        [
         "Cynthia",
         "Female",
         "1986-07-05",
         "1:24 AM",
         35381,
         11.749,
         false,
         "Finance"
        ],
        [
         "Deborah",
         "Female",
         "1985-11-21",
         "1:40 PM",
         113129,
         17.371,
         false,
         "Client Services"
        ],
        [
         "Willie",
         "Male",
         "2009-12-05",
         "5:39 AM",
         141932,
         1.017,
         true,
         "Engineering"
        ],
        [
         "Debra",
         "Female",
         "2006-05-28",
         "6:51 AM",
         42296,
         16.922,
         false,
         "Product"
        ],
        [
         "Carl",
         "Male",
         "1984-12-14",
         "8:49 PM",
         63395,
         11.411,
         false,
         "Legal"
        ],
        [
         "Walter",
         "Male",
         "2007-09-24",
         "11:16 PM",
         125382,
         13.613,
         true,
         "Client Services"
        ],
        [
         "Lisa",
         "Female",
         "1982-02-09",
         "6:44 PM",
         113592,
         17.108,
         true,
         "Marketing"
        ],
        [
         "Rebecca",
         "Female",
         "2000-03-05",
         "10:33 AM",
         46750,
         11.367,
         true,
         "Sales"
        ],
        [
         "Jessica",
         "Female",
         "1986-10-19",
         "9:58 PM",
         90285,
         13.591,
         true,
         "Client Services"
        ],
        [
         "Steve",
         null,
         "2009-08-27",
         "3:41 PM",
         53692,
         4.785,
         true,
         "Marketing"
        ],
        [
         "Mary",
         null,
         "1986-12-24",
         "7:02 PM",
         100341,
         6.662,
         false,
         "Distribution"
        ],
        [
         "Craig",
         "Male",
         "1995-08-21",
         "2:38 AM",
         123876,
         4.225,
         false,
         "Engineering"
        ],
        [
         "Katherine",
         "Female",
         "2000-12-19",
         "1:40 AM",
         41643,
         4.659,
         true,
         "Distribution"
        ],
        [
         "Andrea",
         "Female",
         "1989-08-31",
         "11:10 PM",
         113760,
         12.866,
         true,
         "Distribution"
        ],
        [
         "Timothy",
         "Male",
         "2010-10-06",
         "10:49 PM",
         49473,
         12.463,
         false,
         "Legal"
        ],
        [
         "Anthony",
         "Male",
         "2013-02-13",
         "1:35 PM",
         146141,
         3.645,
         true,
         "Distribution"
        ],
        [
         "Harold",
         null,
         "2004-02-04",
         "11:02 AM",
         79459,
         7.776,
         true,
         "Business Development"
        ],
        [
         "Douglas",
         null,
         "2009-02-04",
         "2:03 AM",
         104496,
         14.771,
         true,
         "Marketing"
        ],
        [
         "James",
         "Male",
         "2001-12-05",
         "7:06 AM",
         67789,
         17.105,
         true,
         "Legal"
        ],
        [
         "Joseph",
         null,
         "1982-03-28",
         "1:05 PM",
         86564,
         11.879,
         true,
         null
        ],
        [
         "Martha",
         "Female",
         "2001-09-14",
         "3:22 AM",
         135758,
         14.782,
         true,
         "Client Services"
        ],
        [
         "Laura",
         "Female",
         "2000-07-12",
         "6:07 PM",
         84672,
         3.96,
         false,
         "Distribution"
        ],
        [
         "Robert",
         "Male",
         "1982-11-05",
         "12:41 PM",
         111580,
         10.982,
         false,
         "Human Resources"
        ],
        [
         "Ralph",
         "Male",
         "1996-03-24",
         "11:54 AM",
         50455,
         16.248,
         false,
         "Business Development"
        ],
        [
         null,
         "Male",
         "2012-08-28",
         "7:56 PM",
         88733,
         1.932,
         null,
         "Human Resources"
        ],
        [
         "Diane",
         "Female",
         "2009-10-30",
         "6:56 PM",
         130577,
         12.791,
         false,
         "Marketing"
        ],
        [
         "Annie",
         "Female",
         "1992-06-06",
         "10:04 AM",
         138925,
         9.801,
         true,
         "Marketing"
        ],
        [
         "Jacqueline",
         "Female",
         "1994-09-20",
         "6:07 PM",
         62371,
         15.77,
         true,
         "Client Services"
        ],
        [
         "Brenda",
         "Female",
         "1984-04-17",
         "7:12 AM",
         87715,
         2.675,
         false,
         "Product"
        ],
        [
         "Lori",
         "Female",
         "2002-09-11",
         "7:36 AM",
         66029,
         3.345,
         true,
         "Client Services"
        ],
        [
         "Albert",
         "Male",
         "1992-06-17",
         "3:25 AM",
         86818,
         14.301,
         true,
         "Engineering"
        ],
        [
         "Frank",
         "Male",
         "2002-11-23",
         "6:10 PM",
         75147,
         17.398,
         false,
         "Product"
        ],
        [
         "Deborah",
         "Female",
         "2000-04-23",
         "6:55 PM",
         105573,
         5.268,
         true,
         "Product"
        ],
        [
         "Robin",
         null,
         "2005-12-20",
         "2:42 PM",
         41230,
         6.611,
         true,
         "Distribution"
        ],
        [
         "Alice",
         "Female",
         "2016-01-21",
         "5:07 PM",
         117787,
         10.485,
         false,
         null
        ],
        [
         null,
         "Male",
         "1989-10-20",
         "9:37 AM",
         88086,
         19.387,
         null,
         "Finance"
        ],
        [
         "Paul",
         null,
         "2011-02-18",
         "12:23 PM",
         91462,
         18.704,
         false,
         "Finance"
        ],
        [
         null,
         "Male",
         "1996-12-27",
         "7:07 AM",
         139959,
         8.992,
         null,
         "Distribution"
        ],
        [
         "Brian",
         "Male",
         "2007-04-07",
         "10:47 PM",
         93901,
         17.821,
         true,
         "Legal"
        ],
        [
         "Julie",
         null,
         "1980-05-08",
         "6:31 AM",
         50529,
         17.263,
         false,
         "Finance"
        ],
        [
         "Bruce",
         "Male",
         "2007-01-28",
         "11:10 PM",
         134988,
         13.926,
         true,
         "Sales"
        ],
        [
         "Joan",
         "Female",
         "2007-10-02",
         "2:53 AM",
         120941,
         3.694,
         true,
         "Finance"
        ],
        [
         "Harold",
         "Male",
         "2007-05-15",
         "6:37 PM",
         118753,
         8.162,
         false,
         "Sales"
        ],
        [
         "Alice",
         "Female",
         "1995-10-16",
         "9:19 PM",
         92799,
         2.782,
         false,
         "Sales"
        ],
        [
         "Barbara",
         "Female",
         "2011-11-12",
         "12:35 AM",
         85718,
         13.326,
         false,
         "Client Services"
        ],
        [
         "Sarah",
         "Female",
         "1999-04-06",
         "11:17 AM",
         109517,
         5.146,
         false,
         "Human Resources"
        ],
        [
         "Samuel",
         "Male",
         "2012-05-25",
         "4:40 PM",
         85550,
         11.593,
         true,
         "Marketing"
        ],
        [
         null,
         "Male",
         "1990-05-23",
         "2:09 AM",
         136655,
         9.801,
         null,
         "Distribution"
        ],
        [
         "Barbara",
         null,
         "2002-08-02",
         "5:13 AM",
         43312,
         8.218,
         true,
         "Legal"
        ],
        [
         "Amy",
         null,
         "1984-05-19",
         "11:47 AM",
         102839,
         10.385,
         true,
         "Distribution"
        ],
        [
         "Frank",
         "Male",
         "2009-03-02",
         "9:15 PM",
         78891,
         7.927,
         true,
         "Distribution"
        ],
        [
         "Robin",
         null,
         "2005-09-16",
         "1:26 AM",
         93201,
         11.712,
         true,
         "Legal"
        ],
        [
         "Debra",
         "Female",
         "2011-03-17",
         "1:12 PM",
         84693,
         6.976,
         true,
         "Finance"
        ],
        [
         "Brandon",
         null,
         "2004-05-31",
         "3:36 PM",
         73587,
         9.769,
         true,
         "Human Resources"
        ],
        [
         "Thomas",
         "Male",
         "1991-09-07",
         "9:51 AM",
         65251,
         11.211,
         false,
         "Distribution"
        ],
        [
         "Harry",
         "Male",
         "2015-09-23",
         "1:36 AM",
         129148,
         15.193,
         true,
         "Engineering"
        ],
        [
         "Todd",
         "Male",
         "1993-07-04",
         "6:53 PM",
         128175,
         18.473,
         true,
         null
        ],
        [
         "Patricia",
         "Female",
         "1998-03-07",
         "1:10 AM",
         75825,
         7.839,
         false,
         "Engineering"
        ],
        [
         "Steve",
         "Male",
         "2002-01-11",
         "9:17 PM",
         51821,
         1.197,
         true,
         "Legal"
        ],
        [
         null,
         "Male",
         "1995-04-07",
         "4:32 AM",
         60411,
         12.048,
         null,
         "Human Resources"
        ],
        [
         "Edward",
         "Male",
         "1997-11-27",
         "1:00 AM",
         58327,
         17.095,
         true,
         "Finance"
        ],
        [
         "Karen",
         "Female",
         "2014-01-09",
         "10:09 PM",
         46478,
         16.552,
         false,
         "Engineering"
        ],
        [
         "Martin",
         null,
         "2001-02-06",
         "4:17 AM",
         123963,
         15.745,
         true,
         "Engineering"
        ],
        [
         "Ann",
         "Female",
         "1994-09-28",
         "5:44 AM",
         79796,
         9.851,
         false,
         "Distribution"
        ],
        [
         "Jonathan",
         "Male",
         "1984-07-30",
         "6:02 PM",
         83809,
         12.922,
         false,
         "Distribution"
        ],
        [
         "Peter",
         "Male",
         "1982-03-22",
         "7:28 AM",
         77933,
         13.132,
         true,
         "Engineering"
        ],
        [
         "Eric",
         "Male",
         "1993-06-15",
         "3:56 AM",
         51070,
         13.806,
         true,
         "Business Development"
        ],
        [
         "Jason",
         null,
         "1988-04-15",
         "8:16 PM",
         97480,
         11.518,
         false,
         "Human Resources"
        ],
        [
         "Terry",
         "Male",
         "2010-10-21",
         "11:18 PM",
         58357,
         7.969,
         false,
         "Engineering"
        ],
        [
         "John",
         "Male",
         "1999-01-29",
         "3:07 AM",
         67165,
         13.001,
         false,
         "Engineering"
        ],
        [
         "Marie",
         "Female",
         "1983-04-08",
         "2:01 PM",
         145988,
         18.685,
         true,
         "Human Resources"
        ],
        [
         "Harold",
         "Male",
         "2010-04-16",
         "5:13 AM",
         147417,
         11.626,
         true,
         "Business Development"
        ],
        [
         "Joshua",
         "Male",
         "1997-06-27",
         "3:23 PM",
         95003,
         5.197,
         true,
         "Marketing"
        ],
        [
         "Brandon",
         null,
         "1992-09-05",
         "2:32 AM",
         144187,
         11.416,
         true,
         "Legal"
        ],
        [
         "Andrea",
         "Female",
         "2001-12-10",
         "6:40 AM",
         37888,
         13.47,
         false,
         "Engineering"
        ],
        [
         "Jeremy",
         "Male",
         "1991-05-19",
         "1:40 PM",
         131513,
         1.876,
         true,
         "Finance"
        ],
        [
         "Daniel",
         "Male",
         "2016-02-29",
         "4:04 AM",
         77287,
         13.0,
         true,
         null
        ],
        [
         "Roy",
         "Male",
         "2004-05-10",
         "1:22 PM",
         46875,
         12.942,
         true,
         "Sales"
        ],
        [
         "Dorothy",
         "Female",
         "2008-10-08",
         "12:22 AM",
         82744,
         19.111,
         true,
         "Client Services"
        ],
        [
         "Steven",
         "Male",
         "1986-09-07",
         "12:32 AM",
         43252,
         18.892,
         false,
         "Client Services"
        ],
        [
         "Nicole",
         "Female",
         "2009-04-26",
         "12:40 AM",
         66047,
         18.674,
         true,
         "Marketing"
        ],
        [
         "Ann",
         "Female",
         "2001-07-16",
         "9:27 AM",
         118431,
         12.772,
         true,
         "Finance"
        ],
        [
         "Henry",
         "Male",
         "1986-05-12",
         "2:04 AM",
         59943,
         1.432,
         false,
         "Finance"
        ],
        [
         null,
         "Male",
         "2009-06-17",
         "1:00 PM",
         136681,
         3.655,
         null,
         "Business Development"
        ],
        [
         null,
         "Female",
         "1994-12-18",
         "8:42 PM",
         138807,
         1.4,
         null,
         "Human Resources"
        ],
        [
         "Barbara",
         "Female",
         "2002-11-26",
         "5:32 AM",
         82884,
         6.837,
         true,
         "Business Development"
        ],
        [
         "Judy",
         "Female",
         "2011-04-05",
         "1:44 AM",
         48668,
         11.716,
         true,
         "Product"
        ],
        [
         "Lawrence",
         "Male",
         "2011-07-23",
         "3:41 AM",
         122971,
         14.618,
         false,
         "Product"
        ],
        [
         "Joseph",
         "Male",
         "2010-10-10",
         "11:12 PM",
         107050,
         12.737,
         false,
         "Business Development"
        ],
        [
         "Carlos",
         "Male",
         "1981-01-25",
         "10:00 AM",
         138598,
         14.737,
         false,
         "Sales"
        ],
        [
         "Russell",
         null,
         "2009-05-09",
         "11:59 AM",
         149456,
         3.533,
         false,
         "Marketing"
        ],
        [
         "Jane",
         "Female",
         "1999-07-10",
         "7:02 PM",
         128540,
         15.941,
         false,
         "Legal"
        ],
        [
         "Martin",
         "Male",
         "2016-02-25",
         "6:29 PM",
         61117,
         2.844,
         false,
         "Client Services"
        ],
        [
         "Steven",
         "Male",
         "1980-05-30",
         "8:25 PM",
         100949,
         13.813,
         true,
         "Human Resources"
        ],
        [
         "Judy",
         null,
         "2011-07-15",
         "3:38 PM",
         46829,
         5.19,
         true,
         "Finance"
        ],
        [
         "James",
         "Male",
         "2008-02-16",
         "2:49 AM",
         69111,
         14.625,
         true,
         "Business Development"
        ],
        [
         "Gloria",
         "Female",
         "2004-08-19",
         "10:31 AM",
         46602,
         1.027,
         true,
         "Business Development"
        ],
        [
         "Ernest",
         "Male",
         "2001-06-30",
         "1:46 PM",
         61181,
         16.559,
         false,
         "Business Development"
        ],
        [
         "Martha",
         "Female",
         "1997-07-17",
         "11:11 PM",
         94963,
         19.626,
         true,
         "Business Development"
        ],
        [
         "Janet",
         null,
         "1986-01-25",
         "5:48 AM",
         85789,
         9.712,
         false,
         "Legal"
        ],
        [
         "Louis",
         null,
         "1983-02-05",
         "6:39 PM",
         145274,
         16.379,
         false,
         "Product"
        ],
        [
         "Tina",
         "Female",
         "1999-08-06",
         "3:18 AM",
         102841,
         3.369,
         false,
         "Client Services"
        ],
        [
         "Henry",
         "Male",
         "2007-02-23",
         "3:24 AM",
         49665,
         18.338,
         false,
         "Business Development"
        ],
        [
         "Antonio",
         "Male",
         "1999-06-06",
         "10:54 PM",
         41928,
         5.478,
         true,
         null
        ],
        [
         "Lisa",
         "Female",
         "2007-04-11",
         "1:04 AM",
         128042,
         2.03,
         true,
         "Legal"
        ],
        [
         "Denise",
         "Female",
         "1984-02-19",
         "6:22 AM",
         86150,
         3.997,
         false,
         "Client Services"
        ],
        [
         "Stephen",
         "Male",
         "1984-10-21",
         "6:26 AM",
         121816,
         10.615,
         true,
         "Distribution"
        ],
        [
         "Benjamin",
         "Male",
         "1988-04-12",
         "11:32 PM",
         123409,
         7.783,
         false,
         "Product"
        ],
        [
         "Carl",
         null,
         "2007-08-18",
         "8:01 AM",
         98295,
         7.617,
         true,
         "Legal"
        ],
        [
         "Ruth",
         "Female",
         "1980-09-02",
         "6:52 AM",
         59678,
         10.895,
         false,
         "Distribution"
        ],
        [
         "Shawn",
         "Male",
         "2006-12-29",
         "3:05 AM",
         57871,
         4.02,
         true,
         "Human Resources"
        ],
        [
         "Jennifer",
         "Female",
         "2015-03-31",
         "7:43 PM",
         132084,
         10.006,
         true,
         "Engineering"
        ],
        [
         "Terry",
         "Male",
         "2004-11-10",
         "4:33 AM",
         35633,
         3.947,
         true,
         "Distribution"
        ],
        [
         "Jacqueline",
         "Female",
         "2008-07-27",
         "12:08 PM",
         125298,
         3.019,
         true,
         "Legal"
        ],
        [
         "Roger",
         "Male",
         "1988-05-02",
         "10:04 PM",
         115582,
         15.343,
         true,
         "Sales"
        ],
        [
         "Alice",
         null,
         "1995-04-23",
         "6:35 AM",
         148339,
         11.479,
         true,
         "Finance"
        ],
        [
         "Justin",
         "Male",
         "1991-07-25",
         "12:45 AM",
         112975,
         9.699,
         false,
         "Human Resources"
        ],
        [
         "Janet",
         "Female",
         "2008-07-12",
         "12:10 PM",
         36927,
         18.769,
         false,
         "Client Services"
        ],
        [
         "Robin",
         "Female",
         "2004-03-26",
         "5:41 PM",
         70248,
         9.66,
         true,
         "Sales"
        ],
        [
         "Samuel",
         null,
         "2002-10-07",
         "3:08 AM",
         141305,
         9.849,
         true,
         "Marketing"
        ],
        [
         "Katherine",
         "Female",
         "2006-09-22",
         "8:08 PM",
         72002,
         13.178,
         true,
         "Product"
        ],
        [
         "Peter",
         "Male",
         "1991-05-22",
         "1:39 AM",
         102577,
         12.026,
         true,
         "Product"
        ],
        [
         "Lillian",
         "Female",
         "2009-08-14",
         "5:41 AM",
         113554,
         18.018,
         true,
         "Business Development"
        ],
        [
         null,
         "Male",
         "1986-10-24",
         "9:23 AM",
         47176,
         10.736,
         null,
         "Finance"
        ],
        [
         null,
         "Female",
         "2000-06-18",
         "7:36 AM",
         106428,
         10.867,
         null,
         null
        ],
        [
         "Rose",
         "Female",
         "1999-11-03",
         "9:06 AM",
         75181,
         6.06,
         true,
         "Finance"
        ],
        [
         "Bobby",
         "Male",
         "2004-09-30",
         "10:52 PM",
         79047,
         18.784,
         false,
         "Human Resources"
        ],
        [
         "Kimberly",
         "Female",
         "1986-04-20",
         "3:55 PM",
         52970,
         4.513,
         false,
         "Sales"
        ],
        [
         "Antonio",
         "Male",
         "2003-12-28",
         "4:17 AM",
         137979,
         5.266,
         false,
         "Distribution"
        ],
        [
         "Doris",
         "Female",
         "1984-09-08",
         "7:03 PM",
         114360,
         17.799,
         true,
         "Business Development"
        ],
        [
         "Steven",
         "Male",
         "2009-07-05",
         "4:55 AM",
         110306,
         16.843,
         true,
         "Human Resources"
        ],
        [
         "Lawrence",
         "Male",
         "1995-07-03",
         "10:55 PM",
         46378,
         9.127,
         false,
         null
        ],
        [
         null,
         "Male",
         "1986-05-06",
         "4:41 PM",
         74104,
         17.68,
         null,
         "Client Services"
        ],
        [
         null,
         null,
         "1991-04-15",
         "3:39 AM",
         132505,
         13.592,
         null,
         "Product"
        ],
        [
         "Stephanie",
         "Female",
         "1982-09-14",
         "8:14 AM",
         96649,
         3.453,
         false,
         "Sales"
        ],
        [
         null,
         "Female",
         "1982-07-24",
         "12:00 AM",
         57811,
         8.941,
         null,
         "Marketing"
        ],
        [
         "Sandra",
         "Female",
         "1989-09-07",
         "4:17 PM",
         111468,
         2.58,
         true,
         "Product"
        ],
        [
         "Kevin",
         "Male",
         "2005-07-01",
         "3:22 PM",
         141498,
         4.135,
         true,
         "Sales"
        ],
        [
         "Michelle",
         null,
         "2012-03-31",
         "6:28 AM",
         124441,
         16.353,
         false,
         "Business Development"
        ],
        [
         "Lisa",
         "Female",
         "2000-07-08",
         "9:19 PM",
         40121,
         6.293,
         false,
         "Product"
        ],
        [
         "Fred",
         "Male",
         "1989-03-03",
         "2:27 AM",
         129712,
         11.058,
         false,
         "Finance"
        ],
        [
         "Joseph",
         "Male",
         "1982-11-04",
         "9:46 PM",
         126010,
         19.601,
         false,
         "Legal"
        ],
        [
         "Anne",
         null,
         "1996-04-18",
         "11:57 PM",
         122762,
         9.564,
         false,
         "Distribution"
        ],
        [
         "Andrea",
         "Female",
         "1999-07-22",
         "9:25 AM",
         149105,
         13.707,
         true,
         "Distribution"
        ],
        [
         "Nicole",
         "Female",
         "2004-03-01",
         "5:17 PM",
         44021,
         10.286,
         false,
         null
        ],
        [
         "Theresa",
         null,
         "1995-10-07",
         "10:16 AM",
         42025,
         3.319,
         true,
         "Human Resources"
        ],
        [
         "Catherine",
         "Female",
         "1986-08-31",
         "6:20 PM",
         59970,
         12.801,
         false,
         "Client Services"
        ],
        [
         "Rose",
         "Female",
         "1982-12-31",
         "6:50 PM",
         145001,
         19.85,
         false,
         "Engineering"
        ],
        [
         "Lawrence",
         "Male",
         "1984-10-01",
         "2:06 PM",
         102589,
         17.952,
         true,
         "Marketing"
        ],
        [
         "Raymond",
         "Male",
         "1986-12-12",
         "12:18 PM",
         47529,
         2.712,
         true,
         "Product"
        ],
        [
         "Clarence",
         "Male",
         "1989-08-05",
         "6:11 PM",
         148941,
         11.517,
         false,
         "Product"
        ],
        [
         "Ryan",
         "Male",
         "1988-04-15",
         "5:18 AM",
         91109,
         17.499,
         true,
         "Human Resources"
        ],
        [
         "Jane",
         "Female",
         "1992-01-12",
         "1:23 PM",
         51923,
         13.623,
         false,
         "Business Development"
        ],
        [
         "Lois",
         "Female",
         "2012-07-28",
         "11:39 AM",
         53954,
         19.075,
         false,
         "Product"
        ],
        [
         "Shawn",
         "Male",
         "2008-03-17",
         "2:12 PM",
         39335,
         10.664,
         false,
         "Distribution"
        ],
        [
         "Thomas",
         "Male",
         "1990-05-03",
         "9:29 AM",
         111371,
         15.081,
         true,
         "Engineering"
        ],
        [
         "Kathryn",
         "Female",
         "2008-01-29",
         "12:29 AM",
         86676,
         6.081,
         false,
         "Sales"
        ],
        [
         "Mary",
         "Female",
         "2011-11-06",
         "8:32 AM",
         115057,
         2.089,
         false,
         "Finance"
        ],
        [
         "Julie",
         "Female",
         "1980-03-08",
         "5:13 AM",
         145357,
         3.459,
         false,
         "Engineering"
        ],
        [
         "George",
         "Male",
         "1995-09-27",
         "5:04 PM",
         36749,
         19.754,
         false,
         "Finance"
        ],
        [
         "Ralph",
         "Male",
         "2000-02-10",
         "4:48 PM",
         89854,
         7.227,
         false,
         "Business Development"
        ],
        [
         "Judith",
         "Female",
         "1989-09-03",
         "11:16 AM",
         134048,
         6.818,
         true,
         "Marketing"
        ],
        [
         null,
         "Male",
         "1994-12-13",
         "10:34 AM",
         141311,
         5.478,
         null,
         "Product"
        ],
        [
         "Evelyn",
         "Female",
         "2002-02-10",
         "4:44 AM",
         123621,
         19.767,
         true,
         "Marketing"
        ],
        [
         "Rachel",
         "Female",
         "2011-06-23",
         "12:52 AM",
         54941,
         3.221,
         true,
         "Distribution"
        ],
        [
         "Maria",
         null,
         "1986-01-18",
         "8:36 PM",
         106562,
         4.0,
         false,
         "Human Resources"
        ],
        [
         "Kelly",
         "Female",
         "2007-03-17",
         "6:20 PM",
         39371,
         4.068,
         false,
         "Engineering"
        ],
        [
         "Ruby",
         "Female",
         "2008-05-31",
         "8:41 PM",
         83112,
         4.083,
         false,
         "Marketing"
        ],
        [
         "Ann",
         "Female",
         "1980-10-03",
         "1:08 AM",
         96941,
         10.048,
         true,
         "Distribution"
        ],
        [
         "Kenneth",
         "Male",
         "1985-12-14",
         "6:55 AM",
         47232,
         17.862,
         true,
         "Legal"
        ],
        [
         "William",
         "Male",
         "1993-11-18",
         "12:27 PM",
         54058,
         5.182,
         true,
         "Human Resources"
        ],
        [
         null,
         "Female",
         "1980-12-27",
         "2:27 AM",
         80399,
         12.254,
         null,
         "Distribution"
        ],
        [
         "Deborah",
         "Female",
         "2009-02-26",
         "10:17 AM",
         118043,
         7.266,
         true,
         "Business Development"
        ],
        [
         null,
         "Male",
         "2009-11-12",
         "2:30 PM",
         109411,
         9.494,
         null,
         "Engineering"
        ],
        [
         "Julia",
         "Female",
         "2014-08-18",
         "3:12 AM",
         97566,
         2.147,
         false,
         "Marketing"
        ],
        [
         "Robert",
         null,
         "2000-12-04",
         "1:20 AM",
         69267,
         5.89,
         true,
         "Sales"
        ],
        [
         null,
         null,
         "1988-08-01",
         "1:35 AM",
         87103,
         5.665,
         null,
         null
        ],
        [
         "Jesse",
         null,
         "2014-07-16",
         "2:24 AM",
         98811,
         7.487,
         false,
         "Legal"
        ],
        [
         "Cynthia",
         "Female",
         "2006-07-12",
         "8:55 AM",
         149684,
         7.864,
         false,
         "Product"
        ],
        [
         "Johnny",
         "Male",
         "2007-01-14",
         "2:54 PM",
         71383,
         2.097,
         true,
         "Human Resources"
        ],
        [
         "Michael",
         "Male",
         "2002-08-31",
         "1:20 AM",
         81206,
         19.908,
         true,
         "Distribution"
        ],
        [
         "Kenneth",
         "Male",
         "2015-01-15",
         "2:41 PM",
         69112,
         7.588,
         true,
         "Finance"
        ],
        [
         "Keith",
         "Male",
         "2003-02-12",
         "3:02 PM",
         120672,
         19.467,
         false,
         "Legal"
        ],
        [
         "Gerald",
         "Male",
         "2010-05-28",
         "12:26 PM",
         96511,
         9.331,
         false,
         "Human Resources"
        ],
        [
         "Carl",
         null,
         "1982-02-11",
         "7:54 AM",
         49325,
         2.071,
         true,
         "Business Development"
        ],
        [
         "Douglas",
         "Male",
         "2007-08-04",
         "5:23 AM",
         132175,
         2.28,
         false,
         "Engineering"
        ],
        [
         "Carolyn",
         "Female",
         "2004-03-17",
         "6:38 AM",
         118037,
         13.492,
         false,
         "Finance"
        ],
        [
         "Joseph",
         "Male",
         "1985-05-23",
         "10:16 PM",
         139570,
         15.804,
         true,
         "Finance"
        ],
        [
         "Billy",
         "Male",
         "2000-04-06",
         "3:14 PM",
         115280,
         9.153,
         false,
         "Distribution"
        ],
        [
         "Joyce",
         "Female",
         "2001-07-25",
         "6:04 AM",
         51065,
         16.807,
         false,
         "Human Resources"
        ],
        [
         "Lillian",
         "Female",
         "2002-08-26",
         "8:53 AM",
         103854,
         4.924,
         true,
         "Distribution"
        ],
        [
         "Ruby",
         "Female",
         "2006-08-13",
         "6:27 PM",
         48354,
         19.501,
         false,
         "Business Development"
        ],
        [
         "Sandra",
         "Female",
         "1998-02-07",
         "12:39 PM",
         132327,
         19.264,
         false,
         "Product"
        ],
        [
         "Louise",
         "Female",
         "1982-02-26",
         "1:03 AM",
         106362,
         8.965,
         false,
         "Sales"
        ],
        [
         "Maria",
         null,
         "1985-06-19",
         "1:48 AM",
         148857,
         8.738,
         false,
         "Legal"
        ],
        [
         "Brenda",
         "Female",
         "1981-01-03",
         "6:01 PM",
         131131,
         11.682,
         false,
         "Client Services"
        ],
        [
         "Stephen",
         "Male",
         "1990-09-10",
         "10:42 PM",
         129663,
         15.574,
         false,
         "Human Resources"
        ],
        [
         "Nicole",
         null,
         "1981-05-02",
         "12:03 PM",
         41449,
         4.707,
         false,
         "Finance"
        ],
        [
         "Bobby",
         "Male",
         "1984-06-05",
         "7:40 AM",
         93368,
         2.88,
         true,
         "Product"
        ],
        [
         "Ernest",
         "Male",
         "1997-09-06",
         "2:02 PM",
         53335,
         9.192,
         false,
         "Product"
        ],
        [
         "Charles",
         "Male",
         "1997-09-03",
         "10:04 AM",
         148291,
         6.002,
         false,
         null
        ],
        [
         "Bobby",
         "Male",
         "1996-08-19",
         "1:16 AM",
         147842,
         16.158,
         true,
         null
        ],
        [
         "Diana",
         "Female",
         "2004-11-19",
         "8:47 AM",
         105066,
         17.343,
         true,
         "Business Development"
        ],
        [
         "Mildred",
         "Female",
         "2007-04-06",
         "10:06 PM",
         139284,
         11.39,
         true,
         null
        ],
        [
         "Harry",
         "Male",
         "1985-02-10",
         "7:46 PM",
         63046,
         10.411,
         false,
         "Finance"
        ],
        [
         "Phillip",
         null,
         "2003-10-20",
         "11:09 AM",
         89700,
         2.277,
         true,
         null
        ],
        [
         "Bonnie",
         null,
         "2006-01-18",
         "6:52 PM",
         108946,
         12.211,
         false,
         "Finance"
        ],
        [
         "Marie",
         "Female",
         "1993-12-08",
         "6:28 PM",
         98406,
         7.943,
         true,
         "Product"
        ],
        [
         "Sean",
         "Male",
         "2006-04-25",
         "4:51 PM",
         108581,
         9.634,
         false,
         "Human Resources"
        ],
        [
         "Robin",
         "Female",
         "2012-10-01",
         "2:44 AM",
         41808,
         19.239,
         false,
         "Business Development"
        ],
        [
         "Phillip",
         "Male",
         "1984-10-07",
         "11:05 AM",
         36837,
         14.66,
         false,
         "Marketing"
        ],
        [
         "Jerry",
         "Male",
         "1989-03-26",
         "4:15 AM",
         140850,
         18.855,
         false,
         "Finance"
        ],
        [
         "Ronald",
         "Male",
         "1983-05-25",
         "10:05 AM",
         50426,
         18.536,
         true,
         "Sales"
        ],
        [
         "Phillip",
         "Male",
         "1984-05-15",
         "6:15 AM",
         134120,
         6.842,
         false,
         "Human Resources"
        ],
        [
         "Ryan",
         "Male",
         "2012-11-16",
         "1:47 PM",
         57292,
         6.01,
         false,
         null
        ],
        [
         "Karen",
         "Female",
         "1997-08-29",
         "4:56 PM",
         80633,
         16.306,
         false,
         "Legal"
        ],
        [
         "Bonnie",
         "Female",
         "2004-08-25",
         "2:17 AM",
         131943,
         14.249,
         false,
         "Client Services"
        ],
        [
         "Earl",
         "Male",
         "2013-06-15",
         "3:00 AM",
         48046,
         7.737,
         false,
         "Marketing"
        ],
        [
         "Katherine",
         "Female",
         "2013-08-18",
         "3:58 PM",
         97443,
         13.657,
         false,
         "Product"
        ],
        [
         "Matthew",
         "Male",
         "1995-08-03",
         "5:39 AM",
         135352,
         7.986,
         true,
         "Business Development"
        ],
        [
         "Cynthia",
         null,
         "1996-11-19",
         "10:40 PM",
         107816,
         18.751,
         false,
         "Marketing"
        ],
        [
         "Gerald",
         "Male",
         "2003-03-29",
         "10:37 AM",
         96329,
         2.469,
         true,
         "Engineering"
        ],
        [
         "Brenda",
         "Female",
         "2015-01-18",
         "4:39 PM",
         73749,
         19.332,
         false,
         "Business Development"
        ],
        [
         "Jason",
         "Male",
         "1998-05-01",
         "6:05 PM",
         75607,
         4.299,
         true,
         "Sales"
        ],
        [
         "Melissa",
         "Female",
         "1994-09-08",
         "4:11 AM",
         98858,
         3.525,
         true,
         "Human Resources"
        ],
        [
         "Beverly",
         "Female",
         "1998-04-11",
         "2:27 PM",
         76485,
         9.212,
         true,
         "Engineering"
        ],
        [
         "Terry",
         null,
         "1992-09-11",
         "4:41 PM",
         41238,
         8.219,
         false,
         "Marketing"
        ],
        [
         null,
         "Male",
         "1980-09-05",
         "7:36 AM",
         114896,
         13.823,
         null,
         "Client Services"
        ],
        [
         "Jacqueline",
         "Female",
         "2003-05-25",
         "7:13 PM",
         125418,
         8.064,
         false,
         "Distribution"
        ],
        [
         "Amy",
         "Female",
         "2009-05-20",
         "6:26 AM",
         75415,
         19.132,
         false,
         "Client Services"
        ],
        [
         "Robert",
         null,
         "2007-05-25",
         "3:17 AM",
         90998,
         8.382,
         false,
         "Finance"
        ],
        [
         "Ruby",
         "Female",
         "1980-01-28",
         "11:08 PM",
         142868,
         6.318,
         false,
         "Marketing"
        ],
        [
         "Sara",
         null,
         "2014-11-18",
         "2:47 PM",
         135990,
         14.344,
         true,
         "Distribution"
        ],
        [
         "Kathryn",
         "Female",
         "1995-10-27",
         "3:39 PM",
         57300,
         18.015,
         false,
         "Marketing"
        ],
        [
         "Lisa",
         "Female",
         "2003-10-17",
         "1:42 PM",
         73706,
         18.53,
         false,
         "Finance"
        ],
        [
         "Juan",
         "Male",
         "1993-10-06",
         "8:52 AM",
         85871,
         9.16,
         false,
         "Product"
        ],
        [
         "Anthony",
         "Male",
         "2014-01-30",
         "9:04 PM",
         96795,
         14.837,
         false,
         "Sales"
        ],
        [
         "David",
         "Male",
         "2009-12-05",
         "8:48 AM",
         92242,
         15.407,
         false,
         "Legal"
        ],
        [
         "Marilyn",
         "Female",
         "2007-10-08",
         "12:32 AM",
         115149,
         11.934,
         true,
         "Legal"
        ],
        [
         "Margaret",
         "Female",
         "2001-01-04",
         "3:07 AM",
         126924,
         1.552,
         true,
         "Finance"
        ],
        [
         null,
         "Male",
         "2015-11-24",
         "3:11 AM",
         145329,
         7.1,
         null,
         "Finance"
        ],
        [
         "Timothy",
         "Male",
         "1991-08-25",
         "10:37 AM",
         92587,
         8.475,
         false,
         "Finance"
        ],
        [
         "Brandon",
         "Male",
         "1995-10-23",
         "12:04 PM",
         60263,
         2.709,
         false,
         "Sales"
        ],
        [
         "Frank",
         "Male",
         "2013-07-27",
         "4:32 PM",
         91406,
         5.681,
         true,
         "Business Development"
        ],
        [
         "Betty",
         "Female",
         "2002-11-19",
         "10:40 AM",
         37005,
         7.645,
         true,
         "Marketing"
        ],
        [
         "Janice",
         null,
         "1991-11-19",
         "6:02 PM",
         139791,
         16.968,
         false,
         "Business Development"
        ],
        [
         "Victor",
         "Male",
         "2010-03-10",
         "5:01 PM",
         45267,
         3.942,
         true,
         "Sales"
        ],
        [
         "Kenneth",
         null,
         "1994-02-28",
         "10:10 AM",
         95296,
         10.146,
         false,
         "Finance"
        ],
        [
         "Jane",
         "Female",
         "2012-04-27",
         "2:12 PM",
         59680,
         15.211,
         true,
         "Business Development"
        ],
        [
         "Walter",
         "Male",
         "1992-05-21",
         "12:39 AM",
         144701,
         16.323,
         true,
         "Marketing"
        ],
        [
         "Christina",
         "Female",
         "2002-06-23",
         "3:18 PM",
         35477,
         18.178,
         false,
         "Human Resources"
        ],
        [
         "Patricia",
         "Female",
         "1995-10-10",
         "4:52 PM",
         119266,
         6.911,
         false,
         "Distribution"
        ],
        [
         null,
         "Male",
         "2001-05-23",
         "7:52 PM",
         103877,
         6.322,
         null,
         "Distribution"
        ],
        [
         "Heather",
         "Female",
         "1983-07-29",
         "10:48 AM",
         47605,
         14.955,
         true,
         "Human Resources"
        ],
        [
         "Stephanie",
         "Female",
         "1988-06-26",
         "5:48 AM",
         136604,
         6.16,
         true,
         "Human Resources"
        ],
        [
         "Alice",
         "Female",
         "2013-02-09",
         "12:49 AM",
         121250,
         4.363,
         true,
         "Finance"
        ],
        [
         "Frances",
         "Female",
         "2014-05-16",
         "8:31 AM",
         35884,
         17.667,
         false,
         "Sales"
        ],
        [
         "Elizabeth",
         "Female",
         "1998-07-27",
         "11:12 AM",
         137144,
         10.081,
         false,
         "Finance"
        ],
        [
         "Janice",
         "Female",
         "2009-12-17",
         "6:42 AM",
         102697,
         3.283,
         false,
         "Engineering"
        ],
        [
         "Donald",
         "Male",
         "1991-08-01",
         "2:25 AM",
         61999,
         6.466,
         false,
         "Product"
        ],
        [
         "Melissa",
         "Female",
         "2002-10-22",
         "1:20 AM",
         45223,
         8.879,
         true,
         "Legal"
        ],
        [
         "Carl",
         "Male",
         "2010-07-07",
         "1:33 PM",
         54033,
         15.528,
         true,
         "Business Development"
        ],
        [
         "Joe",
         "Male",
         "1998-12-08",
         "10:28 AM",
         126120,
         1.02,
         false,
         null
        ],
        [
         "Lois",
         "Female",
         "2015-12-11",
         "4:10 PM",
         99747,
         6.168,
         false,
         "Marketing"
        ],
        [
         "Ann",
         "Female",
         "2001-09-28",
         "6:37 AM",
         71958,
         5.272,
         true,
         "Distribution"
        ],
        [
         "Todd",
         "Male",
         "1983-01-04",
         "12:34 PM",
         115566,
         6.716,
         true,
         "Client Services"
        ],
        [
         "Marilyn",
         "Female",
         "1996-01-16",
         "7:18 AM",
         118369,
         7.696,
         true,
         "Business Development"
        ],
        [
         "Shawn",
         "Male",
         "2008-03-13",
         "5:36 PM",
         51667,
         6.339,
         false,
         "Product"
        ],
        [
         "Ryan",
         "Male",
         "1999-04-27",
         "3:41 AM",
         85858,
         19.475,
         false,
         "Client Services"
        ],
        [
         "Sean",
         "Male",
         "2009-03-21",
         "11:38 AM",
         131423,
         8.957,
         false,
         "Distribution"
        ],
        [
         "Rose",
         "Female",
         "2002-01-02",
         "9:14 PM",
         49538,
         9.828,
         false,
         "Client Services"
        ],
        [
         "George",
         "Male",
         "2015-06-05",
         "5:40 AM",
         50369,
         18.9,
         true,
         "Sales"
        ],
        [
         "Arthur",
         "Male",
         "2013-12-05",
         "8:44 AM",
         86615,
         3.412,
         true,
         "Business Development"
        ],
        [
         "Irene",
         null,
         "1991-02-28",
         "10:23 PM",
         135369,
         4.38,
         false,
         "Business Development"
        ],
        [
         "Deborah",
         "Female",
         "2003-11-11",
         "4:53 PM",
         60003,
         9.624,
         false,
         "Client Services"
        ],
        [
         null,
         "Female",
         "2000-08-23",
         "4:19 PM",
         95866,
         19.388,
         null,
         "Sales"
        ],
        [
         "Judith",
         "Female",
         "2004-03-01",
         "7:32 AM",
         109324,
         19.488,
         false,
         "Distribution"
        ],
        [
         "Philip",
         "Male",
         "2005-03-11",
         "10:56 AM",
         103557,
         16.014,
         true,
         "Business Development"
        ],
        [
         "Jeffrey",
         "Male",
         "1986-09-20",
         "6:06 AM",
         111376,
         2.673,
         true,
         "Business Development"
        ],
        [
         "Theresa",
         "Female",
         "2001-04-27",
         "9:17 PM",
         75661,
         1.079,
         true,
         "Legal"
        ],
        [
         "Nancy",
         "Female",
         "2001-09-10",
         "11:57 PM",
         85213,
         2.386,
         true,
         "Marketing"
        ],
        [
         "Harold",
         "Male",
         "2012-06-23",
         "12:40 PM",
         140444,
         3.771,
         false,
         "Distribution"
        ],
        [
         "Bonnie",
         "Female",
         "2008-12-23",
         "9:26 AM",
         90427,
         2.01,
         true,
         "Client Services"
        ],
        [
         "Doris",
         "Female",
         "1993-07-05",
         "5:54 PM",
         141439,
         3.799,
         false,
         "Business Development"
        ],
        [
         "Samuel",
         "Male",
         "1997-08-07",
         "12:40 PM",
         43694,
         3.787,
         true,
         "Engineering"
        ],
        [
         "Alice",
         "Female",
         "1996-03-23",
         "3:09 AM",
         131952,
         12.09,
         false,
         "Engineering"
        ],
        [
         "Maria",
         "Female",
         "2003-03-14",
         "5:23 PM",
         96250,
         10.056,
         false,
         "Business Development"
        ],
        [
         "Aaron",
         null,
         "1986-01-22",
         "7:39 PM",
         63126,
         18.424,
         false,
         "Client Services"
        ],
        [
         "Mark",
         null,
         "2006-09-09",
         "12:27 PM",
         44836,
         2.657,
         false,
         "Client Services"
        ],
        [
         "Ralph",
         null,
         "1995-07-28",
         "6:53 PM",
         70635,
         2.147,
         false,
         "Client Services"
        ],
        [
         "Andrew",
         "Male",
         "1990-09-28",
         "9:38 AM",
         137386,
         8.611,
         true,
         "Distribution"
        ],
        [
         "William",
         "Male",
         "1997-06-26",
         "8:33 AM",
         104840,
         15.653,
         true,
         "Engineering"
        ],
        [
         "Lori",
         "Female",
         "2015-11-20",
         "1:15 PM",
         75498,
         6.537,
         true,
         "Marketing"
        ],
        [
         "Wayne",
         "Male",
         "2006-09-08",
         "11:09 AM",
         67471,
         2.728,
         false,
         "Engineering"
        ],
        [
         "Kenneth",
         "Male",
         "2006-05-10",
         "8:24 AM",
         101914,
         1.905,
         true,
         "Distribution"
        ],
        [
         "Gerald",
         null,
         "1989-04-15",
         "12:44 PM",
         93712,
         17.426,
         true,
         "Distribution"
        ],
        [
         null,
         "Female",
         "1985-09-15",
         "1:50 AM",
         133472,
         16.941,
         null,
         "Distribution"
        ],
        [
         null,
         "Male",
         "2012-07-30",
         "3:07 PM",
         107351,
         5.329,
         null,
         "Marketing"
        ],
        [
         "Ashley",
         "Female",
         "2006-03-31",
         "1:24 PM",
         142410,
         11.048,
         true,
         "Engineering"
        ],
        [
         "Scott",
         "Male",
         "2011-08-20",
         "8:08 AM",
         37385,
         8.226,
         true,
         "Business Development"
        ],
        [
         "Paula",
         "Female",
         "1983-05-21",
         "11:42 AM",
         58423,
         10.833,
         false,
         "Business Development"
        ],
        [
         null,
         "Female",
         "2010-09-14",
         "5:19 AM",
         143638,
         9.662,
         null,
         null
        ],
        [
         "Teresa",
         "Female",
         "2013-01-22",
         "3:17 PM",
         113425,
         11.907,
         true,
         "Human Resources"
        ],
        [
         "Randy",
         "Male",
         "2012-02-25",
         "5:33 AM",
         57266,
         14.077,
         false,
         "Product"
        ],
        [
         "Joe",
         "Male",
         "1980-01-19",
         "4:06 PM",
         119667,
         1.148,
         true,
         "Finance"
        ],
        [
         "Sarah",
         "Female",
         "2014-08-17",
         "11:08 PM",
         127118,
         11.176,
         false,
         "Legal"
        ],
        [
         "Beverly",
         "Female",
         "1986-10-17",
         "12:51 AM",
         80838,
         8.115,
         false,
         "Engineering"
        ],
        [
         "Jeffrey",
         "Male",
         "1984-02-03",
         "1:26 PM",
         70990,
         15.901,
         true,
         "Sales"
        ],
        [
         "Gloria",
         "Female",
         "1987-10-24",
         "4:43 AM",
         39833,
         9.631,
         false,
         "Engineering"
        ],
        [
         "Albert",
         "Male",
         "1992-09-19",
         "2:35 AM",
         45094,
         5.85,
         true,
         "Business Development"
        ],
        [
         "Stephen",
         "Male",
         "1989-10-29",
         "11:34 PM",
         93997,
         18.093,
         true,
         "Business Development"
        ],
        [
         "Antonio",
         null,
         "1989-06-18",
         "9:37 PM",
         103050,
         3.05,
         false,
         "Legal"
        ],
        [
         "Jonathan",
         "Male",
         "2013-08-21",
         "12:45 AM",
         121797,
         16.923,
         false,
         "Product"
        ],
        [
         "Ann",
         "Female",
         "1994-09-23",
         "11:15 AM",
         89443,
         17.94,
         true,
         "Sales"
        ],
        [
         "Bruce",
         "Male",
         "1980-05-07",
         "8:00 PM",
         35802,
         12.391,
         true,
         "Sales"
        ],
        [
         "Catherine",
         "Female",
         "1989-09-25",
         "1:31 AM",
         68164,
         18.393,
         false,
         "Client Services"
        ],
        [
         "Louis",
         "Male",
         "2011-08-16",
         "5:19 PM",
         93022,
         9.146,
         true,
         "Human Resources"
        ],
        [
         "Thomas",
         "Male",
         "2016-03-12",
         "3:10 PM",
         105681,
         19.572,
         false,
         "Engineering"
        ],
        [
         "Louise",
         "Female",
         "1995-03-27",
         "10:27 PM",
         43050,
         11.671,
         false,
         "Distribution"
        ],
        [
         "Linda",
         "Female",
         "2010-02-04",
         "8:49 PM",
         44486,
         17.308,
         true,
         "Engineering"
        ],
        [
         "Alice",
         "Female",
         "1988-09-03",
         "8:54 PM",
         63571,
         15.397,
         true,
         "Product"
        ],
        [
         "Patrick",
         "Male",
         "2002-12-30",
         "2:01 AM",
         75423,
         5.368,
         true,
         "Business Development"
        ],
        [
         "Victor",
         null,
         "2006-07-28",
         "2:49 PM",
         76381,
         11.159,
         true,
         "Sales"
        ],
        [
         "Russell",
         "Male",
         "2013-05-10",
         "11:08 PM",
         137359,
         11.105,
         false,
         "Business Development"
        ],
        [
         "Harry",
         "Male",
         "2011-08-30",
         "6:31 PM",
         67656,
         16.455,
         true,
         "Client Services"
        ],
        [
         "Susan",
         "Female",
         "1995-04-07",
         "10:05 PM",
         92436,
         12.467,
         false,
         "Sales"
        ],
        [
         "Denise",
         "Female",
         "1992-10-19",
         "5:42 AM",
         137954,
         4.195,
         true,
         "Legal"
        ],
        [
         "Sarah",
         "Female",
         "1995-12-04",
         "9:16 AM",
         124566,
         5.949,
         false,
         "Product"
        ],
        [
         "Sean",
         "Male",
         "1983-01-17",
         "2:23 PM",
         66146,
         11.178,
         false,
         "Human Resources"
        ],
        [
         "Ernest",
         "Male",
         "2013-07-20",
         "6:41 AM",
         142935,
         13.198,
         true,
         "Product"
        ],
        [
         "Kimberly",
         "Female",
         "2013-01-26",
         "12:57 AM",
         46233,
         8.862,
         true,
         "Engineering"
        ],
        [
         "James",
         "Male",
         "1993-01-15",
         "5:19 PM",
         148985,
         19.28,
         false,
         "Legal"
        ],
        [
         "Rose",
         "Female",
         "1982-04-06",
         "10:43 AM",
         91411,
         8.639,
         true,
         "Human Resources"
        ],
        [
         "John",
         "Male",
         "1982-12-23",
         "10:35 PM",
         146907,
         11.738,
         false,
         "Engineering"
        ],
        [
         "Maria",
         "Female",
         "2011-10-15",
         "4:53 PM",
         43455,
         13.04,
         false,
         "Engineering"
        ],
        [
         "Stephen",
         null,
         "1983-07-10",
         "8:10 PM",
         85668,
         1.909,
         false,
         "Legal"
        ],
        [
         "Donna",
         "Female",
         "1982-11-26",
         "7:04 AM",
         82871,
         17.999,
         false,
         "Marketing"
        ],
        [
         "Gloria",
         "Female",
         "2014-12-08",
         "5:08 AM",
         136709,
         10.331,
         true,
         "Finance"
        ],
        [
         "Alice",
         "Female",
         "2004-10-05",
         "9:34 AM",
         47638,
         11.209,
         false,
         "Human Resources"
        ],
        [
         "Justin",
         null,
         "1991-02-10",
         "4:58 PM",
         38344,
         3.794,
         false,
         "Legal"
        ],
        [
         "Robin",
         "Female",
         "1987-07-24",
         "1:35 PM",
         100765,
         10.982,
         true,
         "Client Services"
        ],
        [
         "Rose",
         "Female",
         "2002-08-25",
         "5:12 AM",
         134505,
         11.051,
         true,
         "Marketing"
        ],
        [
         "Anthony",
         "Male",
         "2011-10-16",
         "8:35 AM",
         112769,
         11.625,
         true,
         "Finance"
        ],
        [
         "Tina",
         "Female",
         "1997-05-15",
         "3:53 PM",
         56450,
         19.04,
         true,
         "Engineering"
        ],
        [
         "George",
         "Male",
         "2013-06-21",
         "5:47 PM",
         98874,
         4.479,
         true,
         "Marketing"
        ],
        [
         "Henry",
         null,
         "2014-11-23",
         "6:09 AM",
         132483,
         16.655,
         false,
         "Distribution"
        ],
        [
         "Phillip",
         "Male",
         "1984-01-31",
         "6:30 AM",
         42392,
         19.675,
         false,
         "Finance"
        ],
        [
         "Russell",
         "Male",
         "2013-05-20",
         "12:39 PM",
         96914,
         1.421,
         false,
         "Product"
        ],
        [
         "Larry",
         "Male",
         "2013-04-20",
         "4:45 PM",
         60500,
         11.985,
         false,
         "Business Development"
        ],
        [
         "Albert",
         "Male",
         "2012-05-15",
         "6:24 PM",
         129949,
         10.169,
         true,
         "Sales"
        ]
       ],
       "datasetInfos": [],
       "dbfsResultPath": null,
       "isJsonSchema": true,
       "metadata": {},
       "overflow": false,
       "plotOptions": {
        "customPlotOptions": {},
        "displayType": "table",
        "pivotAggregation": null,
        "pivotColumns": null,
        "xColumns": null,
        "yColumns": null
       },
       "removedWidgets": [],
       "schema": [
        {
         "metadata": "{}",
         "name": "First Name",
         "type": "\"string\""
        },
        {
         "metadata": "{}",
         "name": "Gender",
         "type": "\"string\""
        },
        {
         "metadata": "{\"__detected_date_formats\":\"M/d/yyyy\"}",
         "name": "Start Date",
         "type": "\"date\""
        },
        {
         "metadata": "{}",
         "name": "Last Login Time",
         "type": "\"string\""
        },
        {
         "metadata": "{}",
         "name": "Salary",
         "type": "\"integer\""
        },
        {
         "metadata": "{}",
         "name": "Bonus %",
         "type": "\"double\""
        },
        {
         "metadata": "{}",
         "name": "Senior Management",
         "type": "\"boolean\""
        },
        {
         "metadata": "{}",
         "name": "Team",
         "type": "\"string\""
        }
       ],
       "type": "table"
      }
     },
     "output_type": "display_data"
    }
   ],
   "source": [
    "%sql\n",
    "select * from global_temp.amantableglobal "
   ]
  },
  {
   "cell_type": "code",
   "execution_count": 0,
   "metadata": {
    "application/vnd.databricks.v1+cell": {
     "cellMetadata": {},
     "inputWidgets": {},
     "nuid": "cefffffe-3cd3-4274-bde9-9b9c6286cfa5",
     "showTitle": false,
     "title": ""
    }
   },
   "outputs": [],
   "source": []
  },
  {
   "cell_type": "code",
   "execution_count": 0,
   "metadata": {
    "application/vnd.databricks.v1+cell": {
     "cellMetadata": {},
     "inputWidgets": {},
     "nuid": "ed7d2aee-ca8f-4c6b-a019-9e2a23a3006e",
     "showTitle": false,
     "title": ""
    }
   },
   "outputs": [],
   "source": []
  },
  {
   "cell_type": "code",
   "execution_count": 0,
   "metadata": {
    "application/vnd.databricks.v1+cell": {
     "cellMetadata": {},
     "inputWidgets": {},
     "nuid": "b4ba9ee2-9d9f-4349-9dd8-b2280492256c",
     "showTitle": false,
     "title": ""
    }
   },
   "outputs": [],
   "source": []
  },
  {
   "cell_type": "code",
   "execution_count": 0,
   "metadata": {
    "application/vnd.databricks.v1+cell": {
     "cellMetadata": {},
     "inputWidgets": {},
     "nuid": "98c6f7bb-e79e-4d33-9f72-0b7b3a9f2ffb",
     "showTitle": false,
     "title": ""
    }
   },
   "outputs": [],
   "source": []
  }
 ],
 "metadata": {
  "application/vnd.databricks.v1+notebook": {
   "dashboards": [],
   "language": "python",
   "notebookMetadata": {
    "mostRecentlyExecutedCommandWithImplicitDF": {
     "commandId": 1466998747281943,
     "dataframes": [
      "_sqldf"
     ]
    },
    "pythonIndentUnit": 4
   },
   "notebookName": "sparkamansql2",
   "widgets": {}
  }
 },
 "nbformat": 4,
 "nbformat_minor": 0
}
